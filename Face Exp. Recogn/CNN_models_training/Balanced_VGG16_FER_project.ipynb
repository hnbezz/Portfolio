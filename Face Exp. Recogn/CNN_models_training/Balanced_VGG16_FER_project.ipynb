{
 "cells": [
  {
   "cell_type": "code",
   "execution_count": 1,
   "metadata": {
    "colab": {},
    "colab_type": "code",
    "id": "QMljd0ar0v-3"
   },
   "outputs": [],
   "source": [
    "import pandas as pd\n",
    "import numpy as np\n",
    "import tensorflow as tf\n",
    "import matplotlib.pyplot as plt\n",
    "import itertools\n",
    "import zipfile\n",
    "\n",
    "from tensorflow.keras.layers import Input, Conv2D, Dense, Flatten, Dropout, GlobalMaxPooling2D, MaxPooling2D, BatchNormalization, GlobalAveragePooling2D\n",
    "from tensorflow.keras.models import Model\n",
    "from tensorboard.plugins.hparams import api as hp\n",
    "from sklearn.metrics import confusion_matrix, plot_confusion_matrix, accuracy_score"
   ]
  },
  {
   "cell_type": "code",
   "execution_count": 3,
   "metadata": {
    "colab": {
     "base_uri": "https://localhost:8080/",
     "height": 204
    },
    "colab_type": "code",
    "id": "G4gayGFR5tIA",
    "outputId": "a1f0664d-c492-41d8-88e0-fb1c54464d28"
   },
   "outputs": [
    {
     "data": {
      "text/html": [
       "<div>\n",
       "<style scoped>\n",
       "    .dataframe tbody tr th:only-of-type {\n",
       "        vertical-align: middle;\n",
       "    }\n",
       "\n",
       "    .dataframe tbody tr th {\n",
       "        vertical-align: top;\n",
       "    }\n",
       "\n",
       "    .dataframe thead th {\n",
       "        text-align: right;\n",
       "    }\n",
       "</style>\n",
       "<table border=\"1\" class=\"dataframe\">\n",
       "  <thead>\n",
       "    <tr style=\"text-align: right;\">\n",
       "      <th></th>\n",
       "      <th>emotion</th>\n",
       "      <th>pixels</th>\n",
       "      <th>Usage</th>\n",
       "    </tr>\n",
       "  </thead>\n",
       "  <tbody>\n",
       "    <tr>\n",
       "      <th>0</th>\n",
       "      <td>0</td>\n",
       "      <td>70 80 82 72 58 58 60 63 54 58 60 48 89 115 121...</td>\n",
       "      <td>Training</td>\n",
       "    </tr>\n",
       "    <tr>\n",
       "      <th>1</th>\n",
       "      <td>0</td>\n",
       "      <td>151 150 147 155 148 133 111 140 170 174 182 15...</td>\n",
       "      <td>Training</td>\n",
       "    </tr>\n",
       "    <tr>\n",
       "      <th>2</th>\n",
       "      <td>2</td>\n",
       "      <td>231 212 156 164 174 138 161 173 182 200 106 38...</td>\n",
       "      <td>Training</td>\n",
       "    </tr>\n",
       "    <tr>\n",
       "      <th>3</th>\n",
       "      <td>4</td>\n",
       "      <td>24 32 36 30 32 23 19 20 30 41 21 22 32 34 21 1...</td>\n",
       "      <td>Training</td>\n",
       "    </tr>\n",
       "    <tr>\n",
       "      <th>4</th>\n",
       "      <td>6</td>\n",
       "      <td>4 0 0 0 0 0 0 0 0 0 0 0 3 15 23 28 48 50 58 84...</td>\n",
       "      <td>Training</td>\n",
       "    </tr>\n",
       "  </tbody>\n",
       "</table>\n",
       "</div>"
      ],
      "text/plain": [
       "   emotion                                             pixels     Usage\n",
       "0        0  70 80 82 72 58 58 60 63 54 58 60 48 89 115 121...  Training\n",
       "1        0  151 150 147 155 148 133 111 140 170 174 182 15...  Training\n",
       "2        2  231 212 156 164 174 138 161 173 182 200 106 38...  Training\n",
       "3        4  24 32 36 30 32 23 19 20 30 41 21 22 32 34 21 1...  Training\n",
       "4        6  4 0 0 0 0 0 0 0 0 0 0 0 3 15 23 28 48 50 58 84...  Training"
      ]
     },
     "execution_count": 3,
     "metadata": {
      "tags": []
     },
     "output_type": "execute_result"
    }
   ],
   "source": [
    "zf = zipfile.ZipFile('fer2013.zip') \n",
    "raw_data = pd.read_csv(zf.open('fer2013.csv'))\n",
    "raw_data.head()"
   ]
  },
  {
   "cell_type": "code",
   "execution_count": 4,
   "metadata": {
    "colab": {},
    "colab_type": "code",
    "id": "XSZo2AdrKSb3"
   },
   "outputs": [],
   "source": [
    "labels_mapping = {0: 'Anger', 1: 'Disgust', 2: 'Fear', 3: 'Happy', 4: 'Sad', 5: 'Surprise', 6: 'Neutral'}"
   ]
  },
  {
   "cell_type": "code",
   "execution_count": 5,
   "metadata": {
    "colab": {},
    "colab_type": "code",
    "id": "O4Oxsdz9KW-q"
   },
   "outputs": [],
   "source": [
    "def sep_data(df):\n",
    "    '''\n",
    "        Separates the train, validation and test data.\n",
    "    '''\n",
    "    train_data = df[df['Usage']=='Training'].reset_index().drop('index', axis=1)\n",
    "    valid_data = df[df['Usage']=='PrivateTest'].reset_index().drop('index', axis=1)\n",
    "    test_data = df[df['Usage']=='PublicTest'].reset_index().drop('index', axis=1)\n",
    "    \n",
    "    x_train = np.zeros((len(train_data),48,48))\n",
    "    for i in range(len(train_data)):\n",
    "        x_train[i] = np.array(train_data['pixels'][i].split()).astype(np.int).reshape(48,48)\n",
    "    y_train = train_data.emotion\n",
    "    \n",
    "    x_valid = np.zeros((len(valid_data),48,48))\n",
    "    for i in range(len(valid_data)):\n",
    "        x_valid[i] = np.array(valid_data['pixels'][i].split()).astype(np.int).reshape(48,48)\n",
    "    y_valid = valid_data.emotion\n",
    "    \n",
    "    x_test = np.zeros((len(test_data),48,48))\n",
    "    for i in range(len(test_data)):\n",
    "        x_test[i] = np.array(test_data['pixels'][i].split()).astype(np.int).reshape(48,48)\n",
    "    y_test = test_data.emotion\n",
    "    \n",
    "    return x_train, y_train, x_test, y_test, x_valid, y_valid"
   ]
  },
  {
   "cell_type": "code",
   "execution_count": 6,
   "metadata": {
    "colab": {},
    "colab_type": "code",
    "id": "xvnMr0yYKXlg"
   },
   "outputs": [],
   "source": [
    "x_train, y_train, x_test, y_test, x_valid, y_valid = sep_data(raw_data)"
   ]
  },
  {
   "cell_type": "code",
   "execution_count": 7,
   "metadata": {
    "colab": {
     "base_uri": "https://localhost:8080/",
     "height": 242
    },
    "colab_type": "code",
    "id": "wgsHKHgyKZHU",
    "outputId": "51998079-663a-4462-e09f-ebd5353b72b9"
   },
   "outputs": [
    {
     "data": {
      "image/png": "[encoded data removed]",
      "text/plain": [
       "<Figure size 432x288 with 7 Axes>"
      ]
     },
     "metadata": {
      "needs_background": "light",
      "tags": []
     },
     "output_type": "display_data"
    }
   ],
   "source": [
    "for i in range(len(labels_mapping)):\n",
    "    emotion_ind = np.where(y_train==i)[0]\n",
    "    ind = np.random.choice(emotion_ind)\n",
    "    plt.subplot(2,4,i+1)\n",
    "    plt.imshow(x_train[ind], cmap='gray')\n",
    "    plt.title(labels_mapping[i])\n",
    "    frame1 = plt.gca()\n",
    "    frame1.axes.get_xaxis().set_visible(False)\n",
    "    frame1.axes.get_yaxis().set_visible(False)"
   ]
  },
  {
   "cell_type": "code",
   "execution_count": 8,
   "metadata": {
    "colab": {},
    "colab_type": "code",
    "id": "-z320SwXKiQP"
   },
   "outputs": [],
   "source": [
    "def img_preproc(x_train, x_test, x_valid):\n",
    "    '''\n",
    "    Normalizes the images and expands one dimension.\n",
    "    '''\n",
    "    x_train, x_test, x_valid = x_train/255.0, x_test/255.0, x_valid/255.0\n",
    "    \n",
    "    x_train = np.expand_dims(x_train, -1)\n",
    "    x_test = np.expand_dims(x_test, -1)\n",
    "    x_test = np.expand_dims(x_test, -1)\n",
    "    \n",
    "    return x_train, x_test, x_valid"
   ]
  },
  {
   "cell_type": "code",
   "execution_count": 9,
   "metadata": {
    "colab": {},
    "colab_type": "code",
    "id": "BPSWHvyfKqt9"
   },
   "outputs": [],
   "source": [
    "x_train, x_test, x_valid = img_preproc(x_train, x_test, x_valid)"
   ]
  },
  {
   "cell_type": "code",
   "execution_count": 10,
   "metadata": {
    "colab": {
     "base_uri": "https://localhost:8080/",
     "height": 34
    },
    "colab_type": "code",
    "id": "1bJ35VrAKsCm",
    "outputId": "06ce9983-80b2-44f1-e2a4-794eeb7e4775"
   },
   "outputs": [
    {
     "name": "stdout",
     "output_type": "stream",
     "text": [
      "the number of classes is 7.\n"
     ]
    }
   ],
   "source": [
    "# the number of classes\n",
    "K = len(set(y_train))\n",
    "print(\"the number of classes is {}.\".format(K))"
   ]
  },
  {
   "cell_type": "code",
   "execution_count": 11,
   "metadata": {
    "colab": {
     "base_uri": "https://localhost:8080/",
     "height": 136
    },
    "colab_type": "code",
    "id": "tOdfpZTYtt9t",
    "outputId": "45172018-ba26-42d8-89a5-b158cb1d3575"
   },
   "outputs": [
    {
     "data": {
      "text/plain": [
       "{0: 1.0266046844269623,\n",
       " 1: 9.406618610747053,\n",
       " 2: 1.0010460615781582,\n",
       " 3: 0.5684387684387685,\n",
       " 4: 0.8491274770777877,\n",
       " 5: 1.293372978330405,\n",
       " 6: 0.8260394187886636}"
      ]
     },
     "execution_count": 11,
     "metadata": {
      "tags": []
     },
     "output_type": "execute_result"
    }
   ],
   "source": [
    "lY = len(y_train)\n",
    "label_weights = {i: (1 / y_train[y_train==i].value_counts()[i])*(lY/7.0) for i in range(K)}\n",
    "label_weights"
   ]
  },
  {
   "cell_type": "code",
   "execution_count": 12,
   "metadata": {
    "colab": {},
    "colab_type": "code",
    "id": "2zl2ETfqKt7X"
   },
   "outputs": [],
   "source": [
    "#Hyperparameters\n",
    "filters1 = 64\n",
    "filters2 = 128\n",
    "filters3 = 256\n",
    "filters4 = 512\n",
    "kernel_size = (3,3)\n",
    "activ1='relu'\n",
    "dropout_perc = 0.1\n",
    "pad = 'same'\n",
    "maxp = (2,2)\n",
    "mp2d_stride = (2,2)\n",
    "dense_units = 4096\n",
    "\n",
    "#Building the model VGG16 using the functional API\n",
    "\n",
    "i = Input(shape=x_train[0].shape) # This instantiate the input\n",
    "\n",
    "'''\n",
    "I removed the strides because for this small images, normal convolution followed by MaxPooling peforms better\n",
    "'''\n",
    "\n",
    "x = Conv2D(filters1, kernel_size, activation=activ1, padding=pad)(i) # This does the 1st convolution.\n",
    "x = BatchNormalization()(x)\n",
    "x = Conv2D(filters1, kernel_size, activation=activ1, padding=pad)(x) # This does the 2nd convolution.\n",
    "x = BatchNormalization()(x)\n",
    "x = MaxPooling2D(pool_size=maxp, strides=mp2d_stride)(x)\n",
    "x = Conv2D(filters2, kernel_size, activation=activ1, padding=pad)(x) # This does the 3rd convolution.\n",
    "x = BatchNormalization()(x)\n",
    "x = Conv2D(filters2, kernel_size, activation=activ1, padding=pad)(x) # This does the 4th convolution.\n",
    "x = BatchNormalization()(x)\n",
    "x = MaxPooling2D(pool_size=maxp, strides=mp2d_stride)(x)\n",
    "x = Conv2D(filters3, kernel_size, activation=activ1, padding=pad)(x) # This does the 5th convolution.\n",
    "x = BatchNormalization()(x)\n",
    "x = Conv2D(filters3, kernel_size, activation=activ1, padding=pad)(x) # This does the 6th convolution.\n",
    "x = BatchNormalization()(x)\n",
    "x = Conv2D(filters3, kernel_size, activation=activ1, padding=pad)(x) # This does the 7th convolution.\n",
    "x = BatchNormalization()(x)\n",
    "x = MaxPooling2D(pool_size=maxp, strides=mp2d_stride)(x)\n",
    "x = Conv2D(filters4, kernel_size, activation=activ1, padding=pad)(x) # This does the 8th convolution.\n",
    "x = BatchNormalization()(x)\n",
    "x = Conv2D(filters4, kernel_size, activation=activ1, padding=pad)(x) # This does the 9th convolution.\n",
    "x = BatchNormalization()(x)\n",
    "x = Conv2D(filters4, kernel_size, activation=activ1, padding=pad)(x) # This does the 10th convolution.\n",
    "x = BatchNormalization()(x)\n",
    "x = MaxPooling2D(pool_size=maxp, strides=mp2d_stride)(x)\n",
    "x = Conv2D(filters4, kernel_size, activation=activ1, padding=pad)(x) # This does the 11th convolution.\n",
    "x = BatchNormalization()(x)\n",
    "x = Conv2D(filters4, kernel_size, activation=activ1, padding=pad)(x) # This does the 12th convolution.\n",
    "x = BatchNormalization()(x)\n",
    "x = Conv2D(filters4, kernel_size, activation=activ1, padding=pad)(x) # This does the 13th convolution.\n",
    "x = BatchNormalization()(x)\n",
    "\n",
    "# Using GlobalAveragePooling2D because in some previous trials it showed to deliver a better result.\n",
    "x = GlobalAveragePooling2D()(x)\n",
    "\n",
    "x = Flatten()(x) # We need to flatten in order to pass it to the Dense layers\n",
    "x = Dropout(dropout_perc)(x)\n",
    "x = Dense(4096, activation=activ1)(x)\n",
    "x = Dropout(dropout_perc)(x)\n",
    "x = Dense(4096, activation=activ1)(x)\n",
    "x = Dropout(dropout_perc)(x)\n",
    "x = Dense(K, activation='softmax')(x)\n",
    "\n",
    "balanced_VGG16 = Model(i, x)"
   ]
  },
  {
   "cell_type": "code",
   "execution_count": 13,
   "metadata": {
    "colab": {},
    "colab_type": "code",
    "id": "6ROtpdSyKvcQ"
   },
   "outputs": [],
   "source": [
    "balanced_VGG16.compile(optimizer='nadam',\n",
    "              loss='sparse_categorical_crossentropy',\n",
    "              metrics=['accuracy'])"
   ]
  },
  {
   "cell_type": "code",
   "execution_count": 14,
   "metadata": {
    "colab": {
     "base_uri": "https://localhost:8080/",
     "height": 1000
    },
    "colab_type": "code",
    "id": "QzgCW_x6Kw9E",
    "outputId": "31aeb9dc-ae10-43d8-b8e3-0db5576a50b5"
   },
   "outputs": [
    {
     "name": "stdout",
     "output_type": "stream",
     "text": [
      "Epoch 1/200\n",
      "599/598 [==============================] - ETA: 0s - loss: 1.9583 - accuracy: 0.1542\n",
      "Epoch 00001: val_accuracy improved from -inf to 0.16551, saving model to balanced_VGG16.hdf5\n",
      "599/598 [==============================] - 115s 192ms/step - loss: 1.9583 - accuracy: 0.1542 - val_loss: 1.9035 - val_accuracy: 0.1655\n",
      "Epoch 2/200\n",
      "599/598 [==============================] - ETA: 0s - loss: 1.9337 - accuracy: 0.1560\n",
      "Epoch 00002: val_accuracy did not improve from 0.16551\n",
      "599/598 [==============================] - 111s 186ms/step - loss: 1.9337 - accuracy: 0.1560 - val_loss: 1.9925 - val_accuracy: 0.0925\n",
      "Epoch 3/200\n",
      "599/598 [==============================] - ETA: 0s - loss: 1.8638 - accuracy: 0.2134\n",
      "Epoch 00003: val_accuracy did not improve from 0.16551\n",
      "599/598 [==============================] - 111s 186ms/step - loss: 1.8638 - accuracy: 0.2134 - val_loss: 5.1270 - val_accuracy: 0.1162\n",
      "Epoch 4/200\n",
      "599/598 [==============================] - ETA: 0s - loss: 1.8049 - accuracy: 0.2399\n",
      "Epoch 00004: val_accuracy improved from 0.16551 to 0.28504, saving model to balanced_VGG16.hdf5\n",
      "599/598 [==============================] - 113s 188ms/step - loss: 1.8049 - accuracy: 0.2399 - val_loss: 1.8424 - val_accuracy: 0.2850\n",
      "Epoch 5/200\n",
      "599/598 [==============================] - ETA: 0s - loss: 1.7156 - accuracy: 0.3089\n",
      "Epoch 00005: val_accuracy improved from 0.28504 to 0.31987, saving model to balanced_VGG16.hdf5\n",
      "599/598 [==============================] - 112s 188ms/step - loss: 1.7156 - accuracy: 0.3089 - val_loss: 1.7204 - val_accuracy: 0.3199\n",
      "Epoch 6/200\n",
      "599/598 [==============================] - ETA: 0s - loss: 1.5853 - accuracy: 0.3906\n",
      "Epoch 00006: val_accuracy improved from 0.31987 to 0.40262, saving model to balanced_VGG16.hdf5\n",
      "599/598 [==============================] - 112s 188ms/step - loss: 1.5853 - accuracy: 0.3906 - val_loss: 1.6329 - val_accuracy: 0.4026\n",
      "Epoch 7/200\n",
      "599/598 [==============================] - ETA: 0s - loss: 1.4798 - accuracy: 0.4297\n",
      "Epoch 00007: val_accuracy improved from 0.40262 to 0.41767, saving model to balanced_VGG16.hdf5\n",
      "599/598 [==============================] - 113s 188ms/step - loss: 1.4798 - accuracy: 0.4297 - val_loss: 1.5614 - val_accuracy: 0.4177\n",
      "Epoch 8/200\n",
      "599/598 [==============================] - ETA: 0s - loss: 1.4245 - accuracy: 0.4456\n",
      "Epoch 00008: val_accuracy did not improve from 0.41767\n",
      "599/598 [==============================] - 111s 186ms/step - loss: 1.4245 - accuracy: 0.4456 - val_loss: 1.8558 - val_accuracy: 0.3199\n",
      "Epoch 9/200\n",
      "599/598 [==============================] - ETA: 0s - loss: 1.3598 - accuracy: 0.4739\n",
      "Epoch 00009: val_accuracy did not improve from 0.41767\n",
      "599/598 [==============================] - 111s 185ms/step - loss: 1.3598 - accuracy: 0.4739 - val_loss: 1.6590 - val_accuracy: 0.3697\n",
      "Epoch 10/200\n",
      "599/598 [==============================] - ETA: 0s - loss: 1.3202 - accuracy: 0.4875\n",
      "Epoch 00010: val_accuracy improved from 0.41767 to 0.42157, saving model to balanced_VGG16.hdf5\n",
      "599/598 [==============================] - 112s 188ms/step - loss: 1.3202 - accuracy: 0.4875 - val_loss: 1.6034 - val_accuracy: 0.4216\n",
      "Epoch 11/200\n",
      "599/598 [==============================] - ETA: 0s - loss: 1.2773 - accuracy: 0.5025\n",
      "Epoch 00011: val_accuracy improved from 0.42157 to 0.51964, saving model to balanced_VGG16.hdf5\n",
      "599/598 [==============================] - 112s 188ms/step - loss: 1.2773 - accuracy: 0.5025 - val_loss: 1.2300 - val_accuracy: 0.5196\n",
      "Epoch 12/200\n",
      "599/598 [==============================] - ETA: 0s - loss: 1.2338 - accuracy: 0.5239\n",
      "Epoch 00012: val_accuracy improved from 0.51964 to 0.53190, saving model to balanced_VGG16.hdf5\n",
      "599/598 [==============================] - 112s 188ms/step - loss: 1.2338 - accuracy: 0.5239 - val_loss: 1.2852 - val_accuracy: 0.5319\n",
      "Epoch 13/200\n",
      "599/598 [==============================] - ETA: 0s - loss: 1.2286 - accuracy: 0.5172\n",
      "Epoch 00013: val_accuracy improved from 0.53190 to 0.54221, saving model to balanced_VGG16.hdf5\n",
      "599/598 [==============================] - 112s 188ms/step - loss: 1.2286 - accuracy: 0.5172 - val_loss: 1.1644 - val_accuracy: 0.5422\n",
      "Epoch 14/200\n",
      "599/598 [==============================] - ETA: 0s - loss: 1.2058 - accuracy: 0.5306\n",
      "Epoch 00014: val_accuracy did not improve from 0.54221\n",
      "599/598 [==============================] - 111s 186ms/step - loss: 1.2058 - accuracy: 0.5306 - val_loss: 1.2054 - val_accuracy: 0.5358\n",
      "Epoch 15/200\n",
      "599/598 [==============================] - ETA: 0s - loss: 1.1688 - accuracy: 0.5421\n",
      "Epoch 00015: val_accuracy did not improve from 0.54221\n",
      "599/598 [==============================] - 111s 186ms/step - loss: 1.1688 - accuracy: 0.5421 - val_loss: 1.3021 - val_accuracy: 0.4893\n",
      "Epoch 16/200\n",
      "599/598 [==============================] - ETA: 0s - loss: 1.1319 - accuracy: 0.5541\n",
      "Epoch 00016: val_accuracy improved from 0.54221 to 0.55559, saving model to balanced_VGG16.hdf5\n",
      "599/598 [==============================] - 113s 188ms/step - loss: 1.1319 - accuracy: 0.5541 - val_loss: 1.1968 - val_accuracy: 0.5556\n",
      "Epoch 17/200\n",
      "599/598 [==============================] - ETA: 0s - loss: 1.1189 - accuracy: 0.5592\n",
      "Epoch 00017: val_accuracy improved from 0.55559 to 0.57788, saving model to balanced_VGG16.hdf5\n",
      "599/598 [==============================] - 113s 188ms/step - loss: 1.1189 - accuracy: 0.5592 - val_loss: 1.1291 - val_accuracy: 0.5779\n",
      "Epoch 18/200\n",
      "599/598 [==============================] - ETA: 0s - loss: 1.0948 - accuracy: 0.5702\n",
      "Epoch 00018: val_accuracy did not improve from 0.57788\n",
      "599/598 [==============================] - 111s 186ms/step - loss: 1.0948 - accuracy: 0.5702 - val_loss: 1.3131 - val_accuracy: 0.5141\n",
      "Epoch 19/200\n",
      "599/598 [==============================] - ETA: 0s - loss: 1.0689 - accuracy: 0.5774\n",
      "Epoch 00019: val_accuracy did not improve from 0.57788\n",
      "599/598 [==============================] - 111s 186ms/step - loss: 1.0689 - accuracy: 0.5774 - val_loss: 1.0942 - val_accuracy: 0.5768\n",
      "Epoch 20/200\n",
      "599/598 [==============================] - ETA: 0s - loss: 1.0538 - accuracy: 0.5835\n",
      "Epoch 00020: val_accuracy did not improve from 0.57788\n",
      "599/598 [==============================] - 111s 185ms/step - loss: 1.0538 - accuracy: 0.5835 - val_loss: 1.1121 - val_accuracy: 0.5720\n",
      "Epoch 21/200\n",
      "599/598 [==============================] - ETA: 0s - loss: 1.0537 - accuracy: 0.5849\n",
      "Epoch 00021: val_accuracy did not improve from 0.57788\n",
      "599/598 [==============================] - 111s 186ms/step - loss: 1.0537 - accuracy: 0.5849 - val_loss: 1.1969 - val_accuracy: 0.5408\n",
      "Epoch 22/200\n",
      "599/598 [==============================] - ETA: 0s - loss: 1.0119 - accuracy: 0.5963\n",
      "Epoch 00022: val_accuracy improved from 0.57788 to 0.58233, saving model to balanced_VGG16.hdf5\n",
      "599/598 [==============================] - 113s 188ms/step - loss: 1.0119 - accuracy: 0.5963 - val_loss: 1.0824 - val_accuracy: 0.5823\n",
      "Epoch 23/200\n",
      "599/598 [==============================] - ETA: 0s - loss: 0.9986 - accuracy: 0.6049\n",
      "Epoch 00023: val_accuracy improved from 0.58233 to 0.58429, saving model to balanced_VGG16.hdf5\n",
      "599/598 [==============================] - 113s 188ms/step - loss: 0.9986 - accuracy: 0.6049 - val_loss: 1.1059 - val_accuracy: 0.5843\n",
      "Epoch 24/200\n",
      "599/598 [==============================] - ETA: 0s - loss: 0.9878 - accuracy: 0.6091\n",
      "Epoch 00024: val_accuracy improved from 0.58429 to 0.59961, saving model to balanced_VGG16.hdf5\n",
      "599/598 [==============================] - 112s 188ms/step - loss: 0.9878 - accuracy: 0.6091 - val_loss: 1.0544 - val_accuracy: 0.5996\n",
      "Epoch 25/200\n",
      "599/598 [==============================] - ETA: 0s - loss: 0.9636 - accuracy: 0.6206\n",
      "Epoch 00025: val_accuracy improved from 0.59961 to 0.61076, saving model to balanced_VGG16.hdf5\n",
      "599/598 [==============================] - 112s 188ms/step - loss: 0.9636 - accuracy: 0.6206 - val_loss: 1.0227 - val_accuracy: 0.6108\n",
      "Epoch 26/200\n",
      "599/598 [==============================] - ETA: 0s - loss: 0.9423 - accuracy: 0.6247\n",
      "Epoch 00026: val_accuracy improved from 0.61076 to 0.61103, saving model to balanced_VGG16.hdf5\n",
      "599/598 [==============================] - 112s 188ms/step - loss: 0.9423 - accuracy: 0.6247 - val_loss: 1.0363 - val_accuracy: 0.6110\n",
      "Epoch 27/200\n",
      "599/598 [==============================] - ETA: 0s - loss: 0.9250 - accuracy: 0.6347\n",
      "Epoch 00027: val_accuracy did not improve from 0.61103\n",
      "599/598 [==============================] - 111s 185ms/step - loss: 0.9250 - accuracy: 0.6347 - val_loss: 1.0342 - val_accuracy: 0.6046\n",
      "Epoch 28/200\n",
      "599/598 [==============================] - ETA: 0s - loss: 0.9095 - accuracy: 0.6355\n",
      "Epoch 00028: val_accuracy did not improve from 0.61103\n",
      "599/598 [==============================] - 111s 186ms/step - loss: 0.9095 - accuracy: 0.6355 - val_loss: 1.1045 - val_accuracy: 0.5907\n",
      "Epoch 29/200\n",
      "599/598 [==============================] - ETA: 0s - loss: 0.9154 - accuracy: 0.6347\n",
      "Epoch 00029: val_accuracy did not improve from 0.61103\n",
      "599/598 [==============================] - 111s 185ms/step - loss: 0.9154 - accuracy: 0.6347 - val_loss: 1.0993 - val_accuracy: 0.6027\n",
      "Epoch 30/200\n",
      "599/598 [==============================] - ETA: 0s - loss: 0.8873 - accuracy: 0.6458\n",
      "Epoch 00030: val_accuracy improved from 0.61103 to 0.61716, saving model to balanced_VGG16.hdf5\n",
      "599/598 [==============================] - 112s 188ms/step - loss: 0.8873 - accuracy: 0.6458 - val_loss: 1.0371 - val_accuracy: 0.6172\n",
      "Epoch 31/200\n",
      "599/598 [==============================] - ETA: 0s - loss: 0.8747 - accuracy: 0.6468\n",
      "Epoch 00031: val_accuracy improved from 0.61716 to 0.61800, saving model to balanced_VGG16.hdf5\n",
      "599/598 [==============================] - 113s 188ms/step - loss: 0.8747 - accuracy: 0.6468 - val_loss: 1.0124 - val_accuracy: 0.6180\n",
      "Epoch 32/200\n",
      "599/598 [==============================] - ETA: 0s - loss: 0.8827 - accuracy: 0.6463\n",
      "Epoch 00032: val_accuracy improved from 0.61800 to 0.62803, saving model to balanced_VGG16.hdf5\n",
      "599/598 [==============================] - 113s 188ms/step - loss: 0.8827 - accuracy: 0.6463 - val_loss: 1.0140 - val_accuracy: 0.6280\n",
      "Epoch 33/200\n",
      "599/598 [==============================] - ETA: 0s - loss: 0.8621 - accuracy: 0.6550\n",
      "Epoch 00033: val_accuracy improved from 0.62803 to 0.62859, saving model to balanced_VGG16.hdf5\n",
      "599/598 [==============================] - 112s 188ms/step - loss: 0.8621 - accuracy: 0.6550 - val_loss: 0.9990 - val_accuracy: 0.6286\n",
      "Epoch 34/200\n",
      "599/598 [==============================] - ETA: 0s - loss: 0.8479 - accuracy: 0.6616\n",
      "Epoch 00034: val_accuracy did not improve from 0.62859\n",
      "599/598 [==============================] - 111s 185ms/step - loss: 0.8479 - accuracy: 0.6616 - val_loss: 1.0184 - val_accuracy: 0.6269\n",
      "Epoch 35/200\n",
      "599/598 [==============================] - ETA: 0s - loss: 0.8164 - accuracy: 0.6722\n",
      "Epoch 00035: val_accuracy did not improve from 0.62859\n",
      "599/598 [==============================] - 111s 185ms/step - loss: 0.8164 - accuracy: 0.6722 - val_loss: 1.0246 - val_accuracy: 0.6278\n",
      "Epoch 36/200\n",
      "599/598 [==============================] - ETA: 0s - loss: 0.8215 - accuracy: 0.6684\n",
      "Epoch 00036: val_accuracy improved from 0.62859 to 0.63583, saving model to balanced_VGG16.hdf5\n",
      "599/598 [==============================] - 112s 188ms/step - loss: 0.8215 - accuracy: 0.6684 - val_loss: 0.9943 - val_accuracy: 0.6358\n",
      "Epoch 37/200\n",
      "599/598 [==============================] - ETA: 0s - loss: 0.8345 - accuracy: 0.6670\n",
      "Epoch 00037: val_accuracy did not improve from 0.63583\n",
      "599/598 [==============================] - 111s 186ms/step - loss: 0.8345 - accuracy: 0.6670 - val_loss: 0.9967 - val_accuracy: 0.6314\n",
      "Epoch 38/200\n",
      "599/598 [==============================] - ETA: 0s - loss: 0.7840 - accuracy: 0.6828\n",
      "Epoch 00038: val_accuracy improved from 0.63583 to 0.64029, saving model to balanced_VGG16.hdf5\n",
      "599/598 [==============================] - 112s 187ms/step - loss: 0.7840 - accuracy: 0.6828 - val_loss: 1.0004 - val_accuracy: 0.6403\n",
      "Epoch 39/200\n",
      "599/598 [==============================] - ETA: 0s - loss: 0.8045 - accuracy: 0.6750\n",
      "Epoch 00039: val_accuracy did not improve from 0.64029\n",
      "599/598 [==============================] - 112s 186ms/step - loss: 0.8045 - accuracy: 0.6750 - val_loss: 0.9983 - val_accuracy: 0.6356\n",
      "Epoch 40/200\n",
      "599/598 [==============================] - ETA: 0s - loss: 0.7905 - accuracy: 0.6829\n",
      "Epoch 00040: val_accuracy improved from 0.64029 to 0.64335, saving model to balanced_VGG16.hdf5\n",
      "599/598 [==============================] - 113s 188ms/step - loss: 0.7905 - accuracy: 0.6829 - val_loss: 0.9789 - val_accuracy: 0.6434\n",
      "Epoch 41/200\n",
      "599/598 [==============================] - ETA: 0s - loss: 0.7635 - accuracy: 0.6917\n",
      "Epoch 00041: val_accuracy did not improve from 0.64335\n",
      "599/598 [==============================] - 111s 186ms/step - loss: 0.7635 - accuracy: 0.6917 - val_loss: 1.0642 - val_accuracy: 0.6135\n",
      "Epoch 42/200\n",
      "599/598 [==============================] - ETA: 0s - loss: 0.7677 - accuracy: 0.6944\n",
      "Epoch 00042: val_accuracy did not improve from 0.64335\n",
      "599/598 [==============================] - 111s 185ms/step - loss: 0.7677 - accuracy: 0.6944 - val_loss: 1.2114 - val_accuracy: 0.5731\n",
      "Epoch 43/200\n",
      "599/598 [==============================] - ETA: 0s - loss: 0.7724 - accuracy: 0.6867\n",
      "Epoch 00043: val_accuracy did not improve from 0.64335\n",
      "599/598 [==============================] - 111s 186ms/step - loss: 0.7724 - accuracy: 0.6867 - val_loss: 1.0530 - val_accuracy: 0.6244\n",
      "Epoch 44/200\n",
      "599/598 [==============================] - ETA: 0s - loss: 0.7273 - accuracy: 0.7044\n",
      "Epoch 00044: val_accuracy did not improve from 0.64335\n",
      "599/598 [==============================] - 111s 185ms/step - loss: 0.7273 - accuracy: 0.7044 - val_loss: 1.0205 - val_accuracy: 0.6361\n",
      "Epoch 45/200\n",
      "599/598 [==============================] - ETA: 0s - loss: 0.7392 - accuracy: 0.7011\n",
      "Epoch 00045: val_accuracy improved from 0.64335 to 0.65673, saving model to balanced_VGG16.hdf5\n",
      "599/598 [==============================] - 112s 187ms/step - loss: 0.7392 - accuracy: 0.7011 - val_loss: 1.0096 - val_accuracy: 0.6567\n",
      "Epoch 46/200\n",
      "599/598 [==============================] - ETA: 0s - loss: 0.7438 - accuracy: 0.7013\n",
      "Epoch 00046: val_accuracy did not improve from 0.65673\n",
      "599/598 [==============================] - 111s 185ms/step - loss: 0.7438 - accuracy: 0.7013 - val_loss: 1.0458 - val_accuracy: 0.6158\n",
      "Epoch 47/200\n",
      "599/598 [==============================] - ETA: 0s - loss: 0.7185 - accuracy: 0.7126\n",
      "Epoch 00047: val_accuracy did not improve from 0.65673\n",
      "599/598 [==============================] - 111s 185ms/step - loss: 0.7185 - accuracy: 0.7126 - val_loss: 0.9683 - val_accuracy: 0.6389\n",
      "Epoch 48/200\n",
      "599/598 [==============================] - ETA: 0s - loss: 0.7045 - accuracy: 0.7132\n",
      "Epoch 00048: val_accuracy did not improve from 0.65673\n",
      "599/598 [==============================] - 111s 185ms/step - loss: 0.7045 - accuracy: 0.7132 - val_loss: 1.0452 - val_accuracy: 0.6272\n",
      "Epoch 49/200\n",
      "599/598 [==============================] - ETA: 0s - loss: 0.7166 - accuracy: 0.7130\n",
      "Epoch 00049: val_accuracy did not improve from 0.65673\n",
      "599/598 [==============================] - 111s 185ms/step - loss: 0.7166 - accuracy: 0.7130 - val_loss: 0.9897 - val_accuracy: 0.6392\n",
      "Epoch 50/200\n",
      "599/598 [==============================] - ETA: 0s - loss: 0.7195 - accuracy: 0.7116\n",
      "Epoch 00050: val_accuracy did not improve from 0.65673\n",
      "599/598 [==============================] - 111s 185ms/step - loss: 0.7195 - accuracy: 0.7116 - val_loss: 1.0291 - val_accuracy: 0.6342\n",
      "Epoch 51/200\n",
      "599/598 [==============================] - ETA: 0s - loss: 0.6833 - accuracy: 0.7238\n",
      "Epoch 00051: val_accuracy did not improve from 0.65673\n",
      "599/598 [==============================] - 111s 186ms/step - loss: 0.6833 - accuracy: 0.7238 - val_loss: 1.0123 - val_accuracy: 0.6344\n",
      "Epoch 52/200\n",
      "599/598 [==============================] - ETA: 0s - loss: 0.6612 - accuracy: 0.7342\n",
      "Epoch 00052: val_accuracy did not improve from 0.65673\n",
      "599/598 [==============================] - 111s 185ms/step - loss: 0.6612 - accuracy: 0.7342 - val_loss: 1.0066 - val_accuracy: 0.6562\n",
      "Epoch 53/200\n",
      "599/598 [==============================] - ETA: 0s - loss: 0.6840 - accuracy: 0.7281\n",
      "Epoch 00053: val_accuracy did not improve from 0.65673\n",
      "599/598 [==============================] - 111s 185ms/step - loss: 0.6840 - accuracy: 0.7281 - val_loss: 0.9938 - val_accuracy: 0.6484\n",
      "Epoch 54/200\n",
      "599/598 [==============================] - ETA: 0s - loss: 0.6614 - accuracy: 0.7322\n",
      "Epoch 00054: val_accuracy did not improve from 0.65673\n",
      "599/598 [==============================] - 111s 185ms/step - loss: 0.6614 - accuracy: 0.7322 - val_loss: 1.0369 - val_accuracy: 0.6383\n",
      "Epoch 55/200\n",
      "599/598 [==============================] - ETA: 0s - loss: 0.6673 - accuracy: 0.7291\n",
      "Epoch 00055: val_accuracy did not improve from 0.65673\n",
      "599/598 [==============================] - 110s 184ms/step - loss: 0.6673 - accuracy: 0.7291 - val_loss: 0.9835 - val_accuracy: 0.6548\n",
      "Epoch 56/200\n",
      "599/598 [==============================] - ETA: 0s - loss: 0.6361 - accuracy: 0.7429\n",
      "Epoch 00056: val_accuracy did not improve from 0.65673\n",
      "599/598 [==============================] - 110s 184ms/step - loss: 0.6361 - accuracy: 0.7429 - val_loss: 1.0076 - val_accuracy: 0.6473\n",
      "Epoch 57/200\n",
      "599/598 [==============================] - ETA: 0s - loss: 0.6249 - accuracy: 0.7491\n",
      "Epoch 00057: val_accuracy improved from 0.65673 to 0.65868, saving model to balanced_VGG16.hdf5\n",
      "599/598 [==============================] - 111s 186ms/step - loss: 0.6249 - accuracy: 0.7491 - val_loss: 0.9889 - val_accuracy: 0.6587\n",
      "Epoch 58/200\n",
      "599/598 [==============================] - ETA: 0s - loss: 0.6286 - accuracy: 0.7491\n",
      "Epoch 00058: val_accuracy did not improve from 0.65868\n",
      "599/598 [==============================] - 110s 184ms/step - loss: 0.6286 - accuracy: 0.7491 - val_loss: 1.0246 - val_accuracy: 0.6317\n",
      "Epoch 59/200\n",
      "599/598 [==============================] - ETA: 0s - loss: 0.6113 - accuracy: 0.7536\n",
      "Epoch 00059: val_accuracy did not improve from 0.65868\n",
      "599/598 [==============================] - 110s 184ms/step - loss: 0.6113 - accuracy: 0.7536 - val_loss: 1.0153 - val_accuracy: 0.6447\n",
      "Epoch 60/200\n",
      "599/598 [==============================] - ETA: 0s - loss: 0.6278 - accuracy: 0.7472\n",
      "Epoch 00060: val_accuracy did not improve from 0.65868\n",
      "599/598 [==============================] - 110s 184ms/step - loss: 0.6278 - accuracy: 0.7472 - val_loss: 1.0553 - val_accuracy: 0.6464\n",
      "Epoch 61/200\n",
      "599/598 [==============================] - ETA: 0s - loss: 0.6063 - accuracy: 0.7559\n",
      "Epoch 00061: val_accuracy did not improve from 0.65868\n",
      "599/598 [==============================] - 110s 184ms/step - loss: 0.6063 - accuracy: 0.7559 - val_loss: 1.2743 - val_accuracy: 0.5595\n",
      "Epoch 62/200\n",
      "599/598 [==============================] - ETA: 0s - loss: 0.6148 - accuracy: 0.7511\n",
      "Epoch 00062: val_accuracy improved from 0.65868 to 0.65979, saving model to balanced_VGG16.hdf5\n",
      "599/598 [==============================] - 111s 186ms/step - loss: 0.6148 - accuracy: 0.7511 - val_loss: 1.0671 - val_accuracy: 0.6598\n",
      "Epoch 63/200\n",
      "599/598 [==============================] - ETA: 0s - loss: 0.5638 - accuracy: 0.7718\n",
      "Epoch 00063: val_accuracy improved from 0.65979 to 0.66286, saving model to balanced_VGG16.hdf5\n",
      "599/598 [==============================] - 111s 186ms/step - loss: 0.5638 - accuracy: 0.7718 - val_loss: 1.0890 - val_accuracy: 0.6629\n",
      "Epoch 64/200\n",
      "599/598 [==============================] - ETA: 0s - loss: 0.5557 - accuracy: 0.7760\n",
      "Epoch 00064: val_accuracy improved from 0.66286 to 0.67122, saving model to balanced_VGG16.hdf5\n",
      "599/598 [==============================] - 111s 185ms/step - loss: 0.5557 - accuracy: 0.7760 - val_loss: 0.9794 - val_accuracy: 0.6712\n",
      "Epoch 65/200\n",
      "599/598 [==============================] - ETA: 0s - loss: 0.5604 - accuracy: 0.7741\n",
      "Epoch 00065: val_accuracy did not improve from 0.67122\n",
      "599/598 [==============================] - 110s 184ms/step - loss: 0.5604 - accuracy: 0.7741 - val_loss: 1.0660 - val_accuracy: 0.6656\n",
      "Epoch 66/200\n",
      "599/598 [==============================] - ETA: 0s - loss: 0.5818 - accuracy: 0.7690\n",
      "Epoch 00066: val_accuracy did not improve from 0.67122\n",
      "599/598 [==============================] - 110s 184ms/step - loss: 0.5818 - accuracy: 0.7690 - val_loss: 1.1278 - val_accuracy: 0.6291\n",
      "Epoch 67/200\n",
      "599/598 [==============================] - ETA: 0s - loss: 0.5475 - accuracy: 0.7796\n",
      "Epoch 00067: val_accuracy did not improve from 0.67122\n",
      "599/598 [==============================] - 110s 184ms/step - loss: 0.5475 - accuracy: 0.7796 - val_loss: 1.0386 - val_accuracy: 0.6609\n",
      "Epoch 68/200\n",
      "599/598 [==============================] - ETA: 0s - loss: 0.5208 - accuracy: 0.7903\n",
      "Epoch 00068: val_accuracy did not improve from 0.67122\n",
      "599/598 [==============================] - 110s 184ms/step - loss: 0.5208 - accuracy: 0.7903 - val_loss: 1.0385 - val_accuracy: 0.6617\n",
      "Epoch 69/200\n",
      "599/598 [==============================] - ETA: 0s - loss: 0.5393 - accuracy: 0.7852\n",
      "Epoch 00069: val_accuracy did not improve from 0.67122\n",
      "599/598 [==============================] - 110s 184ms/step - loss: 0.5393 - accuracy: 0.7852 - val_loss: 1.1308 - val_accuracy: 0.6461\n",
      "Epoch 70/200\n",
      "599/598 [==============================] - ETA: 0s - loss: 0.5383 - accuracy: 0.7867\n",
      "Epoch 00070: val_accuracy did not improve from 0.67122\n",
      "599/598 [==============================] - 110s 184ms/step - loss: 0.5383 - accuracy: 0.7867 - val_loss: 1.0705 - val_accuracy: 0.6475\n",
      "Epoch 71/200\n",
      "599/598 [==============================] - ETA: 0s - loss: 0.5218 - accuracy: 0.7925\n",
      "Epoch 00071: val_accuracy did not improve from 0.67122\n",
      "599/598 [==============================] - 110s 184ms/step - loss: 0.5218 - accuracy: 0.7925 - val_loss: 1.0478 - val_accuracy: 0.6389\n",
      "Epoch 72/200\n",
      "599/598 [==============================] - ETA: 0s - loss: 0.5264 - accuracy: 0.7913\n",
      "Epoch 00072: val_accuracy did not improve from 0.67122\n",
      "599/598 [==============================] - 110s 184ms/step - loss: 0.5264 - accuracy: 0.7913 - val_loss: 1.1505 - val_accuracy: 0.6500\n",
      "Epoch 73/200\n",
      "599/598 [==============================] - ETA: 0s - loss: 0.5135 - accuracy: 0.7986\n",
      "Epoch 00073: val_accuracy did not improve from 0.67122\n",
      "599/598 [==============================] - 110s 184ms/step - loss: 0.5135 - accuracy: 0.7986 - val_loss: 1.0536 - val_accuracy: 0.6612\n",
      "Epoch 74/200\n",
      "599/598 [==============================] - ETA: 0s - loss: 0.5286 - accuracy: 0.7897\n",
      "Epoch 00074: val_accuracy did not improve from 0.67122\n",
      "599/598 [==============================] - 110s 184ms/step - loss: 0.5286 - accuracy: 0.7897 - val_loss: 1.1168 - val_accuracy: 0.6475\n",
      "Epoch 75/200\n",
      "599/598 [==============================] - ETA: 0s - loss: 0.4968 - accuracy: 0.8020\n",
      "Epoch 00075: val_accuracy did not improve from 0.67122\n",
      "599/598 [==============================] - 110s 184ms/step - loss: 0.4968 - accuracy: 0.8020 - val_loss: 1.1436 - val_accuracy: 0.6278\n",
      "Epoch 76/200\n",
      "599/598 [==============================] - ETA: 0s - loss: 0.4838 - accuracy: 0.8094\n",
      "Epoch 00076: val_accuracy did not improve from 0.67122\n",
      "599/598 [==============================] - 110s 184ms/step - loss: 0.4838 - accuracy: 0.8094 - val_loss: 1.1414 - val_accuracy: 0.6414\n",
      "Epoch 77/200\n",
      "599/598 [==============================] - ETA: 0s - loss: 0.4714 - accuracy: 0.8142\n",
      "Epoch 00077: val_accuracy did not improve from 0.67122\n",
      "599/598 [==============================] - 110s 184ms/step - loss: 0.4714 - accuracy: 0.8142 - val_loss: 1.1296 - val_accuracy: 0.6512\n",
      "Epoch 78/200\n",
      "599/598 [==============================] - ETA: 0s - loss: 0.4553 - accuracy: 0.8174\n",
      "Epoch 00078: val_accuracy did not improve from 0.67122\n",
      "599/598 [==============================] - 110s 184ms/step - loss: 0.4553 - accuracy: 0.8174 - val_loss: 1.2214 - val_accuracy: 0.6339\n",
      "Epoch 79/200\n",
      "599/598 [==============================] - ETA: 0s - loss: 0.4533 - accuracy: 0.8182\n",
      "Epoch 00079: val_accuracy did not improve from 0.67122\n",
      "599/598 [==============================] - 110s 184ms/step - loss: 0.4533 - accuracy: 0.8182 - val_loss: 1.2978 - val_accuracy: 0.6456\n",
      "Epoch 80/200\n",
      "599/598 [==============================] - ETA: 0s - loss: 0.4418 - accuracy: 0.8237\n",
      "Epoch 00080: val_accuracy did not improve from 0.67122\n",
      "599/598 [==============================] - 110s 184ms/step - loss: 0.4418 - accuracy: 0.8237 - val_loss: 1.2125 - val_accuracy: 0.6378\n",
      "Epoch 81/200\n",
      "599/598 [==============================] - ETA: 0s - loss: 0.4450 - accuracy: 0.8214\n",
      "Epoch 00081: val_accuracy did not improve from 0.67122\n",
      "599/598 [==============================] - 110s 184ms/step - loss: 0.4450 - accuracy: 0.8214 - val_loss: 1.1131 - val_accuracy: 0.6495\n",
      "Epoch 82/200\n",
      "599/598 [==============================] - ETA: 0s - loss: 0.4346 - accuracy: 0.8253\n",
      "Epoch 00082: val_accuracy did not improve from 0.67122\n",
      "599/598 [==============================] - 110s 184ms/step - loss: 0.4346 - accuracy: 0.8253 - val_loss: 1.1833 - val_accuracy: 0.6333\n",
      "Epoch 83/200\n",
      "599/598 [==============================] - ETA: 0s - loss: 0.5005 - accuracy: 0.8041\n",
      "Epoch 00083: val_accuracy did not improve from 0.67122\n",
      "599/598 [==============================] - 110s 184ms/step - loss: 0.5005 - accuracy: 0.8041 - val_loss: 1.1161 - val_accuracy: 0.6670\n",
      "Epoch 84/200\n",
      "599/598 [==============================] - ETA: 0s - loss: 0.4248 - accuracy: 0.8319\n",
      "Epoch 00084: val_accuracy did not improve from 0.67122\n",
      "599/598 [==============================] - 110s 184ms/step - loss: 0.4248 - accuracy: 0.8319 - val_loss: 1.1909 - val_accuracy: 0.6673\n",
      "Epoch 85/200\n",
      "599/598 [==============================] - ETA: 0s - loss: 0.4534 - accuracy: 0.8190\n",
      "Epoch 00085: val_accuracy did not improve from 0.67122\n",
      "599/598 [==============================] - 110s 184ms/step - loss: 0.4534 - accuracy: 0.8190 - val_loss: 1.1315 - val_accuracy: 0.6662\n",
      "Epoch 86/200\n",
      "599/598 [==============================] - ETA: 0s - loss: 0.4250 - accuracy: 0.8319\n",
      "Epoch 00086: val_accuracy improved from 0.67122 to 0.67317, saving model to balanced_VGG16.hdf5\n",
      "599/598 [==============================] - 112s 186ms/step - loss: 0.4250 - accuracy: 0.8319 - val_loss: 1.1277 - val_accuracy: 0.6732\n",
      "Epoch 87/200\n",
      "599/598 [==============================] - ETA: 0s - loss: 0.3937 - accuracy: 0.8427\n",
      "Epoch 00087: val_accuracy did not improve from 0.67317\n",
      "599/598 [==============================] - 110s 184ms/step - loss: 0.3937 - accuracy: 0.8427 - val_loss: 1.1184 - val_accuracy: 0.6679\n",
      "Epoch 88/200\n",
      "599/598 [==============================] - ETA: 0s - loss: 0.3855 - accuracy: 0.8457\n",
      "Epoch 00088: val_accuracy improved from 0.67317 to 0.67400, saving model to balanced_VGG16.hdf5\n",
      "599/598 [==============================] - 112s 186ms/step - loss: 0.3855 - accuracy: 0.8457 - val_loss: 1.1251 - val_accuracy: 0.6740\n",
      "Epoch 89/200\n",
      "599/598 [==============================] - ETA: 0s - loss: 0.3992 - accuracy: 0.8447\n",
      "Epoch 00089: val_accuracy did not improve from 0.67400\n",
      "599/598 [==============================] - 110s 184ms/step - loss: 0.3992 - accuracy: 0.8447 - val_loss: 1.2225 - val_accuracy: 0.6615\n",
      "Epoch 90/200\n",
      "599/598 [==============================] - ETA: 0s - loss: 0.4084 - accuracy: 0.8404\n",
      "Epoch 00090: val_accuracy did not improve from 0.67400\n",
      "599/598 [==============================] - 110s 184ms/step - loss: 0.4084 - accuracy: 0.8404 - val_loss: 1.1512 - val_accuracy: 0.6645\n",
      "Epoch 91/200\n",
      "599/598 [==============================] - ETA: 0s - loss: 0.3924 - accuracy: 0.8432\n",
      "Epoch 00091: val_accuracy did not improve from 0.67400\n",
      "599/598 [==============================] - 110s 184ms/step - loss: 0.3924 - accuracy: 0.8432 - val_loss: 1.1393 - val_accuracy: 0.6656\n",
      "Epoch 92/200\n",
      "599/598 [==============================] - ETA: 0s - loss: 0.3829 - accuracy: 0.8468\n",
      "Epoch 00092: val_accuracy did not improve from 0.67400\n",
      "599/598 [==============================] - 110s 184ms/step - loss: 0.3829 - accuracy: 0.8468 - val_loss: 1.2211 - val_accuracy: 0.6578\n",
      "Epoch 93/200\n",
      "599/598 [==============================] - ETA: 0s - loss: 0.3951 - accuracy: 0.8454\n",
      "Epoch 00093: val_accuracy did not improve from 0.67400\n",
      "599/598 [==============================] - 110s 184ms/step - loss: 0.3951 - accuracy: 0.8454 - val_loss: 1.2150 - val_accuracy: 0.6679\n",
      "Epoch 94/200\n",
      "599/598 [==============================] - ETA: 0s - loss: 0.3680 - accuracy: 0.8520\n",
      "Epoch 00094: val_accuracy did not improve from 0.67400\n",
      "599/598 [==============================] - 110s 184ms/step - loss: 0.3680 - accuracy: 0.8520 - val_loss: 1.1822 - val_accuracy: 0.6709\n",
      "Epoch 95/200\n",
      "599/598 [==============================] - ETA: 0s - loss: 0.3555 - accuracy: 0.8585\n",
      "Epoch 00095: val_accuracy did not improve from 0.67400\n",
      "599/598 [==============================] - 110s 184ms/step - loss: 0.3555 - accuracy: 0.8585 - val_loss: 1.2112 - val_accuracy: 0.6606\n",
      "Epoch 96/200\n",
      "599/598 [==============================] - ETA: 0s - loss: 0.3627 - accuracy: 0.8578\n",
      "Epoch 00096: val_accuracy did not improve from 0.67400\n",
      "599/598 [==============================] - 110s 184ms/step - loss: 0.3627 - accuracy: 0.8578 - val_loss: 1.1738 - val_accuracy: 0.6478\n",
      "Epoch 97/200\n",
      "599/598 [==============================] - ETA: 0s - loss: 0.3514 - accuracy: 0.8606\n",
      "Epoch 00097: val_accuracy improved from 0.67400 to 0.68515, saving model to balanced_VGG16.hdf5\n",
      "599/598 [==============================] - 111s 186ms/step - loss: 0.3514 - accuracy: 0.8606 - val_loss: 1.2872 - val_accuracy: 0.6851\n",
      "Epoch 00097: early stopping\n"
     ]
    }
   ],
   "source": [
    "batch_size = 48\n",
    "\n",
    "data_generator = tf.keras.preprocessing.image.ImageDataGenerator(width_shift_range=0.1, \n",
    "                                                                 height_shift_range=0.1, \n",
    "                                                                 zoom_range=.1,\n",
    "                                                                 horizontal_flip=True,\n",
    "                                                                 rotation_range=10)\n",
    "\n",
    "model_checkpoint_callback = tf.keras.callbacks.ModelCheckpoint(filepath='balanced_VGG16.hdf5', \n",
    "                                                               monitor='val_accuracy', \n",
    "                                                               mode='max', \n",
    "                                                               save_best_only=True,\n",
    "                                                               verbose=1)\n",
    "early_stop = tf.keras.callbacks.EarlyStopping(monitor='val_loss', \n",
    "                                              min_delta=0, \n",
    "                                              patience=50, \n",
    "                                              verbose=1, \n",
    "                                              mode='min')\n",
    "\n",
    "train_generator = data_generator.flow(x_train, y_train, batch_size)\n",
    "steps_per_epoch = x_train.shape[0] / batch_size\n",
    "fitted_model = balanced_VGG16.fit(train_generator, \n",
    "                                    validation_data=(x_valid, y_valid), \n",
    "                                    steps_per_epoch=steps_per_epoch, epochs=200, \n",
    "                                    callbacks=[model_checkpoint_callback, early_stop],\n",
    "                                    class_weight=label_weights)"
   ]
  },
  {
   "cell_type": "code",
   "execution_count": 16,
   "metadata": {
    "colab": {
     "base_uri": "https://localhost:8080/",
     "height": 282
    },
    "colab_type": "code",
    "id": "sffb0jkwKyWw",
    "outputId": "16285455-f51e-491b-d0c5-953a7bf8d6c3"
   },
   "outputs": [
    {
     "data": {
      "text/plain": [
       "<matplotlib.legend.Legend at 0x7ff2c5265a90>"
      ]
     },
     "execution_count": 16,
     "metadata": {
      "tags": []
     },
     "output_type": "execute_result"
    },
    {
     "data": {
      "image/png": "[encoded data removed]",
      "text/plain": [
       "<Figure size 432x288 with 1 Axes>"
      ]
     },
     "metadata": {
      "needs_background": "light",
      "tags": []
     },
     "output_type": "display_data"
    }
   ],
   "source": [
    "plt.plot(fitted_model.history['loss'], label='loss')\n",
    "plt.plot(fitted_model.history['val_loss'], label='val_loss')\n",
    "plt.legend()"
   ]
  },
  {
   "cell_type": "code",
   "execution_count": 17,
   "metadata": {
    "colab": {
     "base_uri": "https://localhost:8080/",
     "height": 282
    },
    "colab_type": "code",
    "id": "eJyg6LLRMbDr",
    "outputId": "2695dfe8-62f3-4078-98c2-75a4ef98f804"
   },
   "outputs": [
    {
     "data": {
      "text/plain": [
       "<matplotlib.legend.Legend at 0x7ff2c5253dd8>"
      ]
     },
     "execution_count": 17,
     "metadata": {
      "tags": []
     },
     "output_type": "execute_result"
    },
    {
     "data": {
      "image/png": "[encoded data removed]",
      "text/plain": [
       "<Figure size 432x288 with 1 Axes>"
      ]
     },
     "metadata": {
      "needs_background": "light",
      "tags": []
     },
     "output_type": "display_data"
    }
   ],
   "source": [
    "plt.plot(fitted_model.history['accuracy'], label='accuracy')\n",
    "plt.plot(fitted_model.history['val_accuracy'], label='val_accuracy')\n",
    "plt.legend()"
   ]
  },
  {
   "cell_type": "code",
   "execution_count": 19,
   "metadata": {
    "colab": {},
    "colab_type": "code",
    "id": "id2CUrAw-gjc"
   },
   "outputs": [],
   "source": [
    "from tensorflow.keras.models import load_model\n",
    "saved_model = load_model(\"balanced_VGG16.hdf5\")"
   ]
  },
  {
   "cell_type": "code",
   "execution_count": 20,
   "metadata": {
    "colab": {
     "base_uri": "https://localhost:8080/",
     "height": 472
    },
    "colab_type": "code",
    "id": "ZK0qGt2BMh3X",
    "outputId": "368a4401-8a58-4368-d6f7-ac1aaed4cacb"
   },
   "outputs": [
    {
     "name": "stdout",
     "output_type": "stream",
     "text": [
      "Normalized confusion matrix\n"
     ]
    },
    {
     "data": {
      "image/png": "[encoded data removed]",
      "text/plain": [
       "<Figure size 864x432 with 2 Axes>"
      ]
     },
     "metadata": {
      "needs_background": "light",
      "tags": []
     },
     "output_type": "display_data"
    }
   ],
   "source": [
    "# plotting confusion matrix\n",
    "\n",
    "def plot_confusion_matrix(cm, classes, normalize=True, title='Confusion matrix', cmap=plt.cm.Blues):\n",
    "  '''\n",
    "    This function plots the confusion matrix. This part of the code was highly based on one done by lazyprogrammer (lazyprogrammer.me).\n",
    "  '''\n",
    "\n",
    "  if normalize:\n",
    "    cm = cm.astype('float') / cm.sum(axis=1)[:, np.newaxis]\n",
    "    print('Normalized confusion matrix')\n",
    "  else:\n",
    "    print('Confusion matrix not normalized.')\n",
    "  \n",
    "  plt.figure(figsize=(12,6))\n",
    "  plt.imshow(cm, interpolation='nearest', cmap=cmap)\n",
    "  plt.title(title)\n",
    "  plt.colorbar()\n",
    "  tick_marks = np.arange(len(classes))\n",
    "  plt.xticks(tick_marks, classes, rotation=45)\n",
    "  plt.yticks(tick_marks, classes)\n",
    "\n",
    "  fmt = '.2f' if normalize else 'd'\n",
    "  thresh = cm.max() / 2.0\n",
    "  for i, j in itertools.product(range(cm.shape[0]), range(cm.shape[1])):\n",
    "    plt.text(j, i, format(cm[i,j],fmt),\n",
    "             horizontalalignment='center',\n",
    "             color='white' if cm[i, j] > thresh else 'black')\n",
    "    \n",
    "  plt.tight_layout()\n",
    "  plt.ylabel('True label')\n",
    "  plt.xlabel('Predicted label')\n",
    "  plt.show()\n",
    "\n",
    "p_test = saved_model.predict(x_test).argmax(axis=1)\n",
    "cm = confusion_matrix(y_test, p_test)\n",
    "plot_confusion_matrix(cm, list(range(K)))\n"
   ]
  },
  {
   "cell_type": "code",
   "execution_count": 21,
   "metadata": {
    "colab": {
     "base_uri": "https://localhost:8080/",
     "height": 34
    },
    "colab_type": "code",
    "id": "_67ryifLT837",
    "outputId": "428e788f-083f-43c7-bbd0-641d802e796c"
   },
   "outputs": [
    {
     "name": "stdout",
     "output_type": "stream",
     "text": [
      "CNN Model Accuracy on test set: 0.6598\n"
     ]
    }
   ],
   "source": [
    "print(\"CNN Model Accuracy on test set: {:.4f}\".format(accuracy_score(y_test, p_test)))"
   ]
  }
 ],
 "metadata": {
  "accelerator": "GPU",
  "colab": {
   "collapsed_sections": [],
   "name": "Balanced_VGG16_FER_project.ipynb",
   "provenance": [],
   "toc_visible": true
  },
  "kernelspec": {
   "display_name": "Python 3",
   "language": "python",
   "name": "python3"
  },
  "language_info": {
   "codemirror_mode": {
    "name": "ipython",
    "version": 3
   },
   "file_extension": ".py",
   "mimetype": "text/x-python",
   "name": "python",
   "nbconvert_exporter": "python",
   "pygments_lexer": "ipython3",
   "version": "3.7.6"
  }
 },
 "nbformat": 4,
 "nbformat_minor": 4
}
