{
 "cells": [
  {
   "cell_type": "markdown",
   "metadata": {},
   "source": [
    "## Importing libraries"
   ]
  },
  {
   "cell_type": "code",
   "execution_count": 43,
   "metadata": {},
   "outputs": [],
   "source": [
    "import numpy as np\n",
    "import pandas as pd\n",
    "import matplotlib.pyplot as plt\n",
    "from sklearn.linear_model import LinearRegression\n",
    "from sklearn.model_selection import train_test_split\n",
    "from sklearn.metrics import r2_score, mean_squared_error, accuracy_score\n",
    "from statsmodels.stats.outliers_influence import variance_inflation_factor\n",
    "from sklearn.svm import SVR\n",
    "from sklearn.ensemble import AdaBoostRegressor\n",
    "import seaborn as sns\n",
    "import re\n",
    "import tensorflow as tf\n",
    "from sklearn.preprocessing import StandardScaler\n",
    "from sklearn.preprocessing import PolynomialFeatures\n",
    "%matplotlib inline"
   ]
  },
  {
   "cell_type": "markdown",
   "metadata": {},
   "source": [
    "## Extracting Seatle's data"
   ]
  },
  {
   "cell_type": "code",
   "execution_count": 2,
   "metadata": {},
   "outputs": [],
   "source": [
    "S_calendar_data = pd.read_csv('Seatle_calendar.csv')"
   ]
  },
  {
   "cell_type": "code",
   "execution_count": 3,
   "metadata": {},
   "outputs": [],
   "source": [
    "S_l_data = pd.read_csv('Seatle_listings.csv')"
   ]
  },
  {
   "cell_type": "code",
   "execution_count": 4,
   "metadata": {},
   "outputs": [],
   "source": [
    "S_reviews_data = pd.read_csv('Seatle_reviews.csv')"
   ]
  },
  {
   "cell_type": "markdown",
   "metadata": {},
   "source": [
    "## Cleaning the listings data"
   ]
  },
  {
   "cell_type": "code",
   "execution_count": 5,
   "metadata": {},
   "outputs": [],
   "source": [
    "# Removing url features\n",
    "col_url = []\n",
    "for col in S_l_data.columns.tolist():\n",
    "    if '_url' in col:\n",
    "        col_url.append(col)\n",
    "\n",
    "S_l_dropped2 = S_l_data.drop(col_url, axis=1)"
   ]
  },
  {
   "cell_type": "markdown",
   "metadata": {},
   "source": [
    "**I am removing some features that obviously lead to nothing, such as #id and 'name'.**\n",
    "\n",
    "**I have to explain some of the removals, such as 'street', 'zipcode', 'host_listings_count', 'latitude', 'neighbourhood_cleansed', neighbourhood_group_cleansed**"
   ]
  },
  {
   "cell_type": "code",
   "execution_count": 6,
   "metadata": {},
   "outputs": [
    {
     "data": {
      "text/plain": [
       "0         3.0\n",
       "1         6.0\n",
       "2         2.0\n",
       "3         1.0\n",
       "4         2.0\n",
       "        ...  \n",
       "3813    354.0\n",
       "3814      1.0\n",
       "3815      1.0\n",
       "3816      1.0\n",
       "3817      1.0\n",
       "Name: host_listings_count, Length: 3818, dtype: float64"
      ]
     },
     "execution_count": 6,
     "metadata": {},
     "output_type": "execute_result"
    }
   ],
   "source": [
    "S_l_dropped2['host_listings_count']"
   ]
  },
  {
   "cell_type": "code",
   "execution_count": 7,
   "metadata": {},
   "outputs": [],
   "source": [
    "S_l_dropped3 = S_l_dropped2.drop(['#id','name','host_id','host_name','host_id','smart_location','state', \n",
    "                                  'host_listings_count','street', 'host_location', \n",
    "                                  'host_neighbourhood', 'neighbourhood_group_cleansed','neighbourhood_cleansed','city'],axis=1)"
   ]
  },
  {
   "cell_type": "markdown",
   "metadata": {},
   "source": [
    "**I also need to transform the dates that are in string format to date format**"
   ]
  },
  {
   "cell_type": "code",
   "execution_count": 8,
   "metadata": {},
   "outputs": [],
   "source": [
    "r = re.compile('.{4}-.{2}-.{2}')\n",
    "\n",
    "for col in S_l_dropped3.columns.tolist():\n",
    "    if S_l_dropped3[col].dtypes == 'O':\n",
    "        if r.match(S_l_dropped3[col].any()):\n",
    "            S_l_dropped3[col] = pd.to_datetime(S_l_dropped3[col], errors='ignore')\n",
    "        else:\n",
    "            continue"
   ]
  },
  {
   "cell_type": "markdown",
   "metadata": {},
   "source": [
    "**I will also drop features that I cannot really evaluate considering the knowledge I have. However I will create a variable to check if the feature is offered or not. For example, there are some listings that do not inform the \"Neighborhood overview\", So i will drop the overview and create a boolean variable called \"neighborhood_overview_given\" to indicate if it was informed. This I do manually, because I can't find a way to do it systematically for the different features.**"
   ]
  },
  {
   "cell_type": "code",
   "execution_count": 9,
   "metadata": {},
   "outputs": [],
   "source": [
    "col_to_drop2 = ['summary', 'space', 'neighborhood_overview', 'description', 'transit', 'notes', 'host_about']\n",
    "\n",
    "for col in col_to_drop2:\n",
    "    S_l_dropped3['isthere_'+col] = ''\n",
    "    S_l_dropped3['isthere_'+col] = pd.Series(S_l_dropped3[col].isna().to_numpy(dtype=int))\n",
    "\n",
    "\n",
    "S_l_dropped4 = S_l_dropped3.drop(col_to_drop2, axis=1)"
   ]
  },
  {
   "cell_type": "code",
   "execution_count": 10,
   "metadata": {},
   "outputs": [],
   "source": [
    "# Removing features which do no vary.\n",
    "col_to_drop = []\n",
    "for col in S_l_dropped4.columns.tolist():\n",
    "    if len(S_l_dropped4[col].unique())==1:\n",
    "        col_to_drop.append(col)\n",
    "\n",
    "S_l_dropped4 = S_l_dropped4.drop(col_to_drop, axis=1)"
   ]
  },
  {
   "cell_type": "markdown",
   "metadata": {},
   "source": [
    "**I'll remove the outliers here**"
   ]
  },
  {
   "cell_type": "code",
   "execution_count": 11,
   "metadata": {},
   "outputs": [],
   "source": [
    "num_vars1 =  S_l_dropped4.select_dtypes(include=['float', 'int']).columns\n",
    "for col in num_vars1:\n",
    "    q = S_l_dropped4[col].quantile(0.95)\n",
    "    S_l_dropped5 = S_l_dropped4[S_l_dropped4[col]<q]\n",
    "S_l_dropped5 = S_l_dropped5.reset_index(drop=True)"
   ]
  },
  {
   "cell_type": "markdown",
   "metadata": {},
   "source": [
    "**Now I transform the amenities and host verifications into several columns with 1 for present, an 0 for not**"
   ]
  },
  {
   "cell_type": "code",
   "execution_count": 12,
   "metadata": {},
   "outputs": [],
   "source": [
    "for i in range(S_l_dropped5.shape[0]):\n",
    "    if '{'  in S_l_dropped5['amenities'][i]:\n",
    "        S_l_dropped5.loc[i,'amenities'] = S_l_dropped5['amenities'][i].replace('{','')\n",
    "    if '}' in S_l_dropped5['amenities'][i]:\n",
    "        S_l_dropped5.loc[i,'amenities'] = S_l_dropped5['amenities'][i].replace('}','')\n",
    "    if '\"' in S_l_dropped5['amenities'][i]:\n",
    "        S_l_dropped5.loc[i,'amenities'] = S_l_dropped5['amenities'][i].replace('\"','')\n",
    "\n",
    "all_am=np.array([])\n",
    "for i in range(S_l_dropped5.shape[0]):\n",
    "    all_am = np.append(all_am, S_l_dropped5['amenities'][i].split(','))\n",
    "\n",
    "all_am = np.unique(all_am)\n",
    "all_am = all_am[1:] # This is because it created a '' (empty) case"
   ]
  },
  {
   "cell_type": "code",
   "execution_count": 13,
   "metadata": {},
   "outputs": [
    {
     "name": "stderr",
     "output_type": "stream",
     "text": [
      "C:\\Users\\Henrique\\Anaconda3\\envs\\py3-TF2.0\\lib\\site-packages\\pandas\\core\\strings.py:1843: UserWarning: This pattern has match groups. To actually get the groups, use str.extract.\n",
      "  return func(self, *args, **kwargs)\n"
     ]
    }
   ],
   "source": [
    "for val in all_am:\n",
    "    S_l_dropped5['amen_'+val] = ''\n",
    "\n",
    "S_l_amen = S_l_dropped5.copy()\n",
    "#for i in range(S_l_dropped5.shape[0]):\n",
    "#    for val in all_am:\n",
    "#        if val in S_l_dropped5['amenities'][i]:\n",
    "#            S_l_amen.loc[i,'amen_'+val] = 1        \n",
    "#        else:\n",
    "#            S_l_amen.loc[i,'amen_'+val] = 0\n",
    "\n",
    "for val in all_am:\n",
    "    S_l_amen['amen_'+val] = pd.Series(S_l_amen['amenities'].str.contains(val).to_numpy(dtype=int))\n",
    "    \n",
    "for i in range(S_l_amen.shape[0]):\n",
    "    if '['  in S_l_amen['host_verifications'][i]:\n",
    "        S_l_amen.loc[i,'host_verifications'] = S_l_amen['host_verifications'][i].replace('[','')\n",
    "    if ']' in S_l_dropped5['host_verifications'][i]:\n",
    "        S_l_amen.loc[i,'host_verifications'] = S_l_amen['host_verifications'][i].replace(']','')\n",
    "    if '\"' in S_l_dropped5['host_verifications'][i]:\n",
    "        S_l_amen.loc[i,'host_verifications'] = S_l_amen['host_verifications'][i].replace('\"','')\n",
    "    if \"'\" in S_l_dropped5['host_verifications'][i]:\n",
    "        S_l_amen.loc[i,'host_verifications'] = S_l_amen['host_verifications'][i].replace(\"'\",'')\n",
    "    if \" \" in S_l_dropped5['host_verifications'][i]:\n",
    "        S_l_amen.loc[i,'host_verifications'] = S_l_amen['host_verifications'][i].replace(\" \",'')\n",
    "\n",
    "all_ver=np.array([])\n",
    "for i in range(S_l_amen.shape[0]):\n",
    "    all_ver = np.append(all_ver, S_l_amen['host_verifications'][i].split(','))\n",
    "    \n",
    "all_ver = np.unique(all_ver)\n",
    "all_ver = all_ver[1:] # This is because it created a '' (empty) case, also because there is a 'None' verification\n",
    "\n",
    "for val in all_ver:\n",
    "    S_l_amen['verif_' + val] = ''\n",
    "\n",
    "S_l_amenver = S_l_amen.copy()\n",
    "\n",
    "for val in all_ver:\n",
    "    S_l_amenver['verif_'+val] = pd.Series(S_l_amenver['host_verifications'].str.contains(val).to_numpy())"
   ]
  },
  {
   "cell_type": "code",
   "execution_count": 14,
   "metadata": {},
   "outputs": [],
   "source": [
    "S_l_amenver = S_l_amenver.drop(['host_verifications','amenities','isthere_host_about'],axis=1)"
   ]
  },
  {
   "cell_type": "markdown",
   "metadata": {},
   "source": [
    "**I also drop any amenities or host verification, that less than 1% of the listings have (a.k.a. outliers)**"
   ]
  },
  {
   "cell_type": "code",
   "execution_count": 15,
   "metadata": {},
   "outputs": [
    {
     "data": {
      "text/plain": [
       "['host_since',\n",
       " 'host_response_time',\n",
       " 'host_response_rate',\n",
       " 'host_acceptance_rate',\n",
       " 'host_is_superhost',\n",
       " 'host_total_listings_count',\n",
       " 'host_has_profile_pic',\n",
       " 'host_identity_verified',\n",
       " 'neighbourhood',\n",
       " 'zipcode',\n",
       " 'latitude',\n",
       " 'longitude',\n",
       " 'is_location_exact',\n",
       " 'property_type',\n",
       " 'room_type',\n",
       " 'accommodates',\n",
       " 'bathrooms',\n",
       " 'bedrooms',\n",
       " 'beds',\n",
       " 'bed_type',\n",
       " 'square_feet',\n",
       " 'price',\n",
       " 'weekly_price',\n",
       " 'monthly_price',\n",
       " 'security_deposit',\n",
       " 'cleaning_fee',\n",
       " 'guests_included',\n",
       " 'extra_people',\n",
       " 'minimum_nights',\n",
       " 'maximum_nights',\n",
       " 'calendar_updated',\n",
       " 'availability_30',\n",
       " 'availability_60',\n",
       " 'availability_90',\n",
       " 'availability_365',\n",
       " 'number_of_reviews',\n",
       " 'first_review',\n",
       " 'last_review',\n",
       " 'review_scores_rating',\n",
       " 'review_scores_accuracy',\n",
       " 'review_scores_cleanliness',\n",
       " 'review_scores_checkin',\n",
       " 'review_scores_communication',\n",
       " 'review_scores_location',\n",
       " 'review_scores_value',\n",
       " 'instant_bookable',\n",
       " 'cancellation_policy',\n",
       " 'require_guest_profile_picture',\n",
       " 'require_guest_phone_verification',\n",
       " 'calculated_host_listings_count',\n",
       " 'reviews_per_month',\n",
       " 'isthere_summary',\n",
       " 'isthere_space',\n",
       " 'isthere_neighborhood_overview',\n",
       " 'isthere_transit',\n",
       " 'isthere_notes',\n",
       " 'amen_24-Hour Check-in',\n",
       " 'amen_Air Conditioning',\n",
       " 'amen_Breakfast',\n",
       " 'amen_Buzzer/Wireless Intercom',\n",
       " 'amen_Cable TV',\n",
       " 'amen_Carbon Monoxide Detector',\n",
       " 'amen_Cat(s)',\n",
       " 'amen_Dog(s)',\n",
       " 'amen_Doorman',\n",
       " 'amen_Dryer',\n",
       " 'amen_Elevator in Building',\n",
       " 'amen_Essentials',\n",
       " 'amen_Family/Kid Friendly',\n",
       " 'amen_Fire Extinguisher',\n",
       " 'amen_First Aid Kit',\n",
       " 'amen_Free Parking on Premises',\n",
       " 'amen_Gym',\n",
       " 'amen_Hair Dryer',\n",
       " 'amen_Hangers',\n",
       " 'amen_Heating',\n",
       " 'amen_Hot Tub',\n",
       " 'amen_Indoor Fireplace',\n",
       " 'amen_Internet',\n",
       " 'amen_Iron',\n",
       " 'amen_Kitchen',\n",
       " 'amen_Laptop Friendly Workspace',\n",
       " 'amen_Lock on Bedroom Door',\n",
       " 'amen_Other pet(s)',\n",
       " 'amen_Pets Allowed',\n",
       " 'amen_Pets live on this property',\n",
       " 'amen_Pool',\n",
       " 'amen_Safety Card',\n",
       " 'amen_Shampoo',\n",
       " 'amen_Smoke Detector',\n",
       " 'amen_Smoking Allowed',\n",
       " 'amen_Suitable for Events',\n",
       " 'amen_TV',\n",
       " 'amen_Washer',\n",
       " 'amen_Washer / Dryer',\n",
       " 'amen_Wheelchair Accessible',\n",
       " 'amen_Wireless Internet',\n",
       " 'verif_email',\n",
       " 'verif_facebook',\n",
       " 'verif_google',\n",
       " 'verif_jumio',\n",
       " 'verif_kba',\n",
       " 'verif_linkedin',\n",
       " 'verif_manual_offline',\n",
       " 'verif_manual_online',\n",
       " 'verif_phone',\n",
       " 'verif_photographer',\n",
       " 'verif_reviews',\n",
       " 'verif_sent_id']"
      ]
     },
     "execution_count": 15,
     "metadata": {},
     "output_type": "execute_result"
    }
   ],
   "source": [
    "S_l_amenver.columns.tolist()"
   ]
  },
  {
   "cell_type": "code",
   "execution_count": 16,
   "metadata": {},
   "outputs": [],
   "source": [
    "col_to_drop3=[]\n",
    "for val1 in all_am:\n",
    "    if S_l_amenver['amen_' + val1].sum() < int(0.01*S_l_amenver.shape[0]):\n",
    "        col_to_drop3.append('amen_'+val1)\n",
    "S_l_amenver = S_l_amenver.drop(col_to_drop3,axis=1)\n",
    "\n",
    "col_to_drop4=[]\n",
    "\n",
    "for val1 in all_ver:\n",
    "    if S_l_amenver['verif_' + val1].sum() < int(0.01*S_l_amenver.shape[0]):\n",
    "        col_to_drop4.append('verif_'+val1)\n",
    "col_to_drop4\n",
    "S_l_amenver = S_l_amenver.drop(col_to_drop4,axis=1)"
   ]
  },
  {
   "cell_type": "markdown",
   "metadata": {},
   "source": [
    "**I make the features with 't' and 'f' values into 1 and 0's.**"
   ]
  },
  {
   "cell_type": "code",
   "execution_count": 17,
   "metadata": {},
   "outputs": [
    {
     "name": "stderr",
     "output_type": "stream",
     "text": [
      "C:\\Users\\Henrique\\Anaconda3\\envs\\py3-TF2.0\\lib\\site-packages\\ipykernel_launcher.py:3: FutureWarning: elementwise comparison failed; returning scalar instead, but in the future will perform elementwise comparison\n",
      "  This is separate from the ipykernel package so we can avoid doing imports until\n"
     ]
    }
   ],
   "source": [
    "col_tf = []\n",
    "for col in S_l_amenver.columns.tolist():\n",
    "    if ('f' or 't') in S_l_amenver[col].unique():\n",
    "        col_tf.append(col)    \n",
    "\n",
    "for col in col_tf:\n",
    "    S_l_amenver[col] = S_l_amenver[col].replace(['t','f'],[int(1),int(0)])"
   ]
  },
  {
   "cell_type": "markdown",
   "metadata": {},
   "source": [
    "**Here I handle the dates, making them into a difference between dates (ends up as an integer)**"
   ]
  },
  {
   "cell_type": "code",
   "execution_count": 18,
   "metadata": {},
   "outputs": [],
   "source": [
    "S_l_amenver['host_since'] = (S_l_amenver['host_since']-S_l_amenver['host_since'].min()).dt.days\n",
    "S_l_amenver['first_review'] = (S_l_amenver['first_review']-S_l_amenver['first_review'].min()).dt.days\n",
    "S_l_amenver['last_review'] = (S_l_amenver['last_review']-S_l_amenver['last_review'].min()).dt.days\n",
    "\n",
    "for i in range(S_l_amenver.shape[0]):\n",
    "    if 'weeks ago' in S_l_amenver['calendar_updated'][i]:\n",
    "        S_l_amenver.loc[i,'calendar_updated'] = float(S_l_amenver['calendar_updated'][i].replace(' weeks ago', '')) * 7\n",
    "    elif 'a week ago' in S_l_amenver['calendar_updated'][i]:\n",
    "        S_l_amenver.loc[i,'calendar_updated'] = float(S_l_amenver['calendar_updated'][i].replace('a week ago', '1')) * 7\n",
    "    elif '1 week ago' in S_l_amenver['calendar_updated'][i]:\n",
    "        S_l_amenver.loc[i,'calendar_updated'] = float(S_l_amenver['calendar_updated'][i].replace('1 week ago', '1')) * 7\n",
    "    elif 'yesterday' in S_l_amenver['calendar_updated'][i]:\n",
    "        S_l_amenver.loc[i,'calendar_updated'] = float(S_l_amenver['calendar_updated'][i].replace('yesterday', '1')) * 1\n",
    "    elif 'days ago' in S_l_amenver['calendar_updated'][i]:\n",
    "        S_l_amenver.loc[i,'calendar_updated'] = float(S_l_amenver['calendar_updated'][i].replace(' days ago', '1')) * 1\n",
    "    elif 'today' in S_l_amenver['calendar_updated'][i]:\n",
    "        S_l_amenver.loc[i,'calendar_updated'] = float(S_l_amenver['calendar_updated'][i].replace('today', '1')) * 1\n",
    "    elif 'never' in S_l_amenver['calendar_updated'][i]:\n",
    "        S_l_amenver.loc[i,'calendar_updated'] = float(S_l_amenver['calendar_updated'][i].replace('never', '1')) * 2000\n",
    "    elif 'months ago' in S_l_amenver['calendar_updated'][i]:\n",
    "        S_l_amenver.loc[i,'calendar_updated'] = float(S_l_amenver['calendar_updated'][i].replace(' months ago', '')) * 30"
   ]
  },
  {
   "cell_type": "markdown",
   "metadata": {},
   "source": [
    "**There are some numbers that have '$' or '\\%' that are seen as strings, so I fix this.**"
   ]
  },
  {
   "cell_type": "code",
   "execution_count": 19,
   "metadata": {},
   "outputs": [],
   "source": [
    "col_vars = S_l_amenver.select_dtypes(include=['object', 'O']).copy().columns\n",
    "for col in col_vars:\n",
    "    if '$' in S_l_amenver[col].any():\n",
    "        S_l_amenver[col] = S_l_amenver[col].replace('[\\$,]', '', regex=True).astype(float)\n",
    "\n",
    "col_vars2 = S_l_amenver.select_dtypes(include=['object', 'O']).copy().columns\n",
    "for col in col_vars2:\n",
    "    if '%' in S_l_amenver[col].any():\n",
    "        S_l_amenver[col] = S_l_amenver[col].replace('[,\\%]','',regex=True).astype(float)"
   ]
  },
  {
   "cell_type": "markdown",
   "metadata": {},
   "source": [
    "**I define some functions here**"
   ]
  },
  {
   "cell_type": "code",
   "execution_count": 20,
   "metadata": {},
   "outputs": [],
   "source": [
    "def drop_fill(df,y_data,drop_data):\n",
    "    \"\"\"\n",
    "    df: the pandas dataframe from where the data comes from\n",
    "    y_data: the string of the dependent variable name\n",
    "    drop: A list of strings with the features you would like to drop\n",
    "    \n",
    "    Outputs:\n",
    "    X: pandas data without NaN, the independent variables\n",
    "    y: pandas data without Nan, the dependent variable\n",
    "    num_vars: list of strings with numerical variables.\n",
    "    \n",
    "    This function fills missing values with means for numerical, and mode for categorical data.\n",
    "    \"\"\"\n",
    "    drop_data.append(y_data)\n",
    "    X = df.drop(drop_data, axis=1)\n",
    "    y = df[y_data]\n",
    "    y.fillna((y.mean()), inplace=True)\n",
    "    \n",
    "    num_vars = X.select_dtypes(include=['float', 'int']).columns\n",
    "    for col in num_vars:\n",
    "        X[col].fillna((X[col].mean()), inplace=True)\n",
    "    \n",
    "    cat_vars = X.select_dtypes(include=['object', 'O']).copy().columns\n",
    "    for var in cat_vars:\n",
    "        X[var].fillna((X[var].mode()[0]), inplace=True)\n",
    "    return X, y, num_vars"
   ]
  },
  {
   "cell_type": "code",
   "execution_count": 21,
   "metadata": {},
   "outputs": [],
   "source": [
    "def make_dummies(df):\n",
    "    cat_vars = df.select_dtypes(include=['object', 'O']).copy().columns\n",
    "    for var in cat_vars:\n",
    "        # for each cat add dummy var, drop original column\n",
    "        df = pd.concat([df.drop(var, axis=1), pd.get_dummies(df[var], prefix=var, prefix_sep='_', drop_first=True)], axis=1)\n",
    "    df_2= df.copy()\n",
    "    return df_2"
   ]
  },
  {
   "cell_type": "code",
   "execution_count": 22,
   "metadata": {},
   "outputs": [],
   "source": [
    "def vif_dropping(X_data,VIF_lim):\n",
    "    \"\"\"\n",
    "    X_data: pandas data, independent variables without num values.\n",
    "    VIF_lim: the maximum VIF value allowed to exist\n",
    "    \n",
    "    X_out: pandas dataframe without features VIF values above VIF_lim.\n",
    "    \"\"\"\n",
    "    num_vars2 = X_data.select_dtypes(include=['float', 'int']).columns\n",
    "    variables = X_data[num_vars2]\n",
    "    vif = pd.DataFrame()\n",
    "    vif[\"VIF\"] = [variance_inflation_factor(variables.values, i) for i in range(variables.shape[1])]\n",
    "    vif_val=50\n",
    "    \n",
    "    while len(vif[vif['VIF']>VIF_lim]) != 0:\n",
    "        num_vars2 = X_data.select_dtypes(include=['float', 'int']).columns\n",
    "        vif_val=vif_val-5\n",
    "        variables = X_data[num_vars2]\n",
    "        vif = pd.DataFrame()\n",
    "        vif[\"VIF\"] = [variance_inflation_factor(variables.values, i) for i in range(variables.shape[1])]\n",
    "        vif[\"Features\"] = variables.columns\n",
    "        VIF_clean=vif[vif[\"VIF\"]>vif_val].Features\n",
    "        X_data = X_data.drop(VIF_clean,axis=1)\n",
    "        \n",
    "    X_out = X_data.copy()\n",
    "    return X_out"
   ]
  },
  {
   "cell_type": "code",
   "execution_count": 23,
   "metadata": {},
   "outputs": [],
   "source": [
    "def LR_model(X_data,y_data,test_sizee, rdm_state):\n",
    "    \"\"\"\n",
    "    X_data: pandas dataframe with the independent variables\n",
    "    y_data: pandas dataframe with the dependent variable\n",
    "    test_sizee: size of the test sample\n",
    "    rdm_state: random state for randomizer.\n",
    "    \n",
    "    y_test: the test targets, as a numpy array.\n",
    "    y_test_preds: the predicted targets, as a numpy array.\n",
    "    \"\"\"\n",
    "    scaler = StandardScaler()\n",
    "    X_scaled = X_data.copy()\n",
    "    scaler.fit(X_scaled)\n",
    "    \n",
    "    X_columns = X_data.columns.tolist()\n",
    "    X_train, X_test, y_train, y_test = train_test_split(scaler.transform(X_scaled), y_data, test_size = test_sizee, random_state=rdm_state) \n",
    "    lm_model = LinearRegression() \n",
    "    lm_model.fit(X_train, y_train) \n",
    "\n",
    "    y_test_preds = lm_model.predict(X_test) \n",
    "    \n",
    "    return X_columns, X_train, X_test, y_train, y_test, y_test_preds"
   ]
  },
  {
   "cell_type": "code",
   "execution_count": 24,
   "metadata": {},
   "outputs": [],
   "source": [
    "# Removing features which do no vary.\n",
    "col_to_drop = []\n",
    "for col in S_l_amenver.columns.tolist():\n",
    "    if len(S_l_amenver[col].unique())==1:\n",
    "        col_to_drop.append(col)\n",
    "\n",
    "S_l_amenver = S_l_amenver.drop(col_to_drop, axis=1)"
   ]
  },
  {
   "cell_type": "markdown",
   "metadata": {},
   "source": [
    "## Trying the Linear Model with sklearn"
   ]
  },
  {
   "cell_type": "code",
   "execution_count": 25,
   "metadata": {},
   "outputs": [],
   "source": [
    "X,y,num_vars = drop_fill(S_l_amenver,'price',['weekly_price','monthly_price'])\n",
    "X = make_dummies(X)\n",
    "X = vif_dropping(X,15)"
   ]
  },
  {
   "cell_type": "code",
   "execution_count": 35,
   "metadata": {},
   "outputs": [
    {
     "data": {
      "text/plain": [
       "'The r-squared score for the model using all variables was 0.608378843097933 on 592 values.'"
      ]
     },
     "execution_count": 35,
     "metadata": {},
     "output_type": "execute_result"
    }
   ],
   "source": [
    "X_columns, X_train, X_test, y_train, y_test, y_test_preds = LR_model(X,y,0.2,43) \n",
    "\"The r-squared score for the model using all variables was {} on {} values.\".format(r2_score(y_test, y_test_preds), len(y_test))"
   ]
  },
  {
   "cell_type": "code",
   "execution_count": 42,
   "metadata": {},
   "outputs": [
    {
     "data": {
      "text/plain": [
       "(array([  0., 100., 200., 300., 400., 500., 600.]),\n",
       " <a list of 7 Text xticklabel objects>)"
      ]
     },
     "execution_count": 42,
     "metadata": {},
     "output_type": "execute_result"
    },
    {
     "data": {
      "image/png": "[encoded data removed]",
      "text/plain": [
       "<Figure size 432x288 with 1 Axes>"
      ]
     },
     "metadata": {
      "needs_background": "light"
     },
     "output_type": "display_data"
    }
   ],
   "source": [
    "xx = np.arange(0,700,1)\n",
    "plt.scatter(y_test,y_test_preds)\n",
    "plt.plot([0,700],[0,700],'g')\n",
    "plt.plot([0,700],[-50,650],'k:',lw=4,label='-50 USD')\n",
    "plt.plot([0,700],[50,750],'k--',lw=4,label='+50 USD')\n",
    "plt.grid(True)\n",
    "plt.xlabel('Real Prices [USD]',FontSize=16)\n",
    "plt.ylabel('Predicted Prices [USD]',FontSize=16)\n",
    "plt.legend(loc='lower right',prop={'size': 16})\n",
    "plt.xlim(0,600)\n",
    "plt.ylim(0,600)\n",
    "plt.yticks(fontsize=16)\n",
    "plt.xticks(fontsize=16)"
   ]
  },
  {
   "cell_type": "code",
   "execution_count": 41,
   "metadata": {},
   "outputs": [
    {
     "data": {
      "text/plain": [
       "0.5919494146976272"
      ]
     },
     "execution_count": 41,
     "metadata": {},
     "output_type": "execute_result"
    }
   ],
   "source": [
    "clf = SVR(kernel='linear',C=2,epsilon=0.1)\n",
    "clf.fit(X_train, y_train)\n",
    "clf.score(X_test,y_test)"
   ]
  },
  {
   "cell_type": "code",
   "execution_count": 44,
   "metadata": {},
   "outputs": [
    {
     "data": {
      "text/plain": [
       "-0.5071862362182209"
      ]
     },
     "execution_count": 44,
     "metadata": {},
     "output_type": "execute_result"
    }
   ],
   "source": [
    "regr = AdaBoostRegressor(random_state=43, n_estimators=100)\n",
    "regr.fit(X_train, y_train)\n",
    "regr.score(X_test, y_test)"
   ]
  },
  {
   "cell_type": "code",
   "execution_count": 29,
   "metadata": {},
   "outputs": [
    {
     "data": {
      "text/html": [
       "<div>\n",
       "<style scoped>\n",
       "    .dataframe tbody tr th:only-of-type {\n",
       "        vertical-align: middle;\n",
       "    }\n",
       "\n",
       "    .dataframe tbody tr th {\n",
       "        vertical-align: top;\n",
       "    }\n",
       "\n",
       "    .dataframe thead th {\n",
       "        text-align: right;\n",
       "    }\n",
       "</style>\n",
       "<table border=\"1\" class=\"dataframe\">\n",
       "  <thead>\n",
       "    <tr style=\"text-align: right;\">\n",
       "      <th></th>\n",
       "      <th>host_since</th>\n",
       "      <th>host_is_superhost</th>\n",
       "      <th>host_total_listings_count</th>\n",
       "      <th>host_has_profile_pic</th>\n",
       "      <th>host_identity_verified</th>\n",
       "      <th>is_location_exact</th>\n",
       "      <th>accommodates</th>\n",
       "      <th>bathrooms</th>\n",
       "      <th>beds</th>\n",
       "      <th>security_deposit</th>\n",
       "      <th>...</th>\n",
       "      <th>property_type_Treehouse</th>\n",
       "      <th>property_type_Yurt</th>\n",
       "      <th>room_type_Private room</th>\n",
       "      <th>room_type_Shared room</th>\n",
       "      <th>bed_type_Couch</th>\n",
       "      <th>bed_type_Futon</th>\n",
       "      <th>bed_type_Pull-out Sofa</th>\n",
       "      <th>bed_type_Real Bed</th>\n",
       "      <th>cancellation_policy_moderate</th>\n",
       "      <th>cancellation_policy_strict</th>\n",
       "    </tr>\n",
       "  </thead>\n",
       "  <tbody>\n",
       "    <tr>\n",
       "      <th>0</th>\n",
       "      <td>-0.361374</td>\n",
       "      <td>-0.559265</td>\n",
       "      <td>-0.282419</td>\n",
       "      <td>0.026007</td>\n",
       "      <td>-2.225696</td>\n",
       "      <td>0.326469</td>\n",
       "      <td>-0.195918</td>\n",
       "      <td>0.000000</td>\n",
       "      <td>0.216446</td>\n",
       "      <td>0.000000</td>\n",
       "      <td>...</td>\n",
       "      <td>-0.026007</td>\n",
       "      <td>-0.018387</td>\n",
       "      <td>-0.674896</td>\n",
       "      <td>-0.184099</td>\n",
       "      <td>-0.048696</td>\n",
       "      <td>-0.141397</td>\n",
       "      <td>-0.110978</td>\n",
       "      <td>0.204698</td>\n",
       "      <td>1.378760</td>\n",
       "      <td>-0.823066</td>\n",
       "    </tr>\n",
       "    <tr>\n",
       "      <th>1</th>\n",
       "      <td>-0.396739</td>\n",
       "      <td>-0.559265</td>\n",
       "      <td>-0.282419</td>\n",
       "      <td>0.026007</td>\n",
       "      <td>0.449298</td>\n",
       "      <td>0.326469</td>\n",
       "      <td>0.298724</td>\n",
       "      <td>1.265283</td>\n",
       "      <td>-0.648753</td>\n",
       "      <td>-0.172331</td>\n",
       "      <td>...</td>\n",
       "      <td>-0.026007</td>\n",
       "      <td>-0.018387</td>\n",
       "      <td>-0.674896</td>\n",
       "      <td>-0.184099</td>\n",
       "      <td>-0.048696</td>\n",
       "      <td>-0.141397</td>\n",
       "      <td>-0.110978</td>\n",
       "      <td>0.204698</td>\n",
       "      <td>-0.725289</td>\n",
       "      <td>-0.823066</td>\n",
       "    </tr>\n",
       "    <tr>\n",
       "      <th>2</th>\n",
       "      <td>0.430805</td>\n",
       "      <td>-0.559265</td>\n",
       "      <td>-0.282419</td>\n",
       "      <td>0.026007</td>\n",
       "      <td>0.449298</td>\n",
       "      <td>-3.063080</td>\n",
       "      <td>2.277293</td>\n",
       "      <td>3.831884</td>\n",
       "      <td>1.946844</td>\n",
       "      <td>3.780714</td>\n",
       "      <td>...</td>\n",
       "      <td>-0.026007</td>\n",
       "      <td>-0.018387</td>\n",
       "      <td>-0.674896</td>\n",
       "      <td>-0.184099</td>\n",
       "      <td>-0.048696</td>\n",
       "      <td>-0.141397</td>\n",
       "      <td>-0.110978</td>\n",
       "      <td>0.204698</td>\n",
       "      <td>1.378760</td>\n",
       "      <td>-0.823066</td>\n",
       "    </tr>\n",
       "    <tr>\n",
       "      <th>3</th>\n",
       "      <td>1.253045</td>\n",
       "      <td>1.788061</td>\n",
       "      <td>-0.282419</td>\n",
       "      <td>0.026007</td>\n",
       "      <td>-2.225696</td>\n",
       "      <td>0.326469</td>\n",
       "      <td>1.288009</td>\n",
       "      <td>0.409749</td>\n",
       "      <td>1.081645</td>\n",
       "      <td>1.145351</td>\n",
       "      <td>...</td>\n",
       "      <td>-0.026007</td>\n",
       "      <td>-0.018387</td>\n",
       "      <td>-0.674896</td>\n",
       "      <td>-0.184099</td>\n",
       "      <td>-0.048696</td>\n",
       "      <td>-0.141397</td>\n",
       "      <td>-0.110978</td>\n",
       "      <td>0.204698</td>\n",
       "      <td>-0.725289</td>\n",
       "      <td>1.214969</td>\n",
       "    </tr>\n",
       "    <tr>\n",
       "      <th>4</th>\n",
       "      <td>0.444951</td>\n",
       "      <td>1.788061</td>\n",
       "      <td>-0.236505</td>\n",
       "      <td>0.026007</td>\n",
       "      <td>0.449298</td>\n",
       "      <td>0.326469</td>\n",
       "      <td>2.277293</td>\n",
       "      <td>1.265283</td>\n",
       "      <td>2.812043</td>\n",
       "      <td>-0.699404</td>\n",
       "      <td>...</td>\n",
       "      <td>-0.026007</td>\n",
       "      <td>-0.018387</td>\n",
       "      <td>-0.674896</td>\n",
       "      <td>-0.184099</td>\n",
       "      <td>-0.048696</td>\n",
       "      <td>-0.141397</td>\n",
       "      <td>-0.110978</td>\n",
       "      <td>0.204698</td>\n",
       "      <td>1.378760</td>\n",
       "      <td>-0.823066</td>\n",
       "    </tr>\n",
       "    <tr>\n",
       "      <th>...</th>\n",
       "      <td>...</td>\n",
       "      <td>...</td>\n",
       "      <td>...</td>\n",
       "      <td>...</td>\n",
       "      <td>...</td>\n",
       "      <td>...</td>\n",
       "      <td>...</td>\n",
       "      <td>...</td>\n",
       "      <td>...</td>\n",
       "      <td>...</td>\n",
       "      <td>...</td>\n",
       "      <td>...</td>\n",
       "      <td>...</td>\n",
       "      <td>...</td>\n",
       "      <td>...</td>\n",
       "      <td>...</td>\n",
       "      <td>...</td>\n",
       "      <td>...</td>\n",
       "      <td>...</td>\n",
       "      <td>...</td>\n",
       "      <td>...</td>\n",
       "    </tr>\n",
       "    <tr>\n",
       "      <th>2362</th>\n",
       "      <td>1.177010</td>\n",
       "      <td>-0.559265</td>\n",
       "      <td>-0.282419</td>\n",
       "      <td>0.026007</td>\n",
       "      <td>-2.225696</td>\n",
       "      <td>0.326469</td>\n",
       "      <td>0.298724</td>\n",
       "      <td>-0.445784</td>\n",
       "      <td>0.216446</td>\n",
       "      <td>-0.962940</td>\n",
       "      <td>...</td>\n",
       "      <td>-0.026007</td>\n",
       "      <td>-0.018387</td>\n",
       "      <td>-0.674896</td>\n",
       "      <td>-0.184099</td>\n",
       "      <td>-0.048696</td>\n",
       "      <td>-0.141397</td>\n",
       "      <td>-0.110978</td>\n",
       "      <td>0.204698</td>\n",
       "      <td>1.378760</td>\n",
       "      <td>-0.823066</td>\n",
       "    </tr>\n",
       "    <tr>\n",
       "      <th>2363</th>\n",
       "      <td>-1.075750</td>\n",
       "      <td>-0.559265</td>\n",
       "      <td>1.370480</td>\n",
       "      <td>0.026007</td>\n",
       "      <td>0.449298</td>\n",
       "      <td>0.326469</td>\n",
       "      <td>-1.185202</td>\n",
       "      <td>-1.301318</td>\n",
       "      <td>-0.648753</td>\n",
       "      <td>0.354742</td>\n",
       "      <td>...</td>\n",
       "      <td>-0.026007</td>\n",
       "      <td>-0.018387</td>\n",
       "      <td>-0.674896</td>\n",
       "      <td>5.431865</td>\n",
       "      <td>-0.048696</td>\n",
       "      <td>-0.141397</td>\n",
       "      <td>-0.110978</td>\n",
       "      <td>0.204698</td>\n",
       "      <td>-0.725289</td>\n",
       "      <td>1.214969</td>\n",
       "    </tr>\n",
       "    <tr>\n",
       "      <th>2364</th>\n",
       "      <td>1.362677</td>\n",
       "      <td>-0.559265</td>\n",
       "      <td>-0.282419</td>\n",
       "      <td>0.026007</td>\n",
       "      <td>0.449298</td>\n",
       "      <td>0.326469</td>\n",
       "      <td>-0.690560</td>\n",
       "      <td>-0.445784</td>\n",
       "      <td>-0.648753</td>\n",
       "      <td>0.000000</td>\n",
       "      <td>...</td>\n",
       "      <td>-0.026007</td>\n",
       "      <td>-0.018387</td>\n",
       "      <td>1.481710</td>\n",
       "      <td>-0.184099</td>\n",
       "      <td>-0.048696</td>\n",
       "      <td>-0.141397</td>\n",
       "      <td>-0.110978</td>\n",
       "      <td>0.204698</td>\n",
       "      <td>1.378760</td>\n",
       "      <td>-0.823066</td>\n",
       "    </tr>\n",
       "    <tr>\n",
       "      <th>2365</th>\n",
       "      <td>-1.121725</td>\n",
       "      <td>-0.559265</td>\n",
       "      <td>0.038978</td>\n",
       "      <td>0.026007</td>\n",
       "      <td>0.449298</td>\n",
       "      <td>-3.063080</td>\n",
       "      <td>0.298724</td>\n",
       "      <td>0.000000</td>\n",
       "      <td>-0.648753</td>\n",
       "      <td>-0.435867</td>\n",
       "      <td>...</td>\n",
       "      <td>-0.026007</td>\n",
       "      <td>-0.018387</td>\n",
       "      <td>-0.674896</td>\n",
       "      <td>-0.184099</td>\n",
       "      <td>-0.048696</td>\n",
       "      <td>-0.141397</td>\n",
       "      <td>-0.110978</td>\n",
       "      <td>0.204698</td>\n",
       "      <td>-0.725289</td>\n",
       "      <td>1.214969</td>\n",
       "    </tr>\n",
       "    <tr>\n",
       "      <th>2366</th>\n",
       "      <td>-0.960814</td>\n",
       "      <td>-0.559265</td>\n",
       "      <td>-0.282419</td>\n",
       "      <td>0.026007</td>\n",
       "      <td>-2.225696</td>\n",
       "      <td>0.326469</td>\n",
       "      <td>0.298724</td>\n",
       "      <td>-0.445784</td>\n",
       "      <td>0.216446</td>\n",
       "      <td>0.000000</td>\n",
       "      <td>...</td>\n",
       "      <td>-0.026007</td>\n",
       "      <td>-0.018387</td>\n",
       "      <td>-0.674896</td>\n",
       "      <td>-0.184099</td>\n",
       "      <td>-0.048696</td>\n",
       "      <td>-0.141397</td>\n",
       "      <td>-0.110978</td>\n",
       "      <td>0.204698</td>\n",
       "      <td>-0.725289</td>\n",
       "      <td>1.214969</td>\n",
       "    </tr>\n",
       "  </tbody>\n",
       "</table>\n",
       "<p>2367 rows × 202 columns</p>\n",
       "</div>"
      ],
      "text/plain": [
       "      host_since  host_is_superhost  host_total_listings_count  \\\n",
       "0      -0.361374          -0.559265                  -0.282419   \n",
       "1      -0.396739          -0.559265                  -0.282419   \n",
       "2       0.430805          -0.559265                  -0.282419   \n",
       "3       1.253045           1.788061                  -0.282419   \n",
       "4       0.444951           1.788061                  -0.236505   \n",
       "...          ...                ...                        ...   \n",
       "2362    1.177010          -0.559265                  -0.282419   \n",
       "2363   -1.075750          -0.559265                   1.370480   \n",
       "2364    1.362677          -0.559265                  -0.282419   \n",
       "2365   -1.121725          -0.559265                   0.038978   \n",
       "2366   -0.960814          -0.559265                  -0.282419   \n",
       "\n",
       "      host_has_profile_pic  host_identity_verified  is_location_exact  \\\n",
       "0                 0.026007               -2.225696           0.326469   \n",
       "1                 0.026007                0.449298           0.326469   \n",
       "2                 0.026007                0.449298          -3.063080   \n",
       "3                 0.026007               -2.225696           0.326469   \n",
       "4                 0.026007                0.449298           0.326469   \n",
       "...                    ...                     ...                ...   \n",
       "2362              0.026007               -2.225696           0.326469   \n",
       "2363              0.026007                0.449298           0.326469   \n",
       "2364              0.026007                0.449298           0.326469   \n",
       "2365              0.026007                0.449298          -3.063080   \n",
       "2366              0.026007               -2.225696           0.326469   \n",
       "\n",
       "      accommodates  bathrooms      beds  security_deposit  ...  \\\n",
       "0        -0.195918   0.000000  0.216446          0.000000  ...   \n",
       "1         0.298724   1.265283 -0.648753         -0.172331  ...   \n",
       "2         2.277293   3.831884  1.946844          3.780714  ...   \n",
       "3         1.288009   0.409749  1.081645          1.145351  ...   \n",
       "4         2.277293   1.265283  2.812043         -0.699404  ...   \n",
       "...            ...        ...       ...               ...  ...   \n",
       "2362      0.298724  -0.445784  0.216446         -0.962940  ...   \n",
       "2363     -1.185202  -1.301318 -0.648753          0.354742  ...   \n",
       "2364     -0.690560  -0.445784 -0.648753          0.000000  ...   \n",
       "2365      0.298724   0.000000 -0.648753         -0.435867  ...   \n",
       "2366      0.298724  -0.445784  0.216446          0.000000  ...   \n",
       "\n",
       "      property_type_Treehouse  property_type_Yurt  room_type_Private room  \\\n",
       "0                   -0.026007           -0.018387               -0.674896   \n",
       "1                   -0.026007           -0.018387               -0.674896   \n",
       "2                   -0.026007           -0.018387               -0.674896   \n",
       "3                   -0.026007           -0.018387               -0.674896   \n",
       "4                   -0.026007           -0.018387               -0.674896   \n",
       "...                       ...                 ...                     ...   \n",
       "2362                -0.026007           -0.018387               -0.674896   \n",
       "2363                -0.026007           -0.018387               -0.674896   \n",
       "2364                -0.026007           -0.018387                1.481710   \n",
       "2365                -0.026007           -0.018387               -0.674896   \n",
       "2366                -0.026007           -0.018387               -0.674896   \n",
       "\n",
       "      room_type_Shared room  bed_type_Couch  bed_type_Futon  \\\n",
       "0                 -0.184099       -0.048696       -0.141397   \n",
       "1                 -0.184099       -0.048696       -0.141397   \n",
       "2                 -0.184099       -0.048696       -0.141397   \n",
       "3                 -0.184099       -0.048696       -0.141397   \n",
       "4                 -0.184099       -0.048696       -0.141397   \n",
       "...                     ...             ...             ...   \n",
       "2362              -0.184099       -0.048696       -0.141397   \n",
       "2363               5.431865       -0.048696       -0.141397   \n",
       "2364              -0.184099       -0.048696       -0.141397   \n",
       "2365              -0.184099       -0.048696       -0.141397   \n",
       "2366              -0.184099       -0.048696       -0.141397   \n",
       "\n",
       "      bed_type_Pull-out Sofa  bed_type_Real Bed  cancellation_policy_moderate  \\\n",
       "0                  -0.110978           0.204698                      1.378760   \n",
       "1                  -0.110978           0.204698                     -0.725289   \n",
       "2                  -0.110978           0.204698                      1.378760   \n",
       "3                  -0.110978           0.204698                     -0.725289   \n",
       "4                  -0.110978           0.204698                      1.378760   \n",
       "...                      ...                ...                           ...   \n",
       "2362               -0.110978           0.204698                      1.378760   \n",
       "2363               -0.110978           0.204698                     -0.725289   \n",
       "2364               -0.110978           0.204698                      1.378760   \n",
       "2365               -0.110978           0.204698                     -0.725289   \n",
       "2366               -0.110978           0.204698                     -0.725289   \n",
       "\n",
       "      cancellation_policy_strict  \n",
       "0                      -0.823066  \n",
       "1                      -0.823066  \n",
       "2                      -0.823066  \n",
       "3                       1.214969  \n",
       "4                      -0.823066  \n",
       "...                          ...  \n",
       "2362                   -0.823066  \n",
       "2363                    1.214969  \n",
       "2364                   -0.823066  \n",
       "2365                    1.214969  \n",
       "2366                    1.214969  \n",
       "\n",
       "[2367 rows x 202 columns]"
      ]
     },
     "execution_count": 29,
     "metadata": {},
     "output_type": "execute_result"
    }
   ],
   "source": [
    "X_train2= pd.DataFrame(data=X_train,columns=X_columns)\n",
    "X_train2"
   ]
  },
  {
   "cell_type": "code",
   "execution_count": 30,
   "metadata": {},
   "outputs": [],
   "source": [
    "for col in X_train2.columns.tolist():\n",
    "    if X_train2[col].isna().any():\n",
    "        print(col)"
   ]
  },
  {
   "cell_type": "code",
   "execution_count": 31,
   "metadata": {},
   "outputs": [
    {
     "name": "stdout",
     "output_type": "stream",
     "text": [
      "WARNING:tensorflow:Falling back from v2 loop because of error: Failed to find data adapter that can handle input: <class 'pandas.core.frame.DataFrame'>, <class 'NoneType'>\n",
      "Train on 1893 samples, validate on 474 samples\n",
      "Epoch 1/50\n",
      "1893/1893 - 0s - loss: 21648.9875 - accuracy: 0.0000e+00 - val_loss: 21856.1228 - val_accuracy: 0.0000e+00\n",
      "Epoch 2/50\n",
      "1893/1893 - 0s - loss: 15199.2482 - accuracy: 0.0000e+00 - val_loss: 13121.8604 - val_accuracy: 0.0000e+00\n",
      "Epoch 3/50\n",
      "1893/1893 - 0s - loss: 6962.3379 - accuracy: 0.0000e+00 - val_loss: 6110.8816 - val_accuracy: 0.0000e+00\n",
      "Epoch 4/50\n",
      "1893/1893 - 0s - loss: 3784.5746 - accuracy: 0.0000e+00 - val_loss: 4909.2842 - val_accuracy: 0.0000e+00\n",
      "Epoch 5/50\n",
      "1893/1893 - 0s - loss: 3203.1243 - accuracy: 0.0000e+00 - val_loss: 4623.7928 - val_accuracy: 0.0000e+00\n",
      "Epoch 6/50\n",
      "1893/1893 - 0s - loss: 2930.9124 - accuracy: 0.0000e+00 - val_loss: 4428.6900 - val_accuracy: 0.0000e+00\n",
      "Epoch 7/50\n",
      "1893/1893 - 0s - loss: 2728.2691 - accuracy: 0.0000e+00 - val_loss: 4314.0966 - val_accuracy: 0.0000e+00\n",
      "Epoch 8/50\n",
      "1893/1893 - 0s - loss: 2615.2307 - accuracy: 0.0000e+00 - val_loss: 4274.2083 - val_accuracy: 0.0000e+00\n",
      "Epoch 9/50\n",
      "1893/1893 - 0s - loss: 2528.6869 - accuracy: 0.0000e+00 - val_loss: 4194.8446 - val_accuracy: 0.0000e+00\n",
      "Epoch 10/50\n",
      "1893/1893 - 0s - loss: 2417.4747 - accuracy: 0.0000e+00 - val_loss: 4151.0434 - val_accuracy: 0.0000e+00\n",
      "Epoch 11/50\n",
      "1893/1893 - 0s - loss: 2352.9842 - accuracy: 0.0000e+00 - val_loss: 4146.7309 - val_accuracy: 0.0000e+00\n",
      "Epoch 12/50\n",
      "1893/1893 - 0s - loss: 2286.8115 - accuracy: 0.0000e+00 - val_loss: 4097.0941 - val_accuracy: 0.0000e+00\n",
      "Epoch 13/50\n",
      "1893/1893 - 0s - loss: 2224.9345 - accuracy: 0.0000e+00 - val_loss: 4088.7106 - val_accuracy: 0.0000e+00\n",
      "Epoch 14/50\n",
      "1893/1893 - 0s - loss: 2166.6863 - accuracy: 0.0000e+00 - val_loss: 4071.9112 - val_accuracy: 0.0000e+00\n",
      "Epoch 15/50\n",
      "1893/1893 - 0s - loss: 2122.6629 - accuracy: 0.0000e+00 - val_loss: 4046.6828 - val_accuracy: 0.0000e+00\n",
      "Epoch 16/50\n",
      "1893/1893 - 0s - loss: 2065.7890 - accuracy: 0.0000e+00 - val_loss: 4050.5053 - val_accuracy: 0.0000e+00\n",
      "Epoch 17/50\n",
      "1893/1893 - 0s - loss: 2031.2696 - accuracy: 0.0000e+00 - val_loss: 4016.7119 - val_accuracy: 0.0000e+00\n",
      "Epoch 18/50\n",
      "1893/1893 - 0s - loss: 1986.6469 - accuracy: 0.0000e+00 - val_loss: 4004.5215 - val_accuracy: 0.0000e+00\n",
      "Epoch 19/50\n",
      "1893/1893 - 0s - loss: 1944.4518 - accuracy: 0.0000e+00 - val_loss: 4005.8970 - val_accuracy: 0.0000e+00\n",
      "Epoch 20/50\n",
      "1893/1893 - 0s - loss: 1891.5538 - accuracy: 0.0000e+00 - val_loss: 4019.8923 - val_accuracy: 0.0000e+00\n",
      "Epoch 21/50\n",
      "1893/1893 - 0s - loss: 1847.9621 - accuracy: 0.0000e+00 - val_loss: 4029.4577 - val_accuracy: 0.0000e+00\n",
      "Epoch 22/50\n",
      "1893/1893 - 0s - loss: 1818.4289 - accuracy: 0.0000e+00 - val_loss: 4019.3188 - val_accuracy: 0.0000e+00\n",
      "Epoch 23/50\n",
      "1893/1893 - 0s - loss: 1779.0982 - accuracy: 0.0000e+00 - val_loss: 4045.3039 - val_accuracy: 0.0000e+00\n"
     ]
    },
    {
     "data": {
      "text/plain": [
       "<tensorflow.python.keras.callbacks.History at 0x1d559235788>"
      ]
     },
     "execution_count": 31,
     "metadata": {},
     "output_type": "execute_result"
    }
   ],
   "source": [
    "BATCH_SIZE = 100\n",
    "hidden_layer_size = 200\n",
    "NUM_EPOCHS = 50\n",
    "output_size = 1\n",
    "\n",
    "model = tf.keras.Sequential([    \n",
    "    tf.keras.layers.Dense(hidden_layer_size, activation='relu', input_shape=[len(X_train2.keys())]),\n",
    "    tf.keras.layers.Dense(hidden_layer_size, activation='relu'),\n",
    "    \n",
    "    tf.keras.layers.Dense(output_size, activation='relu') # output layer\n",
    "])\n",
    "\n",
    "\"\"\" \n",
    "Now we have to choose the optimizer and the loss function.\n",
    "\n",
    "metrics will show us what we are interested in obtaining at each iteration.\n",
    "\"\"\"\n",
    "model.compile(optimizer='adam', loss='mse',metrics=['accuracy'])\n",
    "\n",
    "early_stopping = tf.keras.callbacks.EarlyStopping(patience=5)\n",
    "\n",
    "model.fit(X_train2, \n",
    "          y_train, \n",
    "          batch_size = BATCH_SIZE, \n",
    "          epochs = NUM_EPOCHS, \n",
    "          callbacks = [early_stopping],\n",
    "          validation_split = 0.2,\n",
    "          verbose =2)"
   ]
  },
  {
   "cell_type": "code",
   "execution_count": null,
   "metadata": {},
   "outputs": [],
   "source": []
  },
  {
   "cell_type": "code",
   "execution_count": null,
   "metadata": {},
   "outputs": [],
   "source": []
  },
  {
   "cell_type": "code",
   "execution_count": null,
   "metadata": {},
   "outputs": [],
   "source": []
  },
  {
   "cell_type": "markdown",
   "metadata": {},
   "source": [
    "## Visualizing the data"
   ]
  },
  {
   "cell_type": "markdown",
   "metadata": {},
   "source": [
    "**Price by neighbourhood**"
   ]
  },
  {
   "cell_type": "code",
   "execution_count": 90,
   "metadata": {},
   "outputs": [
    {
     "data": {
      "text/html": [
       "<div>\n",
       "<style scoped>\n",
       "    .dataframe tbody tr th:only-of-type {\n",
       "        vertical-align: middle;\n",
       "    }\n",
       "\n",
       "    .dataframe tbody tr th {\n",
       "        vertical-align: top;\n",
       "    }\n",
       "\n",
       "    .dataframe thead th {\n",
       "        text-align: right;\n",
       "    }\n",
       "</style>\n",
       "<table border=\"1\" class=\"dataframe\">\n",
       "  <thead>\n",
       "    <tr style=\"text-align: right;\">\n",
       "      <th></th>\n",
       "      <th>Neighbourhood</th>\n",
       "      <th>latitude</th>\n",
       "      <th>longitude</th>\n",
       "      <th>Price (USD)</th>\n",
       "    </tr>\n",
       "  </thead>\n",
       "  <tbody>\n",
       "    <tr>\n",
       "      <th>0</th>\n",
       "      <td>Delridge</td>\n",
       "      <td>47.545983</td>\n",
       "      <td>-122.362599</td>\n",
       "      <td>83.278481</td>\n",
       "    </tr>\n",
       "    <tr>\n",
       "      <th>1</th>\n",
       "      <td>Northgate</td>\n",
       "      <td>47.702454</td>\n",
       "      <td>-122.325100</td>\n",
       "      <td>88.550000</td>\n",
       "    </tr>\n",
       "    <tr>\n",
       "      <th>2</th>\n",
       "      <td>Rainier Valley</td>\n",
       "      <td>47.554471</td>\n",
       "      <td>-122.281401</td>\n",
       "      <td>91.899371</td>\n",
       "    </tr>\n",
       "    <tr>\n",
       "      <th>3</th>\n",
       "      <td>Lake City</td>\n",
       "      <td>47.712153</td>\n",
       "      <td>-122.293985</td>\n",
       "      <td>92.671642</td>\n",
       "    </tr>\n",
       "    <tr>\n",
       "      <th>4</th>\n",
       "      <td>University District</td>\n",
       "      <td>47.662874</td>\n",
       "      <td>-122.314214</td>\n",
       "      <td>93.639344</td>\n",
       "    </tr>\n",
       "    <tr>\n",
       "      <th>5</th>\n",
       "      <td>Beacon Hill</td>\n",
       "      <td>47.569667</td>\n",
       "      <td>-122.306754</td>\n",
       "      <td>94.669492</td>\n",
       "    </tr>\n",
       "    <tr>\n",
       "      <th>6</th>\n",
       "      <td>Seward Park</td>\n",
       "      <td>47.554276</td>\n",
       "      <td>-122.268686</td>\n",
       "      <td>108.477273</td>\n",
       "    </tr>\n",
       "    <tr>\n",
       "      <th>7</th>\n",
       "      <td>Interbay</td>\n",
       "      <td>47.641729</td>\n",
       "      <td>-122.382653</td>\n",
       "      <td>109.727273</td>\n",
       "    </tr>\n",
       "    <tr>\n",
       "      <th>8</th>\n",
       "      <td>Other neighborhoods</td>\n",
       "      <td>47.670646</td>\n",
       "      <td>-122.335808</td>\n",
       "      <td>119.968514</td>\n",
       "    </tr>\n",
       "    <tr>\n",
       "      <th>9</th>\n",
       "      <td>Ballard</td>\n",
       "      <td>47.674525</td>\n",
       "      <td>-122.380150</td>\n",
       "      <td>124.682609</td>\n",
       "    </tr>\n",
       "    <tr>\n",
       "      <th>10</th>\n",
       "      <td>Central Area</td>\n",
       "      <td>47.607715</td>\n",
       "      <td>-122.301760</td>\n",
       "      <td>128.338753</td>\n",
       "    </tr>\n",
       "    <tr>\n",
       "      <th>11</th>\n",
       "      <td>Capitol Hill</td>\n",
       "      <td>47.623578</td>\n",
       "      <td>-122.316462</td>\n",
       "      <td>130.592593</td>\n",
       "    </tr>\n",
       "    <tr>\n",
       "      <th>12</th>\n",
       "      <td>Cascade</td>\n",
       "      <td>47.633757</td>\n",
       "      <td>-122.331631</td>\n",
       "      <td>140.101124</td>\n",
       "    </tr>\n",
       "    <tr>\n",
       "      <th>13</th>\n",
       "      <td>West Seattle</td>\n",
       "      <td>47.561976</td>\n",
       "      <td>-122.390300</td>\n",
       "      <td>141.359606</td>\n",
       "    </tr>\n",
       "    <tr>\n",
       "      <th>14</th>\n",
       "      <td>Downtown</td>\n",
       "      <td>47.611406</td>\n",
       "      <td>-122.337498</td>\n",
       "      <td>154.405660</td>\n",
       "    </tr>\n",
       "    <tr>\n",
       "      <th>15</th>\n",
       "      <td>Queen Anne</td>\n",
       "      <td>47.634047</td>\n",
       "      <td>-122.357751</td>\n",
       "      <td>157.223729</td>\n",
       "    </tr>\n",
       "    <tr>\n",
       "      <th>16</th>\n",
       "      <td>Magnolia</td>\n",
       "      <td>47.649268</td>\n",
       "      <td>-122.395518</td>\n",
       "      <td>177.672131</td>\n",
       "    </tr>\n",
       "  </tbody>\n",
       "</table>\n",
       "</div>"
      ],
      "text/plain": [
       "          Neighbourhood   latitude   longitude  Price (USD)\n",
       "0              Delridge  47.545983 -122.362599    83.278481\n",
       "1             Northgate  47.702454 -122.325100    88.550000\n",
       "2        Rainier Valley  47.554471 -122.281401    91.899371\n",
       "3             Lake City  47.712153 -122.293985    92.671642\n",
       "4   University District  47.662874 -122.314214    93.639344\n",
       "5           Beacon Hill  47.569667 -122.306754    94.669492\n",
       "6           Seward Park  47.554276 -122.268686   108.477273\n",
       "7              Interbay  47.641729 -122.382653   109.727273\n",
       "8   Other neighborhoods  47.670646 -122.335808   119.968514\n",
       "9               Ballard  47.674525 -122.380150   124.682609\n",
       "10         Central Area  47.607715 -122.301760   128.338753\n",
       "11         Capitol Hill  47.623578 -122.316462   130.592593\n",
       "12              Cascade  47.633757 -122.331631   140.101124\n",
       "13         West Seattle  47.561976 -122.390300   141.359606\n",
       "14             Downtown  47.611406 -122.337498   154.405660\n",
       "15           Queen Anne  47.634047 -122.357751   157.223729\n",
       "16             Magnolia  47.649268 -122.395518   177.672131"
      ]
     },
     "execution_count": 90,
     "metadata": {},
     "output_type": "execute_result"
    }
   ],
   "source": [
    "vis_data = S_l_data.copy()\n",
    "col_vars = vis_data.select_dtypes(include=['object', 'O']).copy().columns\n",
    "for col in col_vars:\n",
    "    if '$' in vis_data[col].any():\n",
    "        vis_data[col] = vis_data[col].replace('[\\$,]', '', regex=True).astype(float)\n",
    "\n",
    "\n",
    "neighbourhood = vis_data.drop(vis_data.columns.difference(['neighbourhood_group_cleansed','price','latitude','longitude']),axis=1)\n",
    "mean_price_neighbourhood = neighbourhood.groupby(['neighbourhood_group_cleansed']).mean().sort_values(['price']).reset_index()\n",
    "mean_price_neighbourhood = mean_price_neighbourhood.rename(columns={\"neighbourhood_group_cleansed\": \"Neighbourhood\", \n",
    "                                                                    \"price\": \"Price (USD)\"})\n",
    "mean_price_neighbourhood"
   ]
  },
  {
   "cell_type": "code",
   "execution_count": 107,
   "metadata": {},
   "outputs": [
    {
     "data": {
      "image/png": "[encoded data removed]",
      "text/plain": [
       "<Figure size 455.04x576 with 1 Axes>"
      ]
     },
     "metadata": {
      "needs_background": "light"
     },
     "output_type": "display_data"
    }
   ],
   "source": [
    "fig = plt.figure(figsize=(0.79*8,8))\n",
    "plt.scatter(neighbourhood['longitude'],neighbourhood['latitude'],c=neighbourhood['price'],s=15,cmap='gray')\n",
    "\n",
    "from scipy.misc import imread\n",
    "\n",
    "datafile = matplotlib.cbook.get_sample_data(r'C:\\Users\\Henrique\\Documents\\GitHub\\Portfolio_under_construction\\AirBnB_data_project\\Seattle_map.png')"
   ]
  },
  {
   "cell_type": "code",
   "execution_count": null,
   "metadata": {},
   "outputs": [],
   "source": []
  }
 ],
 "metadata": {
  "kernelspec": {
   "display_name": "Python [conda env:py3-TF2.0]",
   "language": "python",
   "name": "conda-env-py3-TF2.0-py"
  },
  "language_info": {
   "codemirror_mode": {
    "name": "ipython",
    "version": 3
   },
   "file_extension": ".py",
   "mimetype": "text/x-python",
   "name": "python",
   "nbconvert_exporter": "python",
   "pygments_lexer": "ipython3",
   "version": "3.7.5"
  }
 },
 "nbformat": 4,
 "nbformat_minor": 2
}
