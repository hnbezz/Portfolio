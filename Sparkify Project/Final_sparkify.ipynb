{
 "cells": [
  {
   "cell_type": "markdown",
   "metadata": {},
   "source": [
    "# Sparkify Project Workspace\n",
    "This workspace contains a tiny subset (128MB) of the full dataset available (12GB). Feel free to use this workspace to build your project, or to explore a smaller subset with Spark before deploying your cluster on the cloud. Instructions for setting up your Spark cluster is included in the last lesson of the Extracurricular Spark Course content.\n",
    "\n",
    "You can follow the steps below to guide your data analysis and model building portion of this project."
   ]
  },
  {
   "cell_type": "code",
   "execution_count": 1,
   "metadata": {},
   "outputs": [],
   "source": [
    "# import libraries\n",
    "from pyspark.sql import SparkSession\n",
    "from pyspark.sql.functions import avg, col, concat,count, desc, explode, lit, min, max, split, stddev, udf, when, isnan, from_unixtime,sqrt\n",
    "from pyspark.sql.types import IntegerType, LongType\n",
    "\n",
    "from pyspark.ml import Pipeline\n",
    "from pyspark.ml.classification import LogisticRegression, GBTClassifier, RandomForestClassifier, LinearSVC\n",
    "from pyspark.ml.evaluation import MulticlassClassificationEvaluator\n",
    "from pyspark.ml.feature import CountVectorizer, IDF, Normalizer, RegexTokenizer, StandardScaler, StringIndexer, VectorAssembler\n",
    "from pyspark.ml.regression import LinearRegression\n",
    "from pyspark.ml.tuning import CrossValidator, ParamGridBuilder\n",
    "\n",
    "import numpy as np\n",
    "import matplotlib.pyplot as plt\n",
    "import pandas as pd\n",
    "from datetime import datetime\n",
    "import re"
   ]
  },
  {
   "cell_type": "code",
   "execution_count": 2,
   "metadata": {},
   "outputs": [],
   "source": [
    "# create a Spark session\n",
    "spark = SparkSession \\\n",
    "    .builder \\\n",
    "    .appName(\"Sparkify_mini\") \\\n",
    "    .getOrCreate()"
   ]
  },
  {
   "cell_type": "markdown",
   "metadata": {},
   "source": [
    "# Load and Clean Dataset\n",
    "In this workspace, the mini-dataset file is `mini_sparkify_event_data.json`. Load and clean the dataset, checking for invalid or missing data - for example, records without userids or sessionids. "
   ]
  },
  {
   "cell_type": "code",
   "execution_count": 3,
   "metadata": {},
   "outputs": [],
   "source": [
    "log = spark.read.json(\"mini_sparkify_event_data.json\")"
   ]
  },
  {
   "cell_type": "markdown",
   "metadata": {},
   "source": [
    "### Removing userId's with ''"
   ]
  },
  {
   "cell_type": "code",
   "execution_count": 4,
   "metadata": {},
   "outputs": [],
   "source": [
    "log_cleaned = log.where(log.userId != '')"
   ]
  },
  {
   "cell_type": "markdown",
   "metadata": {},
   "source": [
    "**Changing gender to numeric values; 1 for female, 0 for male**."
   ]
  },
  {
   "cell_type": "code",
   "execution_count": 5,
   "metadata": {},
   "outputs": [],
   "source": [
    "log_cleaned = log_cleaned.replace(['F','M'],['1','0'],'gender')\n",
    "log_cleaned = log_cleaned.withColumn(\"gender\", log_cleaned[\"gender\"].cast(IntegerType()))"
   ]
  },
  {
   "cell_type": "markdown",
   "metadata": {},
   "source": [
    "**Changing level to numeric values; 1 for paid, 0 for free.**"
   ]
  },
  {
   "cell_type": "code",
   "execution_count": 6,
   "metadata": {},
   "outputs": [],
   "source": [
    "log_cleaned = log_cleaned.replace([\"free\", \"paid\"], [\"0\", \"1\"], \"level\")\n",
    "log_cleaned = log_cleaned.withColumn(\"level\", log_cleaned[\"level\"].cast(IntegerType()))"
   ]
  },
  {
   "cell_type": "markdown",
   "metadata": {},
   "source": [
    "### Getting time right"
   ]
  },
  {
   "cell_type": "code",
   "execution_count": 7,
   "metadata": {},
   "outputs": [],
   "source": [
    "timing = udf(lambda x: x//1000, IntegerType())\n",
    "log_cleaned = log_cleaned.withColumn(\"adj_ts\", from_unixtime(timing('ts')))\n",
    "log_cleaned = log_cleaned.withColumn(\"adj_reg\", from_unixtime(timing('registration')))"
   ]
  },
  {
   "cell_type": "markdown",
   "metadata": {},
   "source": [
    "**Selecting only relevant features**"
   ]
  },
  {
   "cell_type": "code",
   "execution_count": 8,
   "metadata": {},
   "outputs": [],
   "source": [
    "log_cleaned = log_cleaned.select('userId','artist','auth','gender','itemInSession','length','level','location','method','page',\n",
    "                                'adj_reg','sessionId','song','status','adj_ts','userAgent')"
   ]
  },
  {
   "cell_type": "markdown",
   "metadata": {},
   "source": [
    "### Defining Churn"
   ]
  },
  {
   "cell_type": "code",
   "execution_count": 9,
   "metadata": {},
   "outputs": [],
   "source": [
    "log_cleaned.createOrReplaceTempView(\"log_table\")"
   ]
  },
  {
   "cell_type": "code",
   "execution_count": 10,
   "metadata": {},
   "outputs": [],
   "source": [
    "churned_users = spark.sql('''\n",
    "    SELECT \n",
    "        DISTINCT userId, \n",
    "        1 as label \n",
    "    FROM\n",
    "        log_table \n",
    "    WHERE page = 'Cancellation Confirmation'\n",
    "''')"
   ]
  },
  {
   "cell_type": "code",
   "execution_count": 11,
   "metadata": {},
   "outputs": [],
   "source": [
    "didnt_churn = spark.sql('''\n",
    "    SELECT\n",
    "        DISTINCT userId, \n",
    "        0 as label \n",
    "    FROM \n",
    "        log_table\n",
    "    WHERE userId NOT IN (\n",
    "                        SELECT \n",
    "                            DISTINCT userId \n",
    "                        FROM \n",
    "                            log_table \n",
    "                        WHERE page = 'Cancellation Confirmation'\n",
    "                        )\n",
    "''')"
   ]
  },
  {
   "cell_type": "code",
   "execution_count": 12,
   "metadata": {},
   "outputs": [],
   "source": [
    "comb_churn = didnt_churn.union(churned_users)"
   ]
  },
  {
   "cell_type": "code",
   "execution_count": 13,
   "metadata": {},
   "outputs": [],
   "source": [
    "log_cleaned.createOrReplaceTempView(\"log_table\")"
   ]
  },
  {
   "cell_type": "markdown",
   "metadata": {},
   "source": [
    "# Feature Engineering\n",
    "Once you've familiarized yourself with the data, build out the features you find promising to train your model on. To work with the full dataset, you can follow the following steps.\n",
    "- Write a script to extract the necessary features from the smaller subset of data\n",
    "- Ensure that your script is scalable, using the best practices discussed in Lesson 3\n",
    "- Try your script on the full data set, debugging your script if necessary\n",
    "\n",
    "If you are working in the classroom workspace, you can just extract features based on the small subset of data contained here. Be sure to transfer over this work to the larger dataset when you work on your Spark cluster."
   ]
  },
  {
   "cell_type": "markdown",
   "metadata": {},
   "source": [
    "### 1. Gender of user"
   ]
  },
  {
   "cell_type": "code",
   "execution_count": 14,
   "metadata": {},
   "outputs": [],
   "source": [
    "user_gender = spark.sql('''\n",
    "    SELECT\n",
    "        DISTINCT userId,\n",
    "        gender \n",
    "    FROM\n",
    "        log_table\n",
    "''')"
   ]
  },
  {
   "cell_type": "markdown",
   "metadata": {},
   "source": [
    "### 2. Level of user\n",
    "\n",
    "Since the users might have 1 out of 2 different levels depending on the time, I will take the maximum levelthe user has ever had."
   ]
  },
  {
   "cell_type": "code",
   "execution_count": 15,
   "metadata": {},
   "outputs": [],
   "source": [
    "user_level = spark.sql('''\n",
    "    SELECT\n",
    "        userId,\n",
    "        MAX(level) AS level\n",
    "    FROM\n",
    "        log_table\n",
    "    GROUP BY userId\n",
    "''')"
   ]
  },
  {
   "cell_type": "markdown",
   "metadata": {},
   "source": [
    "### 3. Has the user submitted downgrade? "
   ]
  },
  {
   "cell_type": "code",
   "execution_count": 16,
   "metadata": {},
   "outputs": [],
   "source": [
    "downgraded = spark.sql('''\n",
    "    SELECT\n",
    "        userId,\n",
    "        COUNT(page) as downgraded\n",
    "    FROM\n",
    "        log_table\n",
    "    WHERE page = 'Submit Downgrade'\n",
    "    GROUP BY userID\n",
    "''')"
   ]
  },
  {
   "cell_type": "code",
   "execution_count": 17,
   "metadata": {},
   "outputs": [],
   "source": [
    "didnt_downgrade = spark.sql('''\n",
    "    SELECT\n",
    "        DISTINCT userId, \n",
    "        0 as downgraded \n",
    "    FROM \n",
    "        log_table\n",
    "    WHERE userId NOT IN (\n",
    "                        SELECT \n",
    "                            DISTINCT userId \n",
    "                        FROM \n",
    "                            log_table \n",
    "                        WHERE page = 'Submit Downgrade'\n",
    "                        )\n",
    "''')"
   ]
  },
  {
   "cell_type": "code",
   "execution_count": 18,
   "metadata": {},
   "outputs": [],
   "source": [
    "num_downgrade = didnt_downgrade.union(downgraded)"
   ]
  },
  {
   "cell_type": "markdown",
   "metadata": {},
   "source": [
    "### 4. Number of days as an user "
   ]
  },
  {
   "cell_type": "code",
   "execution_count": 19,
   "metadata": {},
   "outputs": [],
   "source": [
    "num_days = spark.sql('''\n",
    "    SELECT\n",
    "        userId,\n",
    "        DATEDIFF(MAX(adj_ts),adj_reg) AS num_days\n",
    "    FROM\n",
    "        log_table\n",
    "    GROUP BY userId, adj_reg\n",
    "    ORDER BY num_days DESC\n",
    "''')"
   ]
  },
  {
   "cell_type": "markdown",
   "metadata": {},
   "source": [
    "### 5. Number of errors occured per days as an user"
   ]
  },
  {
   "cell_type": "code",
   "execution_count": 20,
   "metadata": {},
   "outputs": [],
   "source": [
    "num_errors = spark.sql('''\n",
    "    SELECT\n",
    "        userId,\n",
    "        COUNT(page) / DATEDIFF(MAX(adj_ts),adj_reg) as num_errors\n",
    "    FROM\n",
    "        log_table\n",
    "    WHERE page = 'Error'\n",
    "    GROUP BY userID, adj_reg\n",
    "''')"
   ]
  },
  {
   "cell_type": "markdown",
   "metadata": {},
   "source": [
    "### 6. Number of help events per days as an user"
   ]
  },
  {
   "cell_type": "code",
   "execution_count": 21,
   "metadata": {},
   "outputs": [],
   "source": [
    "num_helps = spark.sql('''\n",
    "    SELECT\n",
    "        userId,\n",
    "        COUNT(page) / DATEDIFF(MAX(adj_ts),adj_reg) as num_helps\n",
    "    FROM\n",
    "        log_table\n",
    "    WHERE page = 'Help'\n",
    "    GROUP BY userID, adj_reg\n",
    "''')"
   ]
  },
  {
   "cell_type": "markdown",
   "metadata": {},
   "source": [
    "### 7. Number of Roll Adverts per days as an user"
   ]
  },
  {
   "cell_type": "code",
   "execution_count": 22,
   "metadata": {},
   "outputs": [],
   "source": [
    "num_rolladvert = spark.sql('''\n",
    "    SELECT\n",
    "        userId,\n",
    "        COUNT(page) / DATEDIFF(MAX(adj_ts),adj_reg) as num_rolladvert\n",
    "    FROM\n",
    "        log_table\n",
    "    WHERE page = 'Roll Advert'\n",
    "    GROUP BY userID, adj_reg\n",
    "''')"
   ]
  },
  {
   "cell_type": "markdown",
   "metadata": {},
   "source": [
    "### 8. Number of Save Settings per days as an user"
   ]
  },
  {
   "cell_type": "code",
   "execution_count": 23,
   "metadata": {},
   "outputs": [],
   "source": [
    "num_savesettings = spark.sql('''\n",
    "    SELECT\n",
    "        userId,\n",
    "        COUNT(page) / DATEDIFF(MAX(adj_ts),adj_reg) as num_savesettings\n",
    "    FROM\n",
    "        log_table\n",
    "    WHERE page = 'Save Settings'\n",
    "    GROUP BY userID, adj_reg\n",
    "''')"
   ]
  },
  {
   "cell_type": "markdown",
   "metadata": {},
   "source": [
    "### 9. Number of Thumbs Down per days as an user"
   ]
  },
  {
   "cell_type": "code",
   "execution_count": 24,
   "metadata": {},
   "outputs": [],
   "source": [
    "num_thumbsdown = spark.sql('''\n",
    "    SELECT\n",
    "        userId,\n",
    "        COUNT(page) / DATEDIFF(MAX(adj_ts),adj_reg) as num_thumbsdown\n",
    "    FROM\n",
    "        log_table\n",
    "    WHERE page = 'Thumbs Down'\n",
    "    GROUP BY userID, adj_reg\n",
    "''')"
   ]
  },
  {
   "cell_type": "markdown",
   "metadata": {},
   "source": [
    "### 10. Number of Thumbs Up per days as an user"
   ]
  },
  {
   "cell_type": "code",
   "execution_count": 25,
   "metadata": {},
   "outputs": [],
   "source": [
    "num_thumbsup = spark.sql('''\n",
    "    SELECT\n",
    "        userId,\n",
    "        COUNT(page) / DATEDIFF(MAX(adj_ts),adj_reg) as num_thumbsup\n",
    "    FROM\n",
    "        log_table\n",
    "    WHERE page = 'Thumbs Up'\n",
    "    GROUP BY userID, adj_reg\n",
    "''')"
   ]
  },
  {
   "cell_type": "markdown",
   "metadata": {},
   "source": [
    "### 11. Number of Submit Upgrade"
   ]
  },
  {
   "cell_type": "code",
   "execution_count": 26,
   "metadata": {},
   "outputs": [],
   "source": [
    "upgraded = spark.sql('''\n",
    "    SELECT\n",
    "        userId,\n",
    "        COUNT(page) as upgraded\n",
    "    FROM\n",
    "        log_table\n",
    "    WHERE page = 'Submit Upgrade'\n",
    "    GROUP BY userID\n",
    "''')"
   ]
  },
  {
   "cell_type": "code",
   "execution_count": 27,
   "metadata": {},
   "outputs": [],
   "source": [
    "didnt_upgrade = spark.sql('''\n",
    "    SELECT\n",
    "        DISTINCT userId, \n",
    "        0 as upgraded \n",
    "    FROM \n",
    "        log_table\n",
    "    WHERE userId NOT IN (\n",
    "                        SELECT \n",
    "                            DISTINCT userId \n",
    "                        FROM \n",
    "                            log_table \n",
    "                        WHERE page = 'Submit Upgrade'\n",
    "                        )\n",
    "''')"
   ]
  },
  {
   "cell_type": "code",
   "execution_count": 28,
   "metadata": {},
   "outputs": [],
   "source": [
    "num_upgrade = didnt_upgrade.union(upgraded)"
   ]
  },
  {
   "cell_type": "markdown",
   "metadata": {},
   "source": [
    "### Joining data "
   ]
  },
  {
   "cell_type": "code",
   "execution_count": 29,
   "metadata": {},
   "outputs": [],
   "source": [
    "all_data = comb_churn \\\n",
    "    .join(user_gender,'userId','outer') \\\n",
    "    .join(user_level,'userId','outer') \\\n",
    "    .join(num_downgrade,'userId','outer') \\\n",
    "    .join(num_days,'userId','outer') \\\n",
    "    .join(num_errors,'userId','outer') \\\n",
    "    .join(num_helps,'userId','outer') \\\n",
    "    .join(num_rolladvert,'userId','outer') \\\n",
    "    .join(num_savesettings,'userId','outer') \\\n",
    "    .join(num_thumbsdown,'userId','outer') \\\n",
    "    .join(num_thumbsup,'userId','outer') \\\n",
    "    .join(num_upgrade,'userId','outer') \\\n",
    "    .drop('userId') \\\n",
    "    .fillna(0)\n",
    "# Here I fill Null values with 0, because some of the users will have null values for not having any, e.g., error events."
   ]
  },
  {
   "cell_type": "markdown",
   "metadata": {},
   "source": [
    "### Splitting the data (stratified)"
   ]
  },
  {
   "cell_type": "code",
   "execution_count": 30,
   "metadata": {},
   "outputs": [],
   "source": [
    "# Split in a stratified manner\n",
    "\n",
    "zeros = all_data.filter(all_data[\"label\"]==0.0)\n",
    "ones = all_data.filter(all_data[\"label\"]==1.0)\n",
    "\n",
    "train0, test0 = zeros.randomSplit([0.80,0.20], seed=42)\n",
    "train1, test1 = ones.randomSplit([0.80,0.20], seed=42)\n",
    "\n",
    "train = train0.union(train1)\n",
    "test = test0.union(test1)"
   ]
  },
  {
   "cell_type": "code",
   "execution_count": 31,
   "metadata": {},
   "outputs": [],
   "source": [
    "col_names = ['num_days', 'num_errors', 'num_helps', 'num_rolladvert', 'num_savesettings', 'num_thumbsdown', 'num_thumbsup']"
   ]
  },
  {
   "cell_type": "code",
   "execution_count": 32,
   "metadata": {},
   "outputs": [],
   "source": [
    "train = train.select(*(col(c).cast(\"float\").alias(c) if c in col_names else col(c) for c in all_data.columns))"
   ]
  },
  {
   "cell_type": "code",
   "execution_count": 33,
   "metadata": {},
   "outputs": [],
   "source": [
    "test = test.select(*(col(c).cast(\"float\").alias(c) if c in col_names else col(c) for c in all_data.columns))"
   ]
  },
  {
   "cell_type": "markdown",
   "metadata": {},
   "source": [
    "#### Applying Square root transformation"
   ]
  },
  {
   "cell_type": "code",
   "execution_count": 34,
   "metadata": {},
   "outputs": [],
   "source": [
    "for col_name in col_names:\n",
    "    train = train.withColumn(col_name, sqrt(col_name))\n",
    "    test = test.withColumn(col_name, sqrt(col_name))"
   ]
  },
  {
   "cell_type": "markdown",
   "metadata": {},
   "source": [
    "#### Removing outliers from train dataset"
   ]
  },
  {
   "cell_type": "code",
   "execution_count": 35,
   "metadata": {},
   "outputs": [],
   "source": [
    "# This approach was indicated on the following link: https://stackoverflow.com/questions/52633916/outlier-detection-in-pyspark (accessed on Aprith 26th 2020)\n",
    "bounds = {\n",
    "    c: dict(\n",
    "        zip([\"q1\", \"q3\"], train.approxQuantile(c, [0.25, 0.75], 0))\n",
    "    )\n",
    "    for c in col_names\n",
    "}"
   ]
  },
  {
   "cell_type": "code",
   "execution_count": 36,
   "metadata": {},
   "outputs": [],
   "source": [
    "for c in bounds:\n",
    "    iqr = bounds[c]['q3'] - bounds[c]['q1']\n",
    "    bounds[c]['lower'] = bounds[c]['q1'] - (iqr * 1.5)\n",
    "    bounds[c]['upper'] = bounds[c]['q3'] + (iqr * 1.5)\n",
    "\n",
    "for c in col_names:\n",
    "    train = train.where((col(c) <= bounds[c]['upper']) & (col(c) >= bounds[c]['lower']))"
   ]
  },
  {
   "cell_type": "markdown",
   "metadata": {},
   "source": [
    "### Transforming the features"
   ]
  },
  {
   "cell_type": "code",
   "execution_count": 37,
   "metadata": {},
   "outputs": [],
   "source": [
    "feats = ['gender', 'level', 'downgraded','num_days',\n",
    "         'num_errors','num_helps','num_rolladvert','num_savesettings','num_thumbsdown','num_thumbsup','upgraded']\n",
    "assembler = VectorAssembler(inputCols=feats, outputCol=\"NumFeatures\")\n",
    "features_train = assembler.transform(train)\n",
    "features_test = assembler.transform(test)"
   ]
  },
  {
   "cell_type": "markdown",
   "metadata": {},
   "source": [
    "### Standardizing the features"
   ]
  },
  {
   "cell_type": "markdown",
   "metadata": {},
   "source": [
    "**Here we have to standardize them separately so the test values do no influence on the train values**"
   ]
  },
  {
   "cell_type": "code",
   "execution_count": 38,
   "metadata": {},
   "outputs": [],
   "source": [
    "scaler = StandardScaler(inputCol=\"NumFeatures\", outputCol=\"features\", withStd=True)\n",
    "scalerModel = scaler.fit(features_train)\n",
    "features_train = scalerModel.transform(features_train)"
   ]
  },
  {
   "cell_type": "code",
   "execution_count": 39,
   "metadata": {},
   "outputs": [],
   "source": [
    "features_test = scaler.fit(features_test).transform(features_test)"
   ]
  },
  {
   "cell_type": "markdown",
   "metadata": {},
   "source": [
    "# Selecting the Model\n"
   ]
  },
  {
   "cell_type": "markdown",
   "metadata": {},
   "source": [
    "#### Logistic Regression"
   ]
  },
  {
   "cell_type": "code",
   "execution_count": 40,
   "metadata": {},
   "outputs": [],
   "source": [
    "log_reg =  LogisticRegression()\n",
    "f_score=MulticlassClassificationEvaluator(metricName='f1')\n",
    "\n",
    "log_reg_train = log_reg.fit(features_train)\n",
    "log_reg_test = log_reg_train.transform(features_test)\n",
    "\n",
    "evaluator = MulticlassClassificationEvaluator(predictionCol='prediction')"
   ]
  },
  {
   "cell_type": "code",
   "execution_count": 41,
   "metadata": {},
   "outputs": [],
   "source": [
    "log_reg_acc = evaluator.evaluate(log_reg_test,{evaluator.metricName: 'accuracy'})\n",
    "log_reg_precision = evaluator.evaluate(log_reg_test,{evaluator.metricName: 'weightedPrecision'})\n",
    "log_reg_recall = evaluator.evaluate(log_reg_test,{evaluator.metricName: 'weightedRecall'})\n",
    "log_reg_f1 = 2*(log_reg_precision*log_reg_recall)/(log_reg_precision+log_reg_recall)"
   ]
  },
  {
   "cell_type": "code",
   "execution_count": 42,
   "metadata": {},
   "outputs": [
    {
     "name": "stdout",
     "output_type": "stream",
     "text": [
      "Accuracy:\n",
      "0.8823529411764706\n",
      "Precision:\n",
      "0.8817873303167421\n",
      "Recall:\n",
      "0.8823529411764706\n",
      "F-1 score:\n",
      "0.8820700450747789\n"
     ]
    }
   ],
   "source": [
    "print('Accuracy:')\n",
    "print(log_reg_acc)\n",
    "print('Precision:')\n",
    "print(log_reg_precision)\n",
    "print('Recall:')\n",
    "print(log_reg_recall)\n",
    "print('F-1 score:')\n",
    "print(log_reg_f1)"
   ]
  },
  {
   "cell_type": "markdown",
   "metadata": {},
   "source": [
    "#### Random Forest Classifier"
   ]
  },
  {
   "cell_type": "code",
   "execution_count": 43,
   "metadata": {},
   "outputs": [],
   "source": [
    "random_forest = RandomForestClassifier()\n",
    "f_score=MulticlassClassificationEvaluator(metricName='f1')\n",
    "\n",
    "random_forest_train = random_forest.fit(features_train)\n",
    "random_forest_test = random_forest_train.transform(features_test)\n",
    "\n",
    "evaluator = MulticlassClassificationEvaluator(predictionCol='prediction')"
   ]
  },
  {
   "cell_type": "code",
   "execution_count": 44,
   "metadata": {},
   "outputs": [],
   "source": [
    "random_forest_acc = evaluator.evaluate(random_forest_test,{evaluator.metricName: 'accuracy'})\n",
    "random_forest_precision = evaluator.evaluate(random_forest_test,{evaluator.metricName: 'weightedPrecision'})\n",
    "random_forest_recall = evaluator.evaluate(random_forest_test,{evaluator.metricName: 'weightedRecall'})\n",
    "random_forest_f1 = 2*(random_forest_precision*random_forest_recall)/(random_forest_precision+random_forest_recall)"
   ]
  },
  {
   "cell_type": "code",
   "execution_count": 45,
   "metadata": {},
   "outputs": [
    {
     "name": "stdout",
     "output_type": "stream",
     "text": [
      "Accuracy:\n",
      "0.6764705882352942\n",
      "Precision:\n",
      "0.6489262371615313\n",
      "Recall:\n",
      "0.6764705882352942\n",
      "F-1 score:\n",
      "0.6624121998218097\n"
     ]
    }
   ],
   "source": [
    "print('Accuracy:')\n",
    "print(random_forest_acc)\n",
    "print('Precision:')\n",
    "print(random_forest_precision)\n",
    "print('Recall:')\n",
    "print(random_forest_recall)\n",
    "print('F-1 score:')\n",
    "print(random_forest_f1)"
   ]
  },
  {
   "cell_type": "markdown",
   "metadata": {},
   "source": [
    "#### Gradient Boosted Tree Classifier"
   ]
  },
  {
   "cell_type": "code",
   "execution_count": 46,
   "metadata": {},
   "outputs": [],
   "source": [
    "gbt = GBTClassifier()\n",
    "f_score=MulticlassClassificationEvaluator(metricName='f1')\n",
    "\n",
    "gbt_train = gbt.fit(features_train)\n",
    "gbt_test = gbt_train.transform(features_test)\n",
    "\n",
    "evaluator = MulticlassClassificationEvaluator(predictionCol='prediction')"
   ]
  },
  {
   "cell_type": "code",
   "execution_count": 47,
   "metadata": {},
   "outputs": [],
   "source": [
    "gbt_acc = evaluator.evaluate(gbt_test,{evaluator.metricName: 'accuracy'})\n",
    "gbt_precision = evaluator.evaluate(gbt_test,{evaluator.metricName: 'weightedPrecision'})\n",
    "gbt_recall = evaluator.evaluate(gbt_test,{evaluator.metricName: 'weightedRecall'})\n",
    "gbt_f1 = 2*(gbt_precision*gbt_recall)/(gbt_precision+gbt_recall)"
   ]
  },
  {
   "cell_type": "code",
   "execution_count": 48,
   "metadata": {},
   "outputs": [
    {
     "name": "stdout",
     "output_type": "stream",
     "text": [
      "Accuracy:\n",
      "0.5\n",
      "Precision:\n",
      "0.5614035087719298\n",
      "Recall:\n",
      "0.5\n",
      "F-1 score:\n",
      "0.5289256198347108\n"
     ]
    }
   ],
   "source": [
    "print('Accuracy:')\n",
    "print(gbt_acc)\n",
    "print('Precision:')\n",
    "print(gbt_precision)\n",
    "print('Recall:')\n",
    "print(gbt_recall)\n",
    "print('F-1 score:')\n",
    "print(gbt_f1)"
   ]
  },
  {
   "cell_type": "markdown",
   "metadata": {},
   "source": [
    "# Improving the selected model\n",
    "\n",
    "As we see, the best performing model was the logistic regression, therefore we will try to tune its hyperparameters."
   ]
  },
  {
   "cell_type": "code",
   "execution_count": 49,
   "metadata": {},
   "outputs": [],
   "source": [
    "model = LogisticRegression()\n",
    "param_grid = ParamGridBuilder() \\\n",
    "    .addGrid(model.regParam, [0, 0.01, 0.05]) \\\n",
    "    .addGrid(model.maxIter, [10, 100, 1000]) \\\n",
    "    .build()\n",
    "\n",
    "crossval = CrossValidator(estimator = Pipeline(stages=[model]),\n",
    "                         estimatorParamMaps = param_grid,\n",
    "                         evaluator = MulticlassClassificationEvaluator(metricName='f1'),\n",
    "                         numFolds = 3)\n",
    "\n",
    "classification = crossval.fit(features_train)\n",
    "results = classification.transform(features_test)"
   ]
  },
  {
   "cell_type": "code",
   "execution_count": 50,
   "metadata": {},
   "outputs": [],
   "source": [
    "evaluator = MulticlassClassificationEvaluator(predictionCol='prediction')\n",
    "model_acc = evaluator.evaluate(results,{evaluator.metricName: 'accuracy'})\n",
    "model_precision = evaluator.evaluate(results,{evaluator.metricName: 'weightedPrecision'})\n",
    "model_recall = evaluator.evaluate(results,{evaluator.metricName: 'weightedRecall'})\n",
    "model_f1 = 2*(model_precision*model_recall)/(model_precision+model_recall)"
   ]
  },
  {
   "cell_type": "code",
   "execution_count": 51,
   "metadata": {},
   "outputs": [
    {
     "name": "stdout",
     "output_type": "stream",
     "text": [
      "Accuracy:\n",
      "0.8235294117647058\n",
      "Precision:\n",
      "0.8588235294117648\n",
      "Recall:\n",
      "0.823529411764706\n",
      "F-1 score:\n",
      "0.8408062525709584\n"
     ]
    }
   ],
   "source": [
    "print('Accuracy:')\n",
    "print(model_acc)\n",
    "print('Precision:')\n",
    "print(model_precision)\n",
    "print('Recall:')\n",
    "print(model_recall)\n",
    "print('F-1 score:')\n",
    "print(model_f1)"
   ]
  },
  {
   "cell_type": "code",
   "execution_count": 101,
   "metadata": {},
   "outputs": [],
   "source": [
    "abs_coef = classification.bestModel.stages[-1].coefficients"
   ]
  },
  {
   "cell_type": "code",
   "execution_count": 103,
   "metadata": {},
   "outputs": [],
   "source": [
    "pd_data = {\n",
    "    'Features': feats, \n",
    "    'Weight': abs_coef\n",
    "}"
   ]
  },
  {
   "cell_type": "code",
   "execution_count": 104,
   "metadata": {},
   "outputs": [
    {
     "data": {
      "text/html": [
       "<div>\n",
       "<style scoped>\n",
       "    .dataframe tbody tr th:only-of-type {\n",
       "        vertical-align: middle;\n",
       "    }\n",
       "\n",
       "    .dataframe tbody tr th {\n",
       "        vertical-align: top;\n",
       "    }\n",
       "\n",
       "    .dataframe thead th {\n",
       "        text-align: right;\n",
       "    }\n",
       "</style>\n",
       "<table border=\"1\" class=\"dataframe\">\n",
       "  <thead>\n",
       "    <tr style=\"text-align: right;\">\n",
       "      <th></th>\n",
       "      <th>Features</th>\n",
       "      <th>Absolute Weight</th>\n",
       "    </tr>\n",
       "  </thead>\n",
       "  <tbody>\n",
       "    <tr>\n",
       "      <th>8</th>\n",
       "      <td>num_thumbsdown</td>\n",
       "      <td>0.459377</td>\n",
       "    </tr>\n",
       "    <tr>\n",
       "      <th>6</th>\n",
       "      <td>num_rolladvert</td>\n",
       "      <td>0.455367</td>\n",
       "    </tr>\n",
       "    <tr>\n",
       "      <th>7</th>\n",
       "      <td>num_savesettings</td>\n",
       "      <td>0.361429</td>\n",
       "    </tr>\n",
       "    <tr>\n",
       "      <th>1</th>\n",
       "      <td>level</td>\n",
       "      <td>0.231721</td>\n",
       "    </tr>\n",
       "    <tr>\n",
       "      <th>10</th>\n",
       "      <td>upgraded</td>\n",
       "      <td>0.058901</td>\n",
       "    </tr>\n",
       "    <tr>\n",
       "      <th>4</th>\n",
       "      <td>num_errors</td>\n",
       "      <td>-0.175499</td>\n",
       "    </tr>\n",
       "    <tr>\n",
       "      <th>0</th>\n",
       "      <td>gender</td>\n",
       "      <td>-0.180381</td>\n",
       "    </tr>\n",
       "    <tr>\n",
       "      <th>2</th>\n",
       "      <td>downgraded</td>\n",
       "      <td>-0.226017</td>\n",
       "    </tr>\n",
       "    <tr>\n",
       "      <th>5</th>\n",
       "      <td>num_helps</td>\n",
       "      <td>-0.328600</td>\n",
       "    </tr>\n",
       "    <tr>\n",
       "      <th>9</th>\n",
       "      <td>num_thumbsup</td>\n",
       "      <td>-0.694439</td>\n",
       "    </tr>\n",
       "    <tr>\n",
       "      <th>3</th>\n",
       "      <td>num_days</td>\n",
       "      <td>-0.895944</td>\n",
       "    </tr>\n",
       "  </tbody>\n",
       "</table>\n",
       "</div>"
      ],
      "text/plain": [
       "            Features  Absolute Weight\n",
       "8     num_thumbsdown         0.459377\n",
       "6     num_rolladvert         0.455367\n",
       "7   num_savesettings         0.361429\n",
       "1              level         0.231721\n",
       "10          upgraded         0.058901\n",
       "4         num_errors        -0.175499\n",
       "0             gender        -0.180381\n",
       "2         downgraded        -0.226017\n",
       "5          num_helps        -0.328600\n",
       "9       num_thumbsup        -0.694439\n",
       "3           num_days        -0.895944"
      ]
     },
     "execution_count": 104,
     "metadata": {},
     "output_type": "execute_result"
    }
   ],
   "source": [
    "feat_importance = pd.DataFrame(data=pd_data).sort_values(by=['Weight'],ascending=False)\n",
    "feat_importance"
   ]
  },
  {
   "cell_type": "code",
   "execution_count": 106,
   "metadata": {},
   "outputs": [
    {
     "data": {
      "image/png": "[encoded data removed]",
      "text/plain": [
       "<Figure size 720x576 with 1 Axes>"
      ]
     },
     "metadata": {
      "needs_background": "light"
     },
     "output_type": "display_data"
    }
   ],
   "source": [
    "\"\"\"\n",
    "Making bar plots beautiful\n",
    "I've used the code from https://scentellegher.github.io/visualization/2018/10/10/beautiful-bar-plots-matplotlib.html\n",
    "as a basis for this plot.\n",
    "\"\"\"\n",
    "\n",
    "# set font\n",
    "plt.rcParams['font.family'] = 'DeJaVu Sans'\n",
    "plt.rcParams['font.sans-serif'] = 'Helvetica'\n",
    "\n",
    "# set the style of the axes and the text color\n",
    "plt.rcParams['axes.edgecolor']='#333F4B'\n",
    "plt.rcParams['axes.linewidth']=0.8\n",
    "plt.rcParams['xtick.color']='#333F4B'\n",
    "plt.rcParams['ytick.color']='#333F4B'\n",
    "plt.rcParams['text.color']='#333F4B'\n",
    "\n",
    "# we first need a numeric placeholder for the y axis\n",
    "my_range=list(range(1,len(feat_importance.index)+1))\n",
    "\n",
    "fig, ax = plt.subplots(figsize=(10,8))\n",
    "\n",
    "# create for each expense type an horizontal line that starts at x = 0 with the length \n",
    "# represented by the specific expense percentage value.\n",
    "plt.hlines(y=my_range, xmin=0, xmax=feat_importance['Absolute Weight'], color='#007ACC', alpha=0.2, linewidth=5)\n",
    "\n",
    "# create for each expense type a dot at the level of the expense percentage value\n",
    "plt.plot(feat_importance['Absolute Weight'], my_range, \"o\", markersize=5, color='#007ACC', alpha=0.6)\n",
    "\n",
    "# set labels\n",
    "ax.set_xlabel('Feature importance (Weight)', fontsize=16, fontweight='black', color = '#333F4B')\n",
    "ax.set_ylabel('')\n",
    "\n",
    "# set axis\n",
    "ax.tick_params(axis='both', which='major', labelsize=16)\n",
    "plt.yticks(my_range, feat_importance['Features'])\n",
    "\n",
    "# add an horizonal label for the y axis \n",
    "fig.text(0.1, 0.87, 'Features', fontsize=15, fontweight='black', color = '#333F4B')\n",
    "\n",
    "# change the style of the axis spines\n",
    "ax.spines['top'].set_color('none')\n",
    "ax.spines['right'].set_color('none')\n",
    "ax.spines['left'].set_smart_bounds(True)\n",
    "ax.spines['bottom'].set_smart_bounds(True)\n",
    "\n",
    "# set the spines position\n",
    "ax.spines['bottom'].set_position(('axes', -0.0))\n",
    "ax.spines['left'].set_position(('axes', 0.015))\n",
    "plt.savefig(r'C:\\Users\\hnbez\\Documents\\GitHub\\Portfolio_under_construction\\Sparkify/feat_importance.png',bbox_inches=\"tight\")"
   ]
  },
  {
   "cell_type": "code",
   "execution_count": null,
   "metadata": {},
   "outputs": [],
   "source": []
  }
 ],
 "metadata": {
  "kernelspec": {
   "display_name": "Python 3",
   "language": "python",
   "name": "python3"
  },
  "language_info": {
   "codemirror_mode": {
    "name": "ipython",
    "version": 3
   },
   "file_extension": ".py",
   "mimetype": "text/x-python",
   "name": "python",
   "nbconvert_exporter": "python",
   "pygments_lexer": "ipython3",
   "version": "3.7.6"
  }
 },
 "nbformat": 4,
 "nbformat_minor": 4
}
