{
 "cells": [
  {
   "cell_type": "code",
   "execution_count": 1,
   "metadata": {
    "colab": {},
    "colab_type": "code",
    "id": "QMljd0ar0v-3"
   },
   "outputs": [],
   "source": [
    "import pandas as pd\n",
    "import numpy as np\n",
    "import tensorflow as tf\n",
    "import matplotlib.pyplot as plt\n",
    "import itertools\n",
    "import zipfile\n",
    "\n",
    "from tensorflow.keras.layers import Input, Conv2D, Dense, Flatten, Dropout, GlobalMaxPooling2D, MaxPooling2D, BatchNormalization, GlobalAveragePooling2D\n",
    "from tensorflow.keras.models import Model\n",
    "from sklearn.metrics import confusion_matrix, plot_confusion_matrix, accuracy_score"
   ]
  },
  {
   "cell_type": "code",
   "execution_count": 3,
   "metadata": {
    "colab": {
     "base_uri": "https://localhost:8080/",
     "height": 204
    },
    "colab_type": "code",
    "id": "G4gayGFR5tIA",
    "outputId": "e0c9ee9c-ae6b-4f3d-b340-4e510f3222ac"
   },
   "outputs": [
    {
     "data": {
      "text/html": [
       "<div>\n",
       "<style scoped>\n",
       "    .dataframe tbody tr th:only-of-type {\n",
       "        vertical-align: middle;\n",
       "    }\n",
       "\n",
       "    .dataframe tbody tr th {\n",
       "        vertical-align: top;\n",
       "    }\n",
       "\n",
       "    .dataframe thead th {\n",
       "        text-align: right;\n",
       "    }\n",
       "</style>\n",
       "<table border=\"1\" class=\"dataframe\">\n",
       "  <thead>\n",
       "    <tr style=\"text-align: right;\">\n",
       "      <th></th>\n",
       "      <th>emotion</th>\n",
       "      <th>pixels</th>\n",
       "      <th>Usage</th>\n",
       "    </tr>\n",
       "  </thead>\n",
       "  <tbody>\n",
       "    <tr>\n",
       "      <th>0</th>\n",
       "      <td>0</td>\n",
       "      <td>70 80 82 72 58 58 60 63 54 58 60 48 89 115 121...</td>\n",
       "      <td>Training</td>\n",
       "    </tr>\n",
       "    <tr>\n",
       "      <th>1</th>\n",
       "      <td>0</td>\n",
       "      <td>151 150 147 155 148 133 111 140 170 174 182 15...</td>\n",
       "      <td>Training</td>\n",
       "    </tr>\n",
       "    <tr>\n",
       "      <th>2</th>\n",
       "      <td>2</td>\n",
       "      <td>231 212 156 164 174 138 161 173 182 200 106 38...</td>\n",
       "      <td>Training</td>\n",
       "    </tr>\n",
       "    <tr>\n",
       "      <th>3</th>\n",
       "      <td>4</td>\n",
       "      <td>24 32 36 30 32 23 19 20 30 41 21 22 32 34 21 1...</td>\n",
       "      <td>Training</td>\n",
       "    </tr>\n",
       "    <tr>\n",
       "      <th>4</th>\n",
       "      <td>6</td>\n",
       "      <td>4 0 0 0 0 0 0 0 0 0 0 0 3 15 23 28 48 50 58 84...</td>\n",
       "      <td>Training</td>\n",
       "    </tr>\n",
       "  </tbody>\n",
       "</table>\n",
       "</div>"
      ],
      "text/plain": [
       "   emotion                                             pixels     Usage\n",
       "0        0  70 80 82 72 58 58 60 63 54 58 60 48 89 115 121...  Training\n",
       "1        0  151 150 147 155 148 133 111 140 170 174 182 15...  Training\n",
       "2        2  231 212 156 164 174 138 161 173 182 200 106 38...  Training\n",
       "3        4  24 32 36 30 32 23 19 20 30 41 21 22 32 34 21 1...  Training\n",
       "4        6  4 0 0 0 0 0 0 0 0 0 0 0 3 15 23 28 48 50 58 84...  Training"
      ]
     },
     "execution_count": 3,
     "metadata": {
      "tags": []
     },
     "output_type": "execute_result"
    }
   ],
   "source": [
    "zf = zipfile.ZipFile('fer2013.zip') \n",
    "raw_data = pd.read_csv(zf.open('fer2013.csv'))\n",
    "raw_data.head()"
   ]
  },
  {
   "cell_type": "code",
   "execution_count": 4,
   "metadata": {
    "colab": {},
    "colab_type": "code",
    "id": "XSZo2AdrKSb3"
   },
   "outputs": [],
   "source": [
    "labels_mapping = {0: 'Anger', 1: 'Disgust', 2: 'Fear', 3: 'Happy', 4: 'Sad', 5: 'Surprise', 6: 'Neutral'}"
   ]
  },
  {
   "cell_type": "code",
   "execution_count": 5,
   "metadata": {
    "colab": {},
    "colab_type": "code",
    "id": "O4Oxsdz9KW-q"
   },
   "outputs": [],
   "source": [
    "def sep_data(df):\n",
    "    '''\n",
    "        Separates the train, validation and test data, according to the column 'usage' from the raw_data.\n",
    "    '''\n",
    "    train_data = df[df['Usage']=='Training'].reset_index().drop('index', axis=1)\n",
    "    valid_data = df[df['Usage']=='PrivateTest'].reset_index().drop('index', axis=1)\n",
    "    test_data = df[df['Usage']=='PublicTest'].reset_index().drop('index', axis=1)\n",
    "    \n",
    "    x_train = np.zeros((len(train_data),48,48))\n",
    "    for i in range(len(train_data)):\n",
    "        x_train[i] = np.array(train_data['pixels'][i].split()).astype(np.int).reshape(48,48)\n",
    "    y_train = train_data.emotion\n",
    "    \n",
    "    x_valid = np.zeros((len(valid_data),48,48))\n",
    "    for i in range(len(valid_data)):\n",
    "        x_valid[i] = np.array(valid_data['pixels'][i].split()).astype(np.int).reshape(48,48)\n",
    "    y_valid = valid_data.emotion\n",
    "    \n",
    "    x_test = np.zeros((len(test_data),48,48))\n",
    "    for i in range(len(test_data)):\n",
    "        x_test[i] = np.array(test_data['pixels'][i].split()).astype(np.int).reshape(48,48)\n",
    "    y_test = test_data.emotion\n",
    "    \n",
    "    return x_train, y_train, x_test, y_test, x_valid, y_valid"
   ]
  },
  {
   "cell_type": "code",
   "execution_count": 6,
   "metadata": {
    "colab": {},
    "colab_type": "code",
    "id": "xvnMr0yYKXlg"
   },
   "outputs": [],
   "source": [
    "x_train, y_train, x_test, y_test, x_valid, y_valid = sep_data(raw_data)"
   ]
  },
  {
   "cell_type": "code",
   "execution_count": 7,
   "metadata": {
    "colab": {
     "base_uri": "https://localhost:8080/",
     "height": 242
    },
    "colab_type": "code",
    "id": "wgsHKHgyKZHU",
    "outputId": "6e3cd436-4555-4d48-9aa8-52f6e035808f"
   },
   "outputs": [
    {
     "data": {
      "image/png": "[encoded data removed]",
      "text/plain": [
       "<Figure size 432x288 with 7 Axes>"
      ]
     },
     "metadata": {
      "needs_background": "light",
      "tags": []
     },
     "output_type": "display_data"
    }
   ],
   "source": [
    "for i in range(len(labels_mapping)):\n",
    "    emotion_ind = np.where(y_train==i)[0]\n",
    "    ind = np.random.choice(emotion_ind)\n",
    "    plt.subplot(2,4,i+1)\n",
    "    plt.imshow(x_train[ind], cmap='gray')\n",
    "    plt.title(labels_mapping[i])\n",
    "    plt.title(labels_mapping[i])\n",
    "    frame1 = plt.gca()\n",
    "    frame1.axes.get_xaxis().set_visible(False)\n",
    "    frame1.axes.get_yaxis().set_visible(False)"
   ]
  },
  {
   "cell_type": "code",
   "execution_count": 8,
   "metadata": {
    "colab": {},
    "colab_type": "code",
    "id": "-z320SwXKiQP"
   },
   "outputs": [],
   "source": [
    "def img_preproc(x_train, x_test, x_valid):\n",
    "    '''\n",
    "    Normalizes the images and expands one dimension.\n",
    "    '''\n",
    "    x_train, x_test, x_valid = x_train/255.0, x_test/255.0, x_valid/255.0\n",
    "    \n",
    "    x_train = np.expand_dims(x_train, -1)\n",
    "    x_test = np.expand_dims(x_test, -1)\n",
    "    x_test = np.expand_dims(x_test, -1)\n",
    "    \n",
    "    return x_train, x_test, x_valid"
   ]
  },
  {
   "cell_type": "code",
   "execution_count": 9,
   "metadata": {
    "colab": {},
    "colab_type": "code",
    "id": "BPSWHvyfKqt9"
   },
   "outputs": [],
   "source": [
    "x_train, x_test, x_valid = img_preproc(x_train, x_test, x_valid)"
   ]
  },
  {
   "cell_type": "code",
   "execution_count": 10,
   "metadata": {
    "colab": {
     "base_uri": "https://localhost:8080/",
     "height": 34
    },
    "colab_type": "code",
    "id": "1bJ35VrAKsCm",
    "outputId": "59ad6633-881b-469f-babb-b8e90e28aed4"
   },
   "outputs": [
    {
     "name": "stdout",
     "output_type": "stream",
     "text": [
      "the number of classes is 7.\n"
     ]
    }
   ],
   "source": [
    "# the number of classes\n",
    "K = len(set(y_train))\n",
    "print(\"the number of classes is {}.\".format(K))"
   ]
  },
  {
   "cell_type": "code",
   "execution_count": 11,
   "metadata": {
    "colab": {
     "base_uri": "https://localhost:8080/",
     "height": 136
    },
    "colab_type": "code",
    "id": "LbNZ_AL7qFX-",
    "outputId": "f3ca9925-8e1d-4137-b3eb-f0dfa7182c07"
   },
   "outputs": [
    {
     "data": {
      "text/plain": [
       "{0: 1.0266046844269623,\n",
       " 1: 9.406618610747053,\n",
       " 2: 1.0010460615781582,\n",
       " 3: 0.5684387684387685,\n",
       " 4: 0.8491274770777877,\n",
       " 5: 1.293372978330405,\n",
       " 6: 0.8260394187886636}"
      ]
     },
     "execution_count": 11,
     "metadata": {
      "tags": []
     },
     "output_type": "execute_result"
    }
   ],
   "source": [
    "lY = len(y_train)\n",
    "label_weights = {i: (1 / y_train[y_train==i].value_counts()[i])*(lY/7.0) for i in range(K)}\n",
    "label_weights"
   ]
  },
  {
   "cell_type": "code",
   "execution_count": 12,
   "metadata": {
    "colab": {},
    "colab_type": "code",
    "id": "2zl2ETfqKt7X"
   },
   "outputs": [],
   "source": [
    "#Hyperparameters\n",
    "filters1 = 48\n",
    "filters2 = 64\n",
    "filters3 = 128\n",
    "kernel_size = (3,3)\n",
    "activ1='relu'\n",
    "dropout_perc = 0.1\n",
    "pad = 'same'\n",
    "maxp = (2,2)\n",
    "\n",
    "\n",
    "#Building the model using the functional API\n",
    "\n",
    "i = Input(shape=x_train[0].shape) # This instantiate the input\n",
    "\n",
    "'''\n",
    "I removed the strides because for this small images, normal convolution followed by MaxPooling peforms better\n",
    "'''\n",
    "x = Conv2D(filters1, kernel_size, activation=activ1, padding=pad)(i) # This does the first convolution.\n",
    "x = BatchNormalization()(x)\n",
    "x = Conv2D(filters1, kernel_size, activation=activ1, padding=pad)(x) # This does the second convolution.\n",
    "x = BatchNormalization()(x)\n",
    "x = MaxPooling2D(maxp)(x)\n",
    "x = Conv2D(filters2, kernel_size, activation=activ1, padding=pad)(x) # This does the third convolution.\n",
    "x = BatchNormalization()(x)\n",
    "x = Conv2D(filters2, kernel_size, activation=activ1, padding=pad)(x) # This does the fourth convolution.\n",
    "x = BatchNormalization()(x)\n",
    "x = MaxPooling2D(maxp)(x)\n",
    "x = Conv2D(filters3, kernel_size, activation=activ1, padding=pad)(x) # This does the fifth convolution.\n",
    "x = BatchNormalization()(x)\n",
    "x = Conv2D(filters3, kernel_size, activation=activ1, padding=pad)(x) # This does the sixth convolution.\n",
    "x = BatchNormalization()(x)\n",
    "x = GlobalAveragePooling2D()(x)\n",
    "x = Flatten()(x) # We need to flatten in order to pass it to the Dense layers\n",
    "x = Dropout(dropout_perc)(x)\n",
    "x = Dense(512, activation=activ1)(x)\n",
    "x = Dropout(dropout_perc)(x)\n",
    "x = Dense(512, activation=activ1)(x)\n",
    "x = Dropout(dropout_perc)(x)\n",
    "x = Dense(K, activation='softmax')(x)\n",
    "\n",
    "model_benchmark = Model(i, x)"
   ]
  },
  {
   "cell_type": "code",
   "execution_count": 13,
   "metadata": {
    "colab": {},
    "colab_type": "code",
    "id": "6ROtpdSyKvcQ"
   },
   "outputs": [],
   "source": [
    "model_benchmark.compile(optimizer='nadam',\n",
    "              loss='sparse_categorical_crossentropy',\n",
    "              metrics=['accuracy'])"
   ]
  },
  {
   "cell_type": "code",
   "execution_count": 14,
   "metadata": {
    "colab": {
     "base_uri": "https://localhost:8080/",
     "height": 1000
    },
    "colab_type": "code",
    "id": "QzgCW_x6Kw9E",
    "outputId": "490b7354-078a-47b6-a0d7-bd6c612acf55"
   },
   "outputs": [
    {
     "name": "stdout",
     "output_type": "stream",
     "text": [
      "Epoch 1/200\n",
      "597/598 [============================>.] - ETA: 0s - loss: 1.8278 - accuracy: 0.2519\n",
      "Epoch 00001: val_accuracy improved from -inf to 0.40958, saving model to balanced_CNN_bench.hdf5\n",
      "599/598 [==============================] - 16s 26ms/step - loss: 1.8259 - accuracy: 0.2526 - val_loss: 1.5642 - val_accuracy: 0.4096\n",
      "Epoch 2/200\n",
      "597/598 [============================>.] - ETA: 0s - loss: 1.5172 - accuracy: 0.4196\n",
      "Epoch 00002: val_accuracy did not improve from 0.40958\n",
      "599/598 [==============================] - 15s 25ms/step - loss: 1.5177 - accuracy: 0.4198 - val_loss: 1.5773 - val_accuracy: 0.3895\n",
      "Epoch 3/200\n",
      "597/598 [============================>.] - ETA: 0s - loss: 1.3733 - accuracy: 0.4734\n",
      "Epoch 00003: val_accuracy improved from 0.40958 to 0.49485, saving model to balanced_CNN_bench.hdf5\n",
      "599/598 [==============================] - 15s 25ms/step - loss: 1.3734 - accuracy: 0.4736 - val_loss: 1.3403 - val_accuracy: 0.4948\n",
      "Epoch 4/200\n",
      "599/598 [==============================] - ETA: 0s - loss: 1.2972 - accuracy: 0.5050\n",
      "Epoch 00004: val_accuracy improved from 0.49485 to 0.52020, saving model to balanced_CNN_bench.hdf5\n",
      "599/598 [==============================] - 15s 25ms/step - loss: 1.2972 - accuracy: 0.5050 - val_loss: 1.2786 - val_accuracy: 0.5202\n",
      "Epoch 5/200\n",
      "598/598 [============================>.] - ETA: 0s - loss: 1.2430 - accuracy: 0.5227\n",
      "Epoch 00005: val_accuracy did not improve from 0.52020\n",
      "599/598 [==============================] - 15s 25ms/step - loss: 1.2429 - accuracy: 0.5227 - val_loss: 1.8823 - val_accuracy: 0.3034\n",
      "Epoch 6/200\n",
      "599/598 [==============================] - ETA: 0s - loss: 1.1846 - accuracy: 0.5430\n",
      "Epoch 00006: val_accuracy did not improve from 0.52020\n",
      "599/598 [==============================] - 15s 25ms/step - loss: 1.1846 - accuracy: 0.5430 - val_loss: 1.3173 - val_accuracy: 0.5060\n",
      "Epoch 7/200\n",
      "599/598 [==============================] - ETA: 0s - loss: 1.1555 - accuracy: 0.5516\n",
      "Epoch 00007: val_accuracy did not improve from 0.52020\n",
      "599/598 [==============================] - 15s 25ms/step - loss: 1.1555 - accuracy: 0.5516 - val_loss: 1.3438 - val_accuracy: 0.4670\n",
      "Epoch 8/200\n",
      "598/598 [============================>.] - ETA: 0s - loss: 1.1261 - accuracy: 0.5643\n",
      "Epoch 00008: val_accuracy did not improve from 0.52020\n",
      "599/598 [==============================] - 15s 25ms/step - loss: 1.1269 - accuracy: 0.5643 - val_loss: 1.2720 - val_accuracy: 0.5093\n",
      "Epoch 9/200\n",
      "597/598 [============================>.] - ETA: 0s - loss: 1.1011 - accuracy: 0.5721\n",
      "Epoch 00009: val_accuracy improved from 0.52020 to 0.58596, saving model to balanced_CNN_bench.hdf5\n",
      "599/598 [==============================] - 15s 25ms/step - loss: 1.1008 - accuracy: 0.5723 - val_loss: 1.0677 - val_accuracy: 0.5860\n",
      "Epoch 10/200\n",
      "598/598 [============================>.] - ETA: 0s - loss: 1.0767 - accuracy: 0.5761\n",
      "Epoch 00010: val_accuracy improved from 0.58596 to 0.60797, saving model to balanced_CNN_bench.hdf5\n",
      "599/598 [==============================] - 15s 25ms/step - loss: 1.0773 - accuracy: 0.5762 - val_loss: 1.0753 - val_accuracy: 0.6080\n",
      "Epoch 11/200\n",
      "599/598 [==============================] - ETA: 0s - loss: 1.0535 - accuracy: 0.5853\n",
      "Epoch 00011: val_accuracy did not improve from 0.60797\n",
      "599/598 [==============================] - 15s 25ms/step - loss: 1.0535 - accuracy: 0.5853 - val_loss: 1.0414 - val_accuracy: 0.5949\n",
      "Epoch 12/200\n",
      "597/598 [============================>.] - ETA: 0s - loss: 1.0175 - accuracy: 0.6016\n",
      "Epoch 00012: val_accuracy did not improve from 0.60797\n",
      "599/598 [==============================] - 15s 25ms/step - loss: 1.0172 - accuracy: 0.6018 - val_loss: 1.0618 - val_accuracy: 0.6071\n",
      "Epoch 13/200\n",
      "599/598 [==============================] - ETA: 0s - loss: 1.0199 - accuracy: 0.5977\n",
      "Epoch 00013: val_accuracy did not improve from 0.60797\n",
      "599/598 [==============================] - 15s 25ms/step - loss: 1.0199 - accuracy: 0.5977 - val_loss: 1.1871 - val_accuracy: 0.5486\n",
      "Epoch 14/200\n",
      "599/598 [==============================] - ETA: 0s - loss: 0.9726 - accuracy: 0.6113\n",
      "Epoch 00014: val_accuracy did not improve from 0.60797\n",
      "599/598 [==============================] - 15s 25ms/step - loss: 0.9726 - accuracy: 0.6113 - val_loss: 1.0510 - val_accuracy: 0.6024\n",
      "Epoch 15/200\n",
      "597/598 [============================>.] - ETA: 0s - loss: 0.9706 - accuracy: 0.6119\n",
      "Epoch 00015: val_accuracy did not improve from 0.60797\n",
      "599/598 [==============================] - 15s 25ms/step - loss: 0.9708 - accuracy: 0.6117 - val_loss: 1.2148 - val_accuracy: 0.5378\n",
      "Epoch 16/200\n",
      "599/598 [==============================] - ETA: 0s - loss: 0.9607 - accuracy: 0.6171\n",
      "Epoch 00016: val_accuracy improved from 0.60797 to 0.62357, saving model to balanced_CNN_bench.hdf5\n",
      "599/598 [==============================] - 15s 25ms/step - loss: 0.9607 - accuracy: 0.6171 - val_loss: 0.9923 - val_accuracy: 0.6236\n",
      "Epoch 17/200\n",
      "598/598 [============================>.] - ETA: 0s - loss: 0.9446 - accuracy: 0.6220\n",
      "Epoch 00017: val_accuracy did not improve from 0.62357\n",
      "599/598 [==============================] - 15s 25ms/step - loss: 0.9441 - accuracy: 0.6222 - val_loss: 1.0690 - val_accuracy: 0.5860\n",
      "Epoch 18/200\n",
      "598/598 [============================>.] - ETA: 0s - loss: 0.9316 - accuracy: 0.6278\n",
      "Epoch 00018: val_accuracy did not improve from 0.62357\n",
      "599/598 [==============================] - 15s 26ms/step - loss: 0.9315 - accuracy: 0.6278 - val_loss: 1.0730 - val_accuracy: 0.5988\n",
      "Epoch 19/200\n",
      "598/598 [============================>.] - ETA: 0s - loss: 0.9095 - accuracy: 0.6360\n",
      "Epoch 00019: val_accuracy did not improve from 0.62357\n",
      "599/598 [==============================] - 15s 26ms/step - loss: 0.9102 - accuracy: 0.6356 - val_loss: 1.0203 - val_accuracy: 0.6225\n",
      "Epoch 20/200\n",
      "598/598 [============================>.] - ETA: 0s - loss: 0.9135 - accuracy: 0.6347\n",
      "Epoch 00020: val_accuracy did not improve from 0.62357\n",
      "599/598 [==============================] - 15s 25ms/step - loss: 0.9137 - accuracy: 0.6347 - val_loss: 1.0197 - val_accuracy: 0.6219\n",
      "Epoch 21/200\n",
      "597/598 [============================>.] - ETA: 0s - loss: 0.8958 - accuracy: 0.6392\n",
      "Epoch 00021: val_accuracy improved from 0.62357 to 0.64085, saving model to balanced_CNN_bench.hdf5\n",
      "599/598 [==============================] - 15s 25ms/step - loss: 0.8951 - accuracy: 0.6394 - val_loss: 0.9728 - val_accuracy: 0.6408\n",
      "Epoch 22/200\n",
      "599/598 [==============================] - ETA: 0s - loss: 0.8734 - accuracy: 0.6467\n",
      "Epoch 00022: val_accuracy did not improve from 0.64085\n",
      "599/598 [==============================] - 15s 25ms/step - loss: 0.8734 - accuracy: 0.6467 - val_loss: 0.9626 - val_accuracy: 0.6395\n",
      "Epoch 23/200\n",
      "597/598 [============================>.] - ETA: 0s - loss: 0.8660 - accuracy: 0.6458\n",
      "Epoch 00023: val_accuracy did not improve from 0.64085\n",
      "599/598 [==============================] - 15s 25ms/step - loss: 0.8661 - accuracy: 0.6458 - val_loss: 0.9961 - val_accuracy: 0.6289\n",
      "Epoch 24/200\n",
      "598/598 [============================>.] - ETA: 0s - loss: 0.8632 - accuracy: 0.6542\n",
      "Epoch 00024: val_accuracy improved from 0.64085 to 0.64614, saving model to balanced_CNN_bench.hdf5\n",
      "599/598 [==============================] - 15s 26ms/step - loss: 0.8630 - accuracy: 0.6543 - val_loss: 0.9662 - val_accuracy: 0.6461\n",
      "Epoch 25/200\n",
      "598/598 [============================>.] - ETA: 0s - loss: 0.8586 - accuracy: 0.6526\n",
      "Epoch 00025: val_accuracy did not improve from 0.64614\n",
      "599/598 [==============================] - 15s 25ms/step - loss: 0.8583 - accuracy: 0.6526 - val_loss: 1.0416 - val_accuracy: 0.6096\n",
      "Epoch 26/200\n",
      "599/598 [==============================] - ETA: 0s - loss: 0.8453 - accuracy: 0.6563\n",
      "Epoch 00026: val_accuracy did not improve from 0.64614\n",
      "599/598 [==============================] - 15s 26ms/step - loss: 0.8453 - accuracy: 0.6563 - val_loss: 0.9489 - val_accuracy: 0.6445\n",
      "Epoch 27/200\n",
      "597/598 [============================>.] - ETA: 0s - loss: 0.8289 - accuracy: 0.6649\n",
      "Epoch 00027: val_accuracy improved from 0.64614 to 0.65088, saving model to balanced_CNN_bench.hdf5\n",
      "599/598 [==============================] - 15s 26ms/step - loss: 0.8294 - accuracy: 0.6647 - val_loss: 0.9444 - val_accuracy: 0.6509\n",
      "Epoch 28/200\n",
      "598/598 [============================>.] - ETA: 0s - loss: 0.8190 - accuracy: 0.6660\n",
      "Epoch 00028: val_accuracy improved from 0.65088 to 0.65339, saving model to balanced_CNN_bench.hdf5\n",
      "599/598 [==============================] - 16s 26ms/step - loss: 0.8192 - accuracy: 0.6660 - val_loss: 0.9353 - val_accuracy: 0.6534\n",
      "Epoch 29/200\n",
      "598/598 [============================>.] - ETA: 0s - loss: 0.8166 - accuracy: 0.6651\n",
      "Epoch 00029: val_accuracy did not improve from 0.65339\n",
      "599/598 [==============================] - 15s 25ms/step - loss: 0.8167 - accuracy: 0.6651 - val_loss: 0.9725 - val_accuracy: 0.6381\n",
      "Epoch 30/200\n",
      "597/598 [============================>.] - ETA: 0s - loss: 0.8126 - accuracy: 0.6664\n",
      "Epoch 00030: val_accuracy did not improve from 0.65339\n",
      "599/598 [==============================] - 15s 25ms/step - loss: 0.8132 - accuracy: 0.6664 - val_loss: 1.0462 - val_accuracy: 0.6183\n",
      "Epoch 31/200\n",
      "597/598 [============================>.] - ETA: 0s - loss: 0.8147 - accuracy: 0.6646\n",
      "Epoch 00031: val_accuracy did not improve from 0.65339\n",
      "599/598 [==============================] - 15s 25ms/step - loss: 0.8152 - accuracy: 0.6646 - val_loss: 1.0096 - val_accuracy: 0.6258\n",
      "Epoch 32/200\n",
      "599/598 [==============================] - ETA: 0s - loss: 0.8057 - accuracy: 0.6700\n",
      "Epoch 00032: val_accuracy did not improve from 0.65339\n",
      "599/598 [==============================] - 15s 25ms/step - loss: 0.8057 - accuracy: 0.6700 - val_loss: 0.9633 - val_accuracy: 0.6534\n",
      "Epoch 33/200\n",
      "599/598 [==============================] - ETA: 0s - loss: 0.7790 - accuracy: 0.6771\n",
      "Epoch 00033: val_accuracy did not improve from 0.65339\n",
      "599/598 [==============================] - 15s 25ms/step - loss: 0.7790 - accuracy: 0.6771 - val_loss: 0.9518 - val_accuracy: 0.6520\n",
      "Epoch 34/200\n",
      "599/598 [==============================] - ETA: 0s - loss: 0.7761 - accuracy: 0.6794\n",
      "Epoch 00034: val_accuracy improved from 0.65339 to 0.65868, saving model to balanced_CNN_bench.hdf5\n",
      "599/598 [==============================] - 15s 26ms/step - loss: 0.7761 - accuracy: 0.6794 - val_loss: 0.9494 - val_accuracy: 0.6587\n",
      "Epoch 35/200\n",
      "597/598 [============================>.] - ETA: 0s - loss: 0.7702 - accuracy: 0.6835\n",
      "Epoch 00035: val_accuracy did not improve from 0.65868\n",
      "599/598 [==============================] - 15s 25ms/step - loss: 0.7704 - accuracy: 0.6835 - val_loss: 1.0075 - val_accuracy: 0.6408\n",
      "Epoch 36/200\n",
      "599/598 [==============================] - ETA: 0s - loss: 0.7603 - accuracy: 0.6855\n",
      "Epoch 00036: val_accuracy did not improve from 0.65868\n",
      "599/598 [==============================] - 15s 25ms/step - loss: 0.7603 - accuracy: 0.6855 - val_loss: 0.9701 - val_accuracy: 0.6478\n",
      "Epoch 37/200\n",
      "598/598 [============================>.] - ETA: 0s - loss: 0.7620 - accuracy: 0.6871\n",
      "Epoch 00037: val_accuracy did not improve from 0.65868\n",
      "599/598 [==============================] - 15s 25ms/step - loss: 0.7618 - accuracy: 0.6871 - val_loss: 0.9715 - val_accuracy: 0.6489\n",
      "Epoch 38/200\n",
      "599/598 [==============================] - ETA: 0s - loss: 0.7496 - accuracy: 0.6945\n",
      "Epoch 00038: val_accuracy improved from 0.65868 to 0.66592, saving model to balanced_CNN_bench.hdf5\n",
      "599/598 [==============================] - 16s 26ms/step - loss: 0.7496 - accuracy: 0.6945 - val_loss: 0.9346 - val_accuracy: 0.6659\n",
      "Epoch 39/200\n",
      "598/598 [============================>.] - ETA: 0s - loss: 0.7450 - accuracy: 0.6946\n",
      "Epoch 00039: val_accuracy did not improve from 0.66592\n",
      "599/598 [==============================] - 15s 25ms/step - loss: 0.7452 - accuracy: 0.6945 - val_loss: 1.0236 - val_accuracy: 0.6364\n",
      "Epoch 40/200\n",
      "599/598 [==============================] - ETA: 0s - loss: 0.7641 - accuracy: 0.6850\n",
      "Epoch 00040: val_accuracy did not improve from 0.66592\n",
      "599/598 [==============================] - 15s 25ms/step - loss: 0.7641 - accuracy: 0.6850 - val_loss: 0.9375 - val_accuracy: 0.6556\n",
      "Epoch 41/200\n",
      "599/598 [==============================] - ETA: 0s - loss: 0.7363 - accuracy: 0.6963\n",
      "Epoch 00041: val_accuracy did not improve from 0.66592\n",
      "599/598 [==============================] - 15s 25ms/step - loss: 0.7363 - accuracy: 0.6963 - val_loss: 0.9519 - val_accuracy: 0.6548\n",
      "Epoch 42/200\n",
      "598/598 [============================>.] - ETA: 0s - loss: 0.7278 - accuracy: 0.7030\n",
      "Epoch 00042: val_accuracy improved from 0.66592 to 0.66927, saving model to balanced_CNN_bench.hdf5\n",
      "599/598 [==============================] - 15s 25ms/step - loss: 0.7279 - accuracy: 0.7029 - val_loss: 0.9408 - val_accuracy: 0.6693\n",
      "Epoch 43/200\n",
      "598/598 [============================>.] - ETA: 0s - loss: 0.7107 - accuracy: 0.7056\n",
      "Epoch 00043: val_accuracy did not improve from 0.66927\n",
      "599/598 [==============================] - 15s 25ms/step - loss: 0.7109 - accuracy: 0.7055 - val_loss: 0.9579 - val_accuracy: 0.6551\n",
      "Epoch 44/200\n",
      "597/598 [============================>.] - ETA: 0s - loss: 0.7269 - accuracy: 0.7033\n",
      "Epoch 00044: val_accuracy did not improve from 0.66927\n",
      "599/598 [==============================] - 15s 25ms/step - loss: 0.7266 - accuracy: 0.7034 - val_loss: 0.9532 - val_accuracy: 0.6651\n",
      "Epoch 45/200\n",
      "599/598 [==============================] - ETA: 0s - loss: 0.7183 - accuracy: 0.7046\n",
      "Epoch 00045: val_accuracy did not improve from 0.66927\n",
      "599/598 [==============================] - 15s 25ms/step - loss: 0.7183 - accuracy: 0.7046 - val_loss: 0.9624 - val_accuracy: 0.6559\n",
      "Epoch 46/200\n",
      "599/598 [==============================] - ETA: 0s - loss: 0.7103 - accuracy: 0.7076\n",
      "Epoch 00046: val_accuracy did not improve from 0.66927\n",
      "599/598 [==============================] - 15s 25ms/step - loss: 0.7103 - accuracy: 0.7076 - val_loss: 0.9550 - val_accuracy: 0.6556\n",
      "Epoch 47/200\n",
      "597/598 [============================>.] - ETA: 0s - loss: 0.6889 - accuracy: 0.7134\n",
      "Epoch 00047: val_accuracy did not improve from 0.66927\n",
      "599/598 [==============================] - 15s 25ms/step - loss: 0.6892 - accuracy: 0.7133 - val_loss: 1.0800 - val_accuracy: 0.6328\n",
      "Epoch 48/200\n",
      "599/598 [==============================] - ETA: 0s - loss: 0.6878 - accuracy: 0.7182\n",
      "Epoch 00048: val_accuracy did not improve from 0.66927\n",
      "599/598 [==============================] - 15s 25ms/step - loss: 0.6878 - accuracy: 0.7182 - val_loss: 0.9768 - val_accuracy: 0.6562\n",
      "Epoch 49/200\n",
      "597/598 [============================>.] - ETA: 0s - loss: 0.6961 - accuracy: 0.7157\n",
      "Epoch 00049: val_accuracy did not improve from 0.66927\n",
      "599/598 [==============================] - 15s 24ms/step - loss: 0.6958 - accuracy: 0.7158 - val_loss: 1.0549 - val_accuracy: 0.6272\n",
      "Epoch 50/200\n",
      "597/598 [============================>.] - ETA: 0s - loss: 0.6803 - accuracy: 0.7219\n",
      "Epoch 00050: val_accuracy did not improve from 0.66927\n",
      "599/598 [==============================] - 15s 25ms/step - loss: 0.6804 - accuracy: 0.7216 - val_loss: 0.9963 - val_accuracy: 0.6548\n",
      "Epoch 51/200\n",
      "597/598 [============================>.] - ETA: 0s - loss: 0.6679 - accuracy: 0.7216\n",
      "Epoch 00051: val_accuracy did not improve from 0.66927\n",
      "599/598 [==============================] - 15s 24ms/step - loss: 0.6676 - accuracy: 0.7218 - val_loss: 0.9941 - val_accuracy: 0.6523\n",
      "Epoch 52/200\n",
      "599/598 [==============================] - ETA: 0s - loss: 0.6803 - accuracy: 0.7191\n",
      "Epoch 00052: val_accuracy did not improve from 0.66927\n",
      "599/598 [==============================] - 15s 24ms/step - loss: 0.6803 - accuracy: 0.7191 - val_loss: 0.9423 - val_accuracy: 0.6693\n",
      "Epoch 53/200\n",
      "597/598 [============================>.] - ETA: 0s - loss: 0.6549 - accuracy: 0.7264\n",
      "Epoch 00053: val_accuracy did not improve from 0.66927\n",
      "599/598 [==============================] - 15s 24ms/step - loss: 0.6548 - accuracy: 0.7265 - val_loss: 0.9903 - val_accuracy: 0.6637\n",
      "Epoch 54/200\n",
      "599/598 [==============================] - ETA: 0s - loss: 0.6485 - accuracy: 0.7296\n",
      "Epoch 00054: val_accuracy did not improve from 0.66927\n",
      "599/598 [==============================] - 14s 24ms/step - loss: 0.6485 - accuracy: 0.7296 - val_loss: 0.9617 - val_accuracy: 0.6626\n",
      "Epoch 55/200\n",
      "597/598 [============================>.] - ETA: 0s - loss: 0.6543 - accuracy: 0.7251\n",
      "Epoch 00055: val_accuracy did not improve from 0.66927\n",
      "599/598 [==============================] - 15s 24ms/step - loss: 0.6547 - accuracy: 0.7250 - val_loss: 0.9414 - val_accuracy: 0.6668\n",
      "Epoch 56/200\n",
      "597/598 [============================>.] - ETA: 0s - loss: 0.6521 - accuracy: 0.7306\n",
      "Epoch 00056: val_accuracy did not improve from 0.66927\n",
      "599/598 [==============================] - 15s 24ms/step - loss: 0.6524 - accuracy: 0.7306 - val_loss: 0.9698 - val_accuracy: 0.6634\n",
      "Epoch 57/200\n",
      "597/598 [============================>.] - ETA: 0s - loss: 0.6446 - accuracy: 0.7316\n",
      "Epoch 00057: val_accuracy did not improve from 0.66927\n",
      "599/598 [==============================] - 15s 24ms/step - loss: 0.6448 - accuracy: 0.7315 - val_loss: 1.0342 - val_accuracy: 0.6400\n",
      "Epoch 58/200\n",
      "597/598 [============================>.] - ETA: 0s - loss: 0.6338 - accuracy: 0.7362\n",
      "Epoch 00058: val_accuracy did not improve from 0.66927\n",
      "599/598 [==============================] - 14s 24ms/step - loss: 0.6341 - accuracy: 0.7361 - val_loss: 1.0413 - val_accuracy: 0.6408\n",
      "Epoch 59/200\n",
      "598/598 [============================>.] - ETA: 0s - loss: 0.6547 - accuracy: 0.7315\n",
      "Epoch 00059: val_accuracy improved from 0.66927 to 0.67150, saving model to balanced_CNN_bench.hdf5\n",
      "599/598 [==============================] - 15s 25ms/step - loss: 0.6547 - accuracy: 0.7314 - val_loss: 0.9563 - val_accuracy: 0.6715\n",
      "Epoch 60/200\n",
      "598/598 [============================>.] - ETA: 0s - loss: 0.6232 - accuracy: 0.7386\n",
      "Epoch 00060: val_accuracy did not improve from 0.67150\n",
      "599/598 [==============================] - 14s 24ms/step - loss: 0.6232 - accuracy: 0.7386 - val_loss: 0.9954 - val_accuracy: 0.6651\n",
      "Epoch 61/200\n",
      "597/598 [============================>.] - ETA: 0s - loss: 0.6113 - accuracy: 0.7426\n",
      "Epoch 00061: val_accuracy did not improve from 0.67150\n",
      "599/598 [==============================] - 14s 24ms/step - loss: 0.6114 - accuracy: 0.7426 - val_loss: 0.9836 - val_accuracy: 0.6709\n",
      "Epoch 62/200\n",
      "598/598 [============================>.] - ETA: 0s - loss: 0.6204 - accuracy: 0.7439\n",
      "Epoch 00062: val_accuracy did not improve from 0.67150\n",
      "599/598 [==============================] - 14s 24ms/step - loss: 0.6203 - accuracy: 0.7440 - val_loss: 0.9876 - val_accuracy: 0.6648\n",
      "Epoch 63/200\n",
      "598/598 [============================>.] - ETA: 0s - loss: 0.6115 - accuracy: 0.7433\n",
      "Epoch 00063: val_accuracy improved from 0.67150 to 0.67512, saving model to balanced_CNN_bench.hdf5\n",
      "599/598 [==============================] - 14s 24ms/step - loss: 0.6115 - accuracy: 0.7433 - val_loss: 0.9671 - val_accuracy: 0.6751\n",
      "Epoch 64/200\n",
      "598/598 [============================>.] - ETA: 0s - loss: 0.5979 - accuracy: 0.7482\n",
      "Epoch 00064: val_accuracy did not improve from 0.67512\n",
      "599/598 [==============================] - 14s 24ms/step - loss: 0.5979 - accuracy: 0.7481 - val_loss: 1.0069 - val_accuracy: 0.6645\n",
      "Epoch 65/200\n",
      "599/598 [==============================] - ETA: 0s - loss: 0.5961 - accuracy: 0.7507\n",
      "Epoch 00065: val_accuracy improved from 0.67512 to 0.67735, saving model to balanced_CNN_bench.hdf5\n",
      "599/598 [==============================] - 14s 24ms/step - loss: 0.5961 - accuracy: 0.7507 - val_loss: 0.9756 - val_accuracy: 0.6773\n",
      "Epoch 66/200\n",
      "597/598 [============================>.] - ETA: 0s - loss: 0.6265 - accuracy: 0.7406\n",
      "Epoch 00066: val_accuracy did not improve from 0.67735\n",
      "599/598 [==============================] - 14s 24ms/step - loss: 0.6267 - accuracy: 0.7405 - val_loss: 1.0186 - val_accuracy: 0.6682\n",
      "Epoch 67/200\n",
      "599/598 [==============================] - ETA: 0s - loss: 0.5939 - accuracy: 0.7521\n",
      "Epoch 00067: val_accuracy did not improve from 0.67735\n",
      "599/598 [==============================] - 14s 24ms/step - loss: 0.5939 - accuracy: 0.7521 - val_loss: 0.9950 - val_accuracy: 0.6623\n",
      "Epoch 68/200\n",
      "599/598 [==============================] - ETA: 0s - loss: 0.6023 - accuracy: 0.7487\n",
      "Epoch 00068: val_accuracy did not improve from 0.67735\n",
      "599/598 [==============================] - 14s 24ms/step - loss: 0.6023 - accuracy: 0.7487 - val_loss: 0.9959 - val_accuracy: 0.6631\n",
      "Epoch 69/200\n",
      "598/598 [============================>.] - ETA: 0s - loss: 0.5951 - accuracy: 0.7511\n",
      "Epoch 00069: val_accuracy did not improve from 0.67735\n",
      "599/598 [==============================] - 14s 24ms/step - loss: 0.5953 - accuracy: 0.7509 - val_loss: 1.0009 - val_accuracy: 0.6748\n",
      "Epoch 70/200\n",
      "599/598 [==============================] - ETA: 0s - loss: 0.5889 - accuracy: 0.7576\n",
      "Epoch 00070: val_accuracy did not improve from 0.67735\n",
      "599/598 [==============================] - 14s 24ms/step - loss: 0.5889 - accuracy: 0.7576 - val_loss: 0.9788 - val_accuracy: 0.6757\n",
      "Epoch 71/200\n",
      "597/598 [============================>.] - ETA: 0s - loss: 0.5777 - accuracy: 0.7561\n",
      "Epoch 00071: val_accuracy improved from 0.67735 to 0.68264, saving model to balanced_CNN_bench.hdf5\n",
      "599/598 [==============================] - 14s 24ms/step - loss: 0.5774 - accuracy: 0.7561 - val_loss: 0.9546 - val_accuracy: 0.6826\n",
      "Epoch 72/200\n",
      "597/598 [============================>.] - ETA: 0s - loss: 0.5751 - accuracy: 0.7601\n",
      "Epoch 00072: val_accuracy did not improve from 0.68264\n",
      "599/598 [==============================] - 14s 24ms/step - loss: 0.5753 - accuracy: 0.7600 - val_loss: 0.9996 - val_accuracy: 0.6746\n",
      "Epoch 73/200\n",
      "598/598 [============================>.] - ETA: 0s - loss: 0.5657 - accuracy: 0.7643\n",
      "Epoch 00073: val_accuracy did not improve from 0.68264\n",
      "599/598 [==============================] - 14s 24ms/step - loss: 0.5658 - accuracy: 0.7644 - val_loss: 0.9956 - val_accuracy: 0.6732\n",
      "Epoch 74/200\n",
      "598/598 [============================>.] - ETA: 0s - loss: 0.5931 - accuracy: 0.7518\n",
      "Epoch 00074: val_accuracy did not improve from 0.68264\n",
      "599/598 [==============================] - 14s 24ms/step - loss: 0.5930 - accuracy: 0.7517 - val_loss: 0.9894 - val_accuracy: 0.6673\n",
      "Epoch 75/200\n",
      "597/598 [============================>.] - ETA: 0s - loss: 0.5638 - accuracy: 0.7648\n",
      "Epoch 00075: val_accuracy did not improve from 0.68264\n",
      "599/598 [==============================] - 14s 24ms/step - loss: 0.5637 - accuracy: 0.7646 - val_loss: 1.0042 - val_accuracy: 0.6776\n",
      "Epoch 76/200\n",
      "597/598 [============================>.] - ETA: 0s - loss: 0.5506 - accuracy: 0.7708\n",
      "Epoch 00076: val_accuracy did not improve from 0.68264\n",
      "599/598 [==============================] - 14s 24ms/step - loss: 0.5506 - accuracy: 0.7709 - val_loss: 0.9823 - val_accuracy: 0.6740\n",
      "Epoch 77/200\n",
      "598/598 [============================>.] - ETA: 0s - loss: 0.5543 - accuracy: 0.7654\n",
      "Epoch 00077: val_accuracy did not improve from 0.68264\n",
      "599/598 [==============================] - 14s 24ms/step - loss: 0.5541 - accuracy: 0.7655 - val_loss: 1.0629 - val_accuracy: 0.6562\n",
      "Epoch 78/200\n",
      "597/598 [============================>.] - ETA: 0s - loss: 0.5551 - accuracy: 0.7632\n",
      "Epoch 00078: val_accuracy did not improve from 0.68264\n",
      "599/598 [==============================] - 14s 24ms/step - loss: 0.5554 - accuracy: 0.7631 - val_loss: 0.9923 - val_accuracy: 0.6787\n",
      "Epoch 79/200\n",
      "599/598 [==============================] - ETA: 0s - loss: 0.5437 - accuracy: 0.7720\n",
      "Epoch 00079: val_accuracy did not improve from 0.68264\n",
      "599/598 [==============================] - 14s 24ms/step - loss: 0.5437 - accuracy: 0.7720 - val_loss: 1.0262 - val_accuracy: 0.6760\n",
      "Epoch 80/200\n",
      "598/598 [============================>.] - ETA: 0s - loss: 0.5356 - accuracy: 0.7739\n",
      "Epoch 00080: val_accuracy did not improve from 0.68264\n",
      "599/598 [==============================] - 14s 24ms/step - loss: 0.5359 - accuracy: 0.7739 - val_loss: 1.0205 - val_accuracy: 0.6709\n",
      "Epoch 81/200\n",
      "599/598 [==============================] - ETA: 0s - loss: 0.5453 - accuracy: 0.7724\n",
      "Epoch 00081: val_accuracy did not improve from 0.68264\n",
      "599/598 [==============================] - 14s 24ms/step - loss: 0.5453 - accuracy: 0.7724 - val_loss: 1.0408 - val_accuracy: 0.6676\n",
      "Epoch 82/200\n",
      "598/598 [============================>.] - ETA: 0s - loss: 0.5305 - accuracy: 0.7791\n",
      "Epoch 00082: val_accuracy did not improve from 0.68264\n",
      "599/598 [==============================] - 14s 24ms/step - loss: 0.5306 - accuracy: 0.7790 - val_loss: 1.0561 - val_accuracy: 0.6592\n",
      "Epoch 83/200\n",
      "599/598 [==============================] - ETA: 0s - loss: 0.5345 - accuracy: 0.7743\n",
      "Epoch 00083: val_accuracy did not improve from 0.68264\n",
      "599/598 [==============================] - 14s 24ms/step - loss: 0.5345 - accuracy: 0.7743 - val_loss: 1.0825 - val_accuracy: 0.6609\n",
      "Epoch 84/200\n",
      "598/598 [============================>.] - ETA: 0s - loss: 0.5367 - accuracy: 0.7785\n",
      "Epoch 00084: val_accuracy did not improve from 0.68264\n",
      "599/598 [==============================] - 14s 24ms/step - loss: 0.5367 - accuracy: 0.7785 - val_loss: 1.0534 - val_accuracy: 0.6623\n",
      "Epoch 85/200\n",
      "597/598 [============================>.] - ETA: 0s - loss: 0.5228 - accuracy: 0.7792\n",
      "Epoch 00085: val_accuracy did not improve from 0.68264\n",
      "599/598 [==============================] - 14s 24ms/step - loss: 0.5225 - accuracy: 0.7793 - val_loss: 1.0409 - val_accuracy: 0.6673\n",
      "Epoch 86/200\n",
      "597/598 [============================>.] - ETA: 0s - loss: 0.5085 - accuracy: 0.7881\n",
      "Epoch 00086: val_accuracy did not improve from 0.68264\n",
      "599/598 [==============================] - 14s 24ms/step - loss: 0.5082 - accuracy: 0.7883 - val_loss: 1.0772 - val_accuracy: 0.6687\n",
      "Epoch 87/200\n",
      "597/598 [============================>.] - ETA: 0s - loss: 0.5245 - accuracy: 0.7818\n",
      "Epoch 00087: val_accuracy did not improve from 0.68264\n",
      "599/598 [==============================] - 14s 24ms/step - loss: 0.5245 - accuracy: 0.7818 - val_loss: 1.0428 - val_accuracy: 0.6640\n",
      "Epoch 88/200\n",
      "599/598 [==============================] - ETA: 0s - loss: 0.5080 - accuracy: 0.7875\n",
      "Epoch 00088: val_accuracy did not improve from 0.68264\n",
      "599/598 [==============================] - 14s 24ms/step - loss: 0.5080 - accuracy: 0.7875 - val_loss: 1.1154 - val_accuracy: 0.6364\n",
      "Epoch 00088: early stopping\n"
     ]
    }
   ],
   "source": [
    "# Here I tried a larger number of epochs because with class_weight it seemed to a larger amount of epochs to train.\n",
    "\n",
    "batch_size = 48\n",
    "\n",
    "data_generator = tf.keras.preprocessing.image.ImageDataGenerator(width_shift_range=0.1, \n",
    "                                                                 height_shift_range=0.1, \n",
    "                                                                 zoom_range=.1,\n",
    "                                                                 horizontal_flip=True,\n",
    "                                                                 rotation_range=10)\n",
    "\n",
    "model_checkpoint_callback = tf.keras.callbacks.ModelCheckpoint(filepath='balanced_CNN_bench.hdf5', monitor='val_accuracy', mode='max', save_best_only=True, verbose=1)\n",
    "early_stop = tf.keras.callbacks.EarlyStopping(monitor='val_loss', min_delta=0, patience=50, verbose=1, mode='min')\n",
    "\n",
    "train_generator = data_generator.flow(x_train, y_train, batch_size)\n",
    "steps_per_epoch = x_train.shape[0] / batch_size\n",
    "fitted_model = model_benchmark.fit(train_generator, \n",
    "                                   validation_data=(x_valid, y_valid), \n",
    "                                   steps_per_epoch=steps_per_epoch, \n",
    "                                   epochs=200, \n",
    "                                   callbacks=[model_checkpoint_callback, early_stop],\n",
    "                                   class_weight=label_weights)"
   ]
  },
  {
   "cell_type": "code",
   "execution_count": 15,
   "metadata": {
    "colab": {
     "base_uri": "https://localhost:8080/",
     "height": 282
    },
    "colab_type": "code",
    "id": "sffb0jkwKyWw",
    "outputId": "21d22e8f-82dd-4605-fef9-240caa666e51"
   },
   "outputs": [
    {
     "data": {
      "text/plain": [
       "<matplotlib.legend.Legend at 0x7f815be6c128>"
      ]
     },
     "execution_count": 15,
     "metadata": {
      "tags": []
     },
     "output_type": "execute_result"
    },
    {
     "data": {
      "image/png": "[encoded data removed]",
      "text/plain": [
       "<Figure size 432x288 with 1 Axes>"
      ]
     },
     "metadata": {
      "needs_background": "light",
      "tags": []
     },
     "output_type": "display_data"
    }
   ],
   "source": [
    "plt.plot(fitted_model.history['loss'], label='loss')\n",
    "plt.plot(fitted_model.history['val_loss'], label='val_loss')\n",
    "plt.legend()"
   ]
  },
  {
   "cell_type": "code",
   "execution_count": 16,
   "metadata": {
    "colab": {
     "base_uri": "https://localhost:8080/",
     "height": 282
    },
    "colab_type": "code",
    "id": "eJyg6LLRMbDr",
    "outputId": "1836a9dc-c437-468f-8e6f-934f1af20d43"
   },
   "outputs": [
    {
     "data": {
      "text/plain": [
       "<matplotlib.legend.Legend at 0x7f815a698208>"
      ]
     },
     "execution_count": 16,
     "metadata": {
      "tags": []
     },
     "output_type": "execute_result"
    },
    {
     "data": {
      "image/png": "[encoded data removed]",
      "text/plain": [
       "<Figure size 432x288 with 1 Axes>"
      ]
     },
     "metadata": {
      "needs_background": "light",
      "tags": []
     },
     "output_type": "display_data"
    }
   ],
   "source": [
    "plt.plot(fitted_model.history['accuracy'], label='accuracy')\n",
    "plt.plot(fitted_model.history['val_accuracy'], label='val_accuracy')\n",
    "plt.legend()"
   ]
  },
  {
   "cell_type": "code",
   "execution_count": 17,
   "metadata": {
    "colab": {},
    "colab_type": "code",
    "id": "8qxPGlbTtiFO"
   },
   "outputs": [],
   "source": [
    "from tensorflow.keras.models import load_model\n",
    "saved_model = load_model(\"balanced_CNN_bench.hdf5\")"
   ]
  },
  {
   "cell_type": "code",
   "execution_count": 18,
   "metadata": {
    "colab": {
     "base_uri": "https://localhost:8080/",
     "height": 472
    },
    "colab_type": "code",
    "id": "ZK0qGt2BMh3X",
    "outputId": "d85599a4-956a-4bfe-a381-e681b51e1418"
   },
   "outputs": [
    {
     "name": "stdout",
     "output_type": "stream",
     "text": [
      "Normalized confusion matrix\n"
     ]
    },
    {
     "data": {
      "image/png": "[encoded data removed]",
      "text/plain": [
       "<Figure size 864x432 with 2 Axes>"
      ]
     },
     "metadata": {
      "needs_background": "light",
      "tags": []
     },
     "output_type": "display_data"
    }
   ],
   "source": [
    "# plotting confusion matrix\n",
    "\n",
    "def plot_confusion_matrix(cm, classes, normalize=True, title='Confusion matrix', cmap=plt.cm.Blues):\n",
    "  '''\n",
    "    This function plots the confusion matrix. This part of the code was highly based on one done by lazyprogrammer (lazyprogrammer.me).\n",
    "  '''\n",
    "\n",
    "  if normalize:\n",
    "    cm = cm.astype('float') / cm.sum(axis=1)[:, np.newaxis]\n",
    "    print('Normalized confusion matrix')\n",
    "  else:\n",
    "    print('Confusion matrix not normalized.')\n",
    "  \n",
    "  plt.figure(figsize=(12,6))\n",
    "  plt.imshow(cm, interpolation='nearest', cmap=cmap)\n",
    "  plt.title(title)\n",
    "  plt.colorbar()\n",
    "  tick_marks = np.arange(len(classes))\n",
    "  plt.xticks(tick_marks, classes, rotation=45)\n",
    "  plt.yticks(tick_marks, classes)\n",
    "\n",
    "  fmt = '.2f' if normalize else 'd'\n",
    "  thresh = cm.max() / 2.0\n",
    "  for i, j in itertools.product(range(cm.shape[0]), range(cm.shape[1])):\n",
    "    plt.text(j, i, format(cm[i,j],fmt),\n",
    "             horizontalalignment='center',\n",
    "             color='white' if cm[i, j] > thresh else 'black')\n",
    "    \n",
    "  plt.tight_layout()\n",
    "  plt.ylabel('True label')\n",
    "  plt.xlabel('Predicted label')\n",
    "  plt.show()\n",
    "\n",
    "p_test = saved_model.predict(x_test).argmax(axis=1)\n",
    "cm = confusion_matrix(y_test, p_test)\n",
    "plot_confusion_matrix(cm, list(range(K)))\n"
   ]
  },
  {
   "cell_type": "code",
   "execution_count": 19,
   "metadata": {
    "colab": {
     "base_uri": "https://localhost:8080/",
     "height": 34
    },
    "colab_type": "code",
    "id": "_67ryifLT837",
    "outputId": "c90e9430-890b-4338-8736-1545c6801340"
   },
   "outputs": [
    {
     "name": "stdout",
     "output_type": "stream",
     "text": [
      "CNN Model Accuracy on test set: 0.6578\n"
     ]
    }
   ],
   "source": [
    "print(\"CNN Model Accuracy on test set: {:.4f}\".format(accuracy_score(y_test, p_test)))"
   ]
  }
 ],
 "metadata": {
  "accelerator": "GPU",
  "colab": {
   "collapsed_sections": [],
   "name": "Balanced_Benchmark_FER_project.ipynb",
   "provenance": [],
   "toc_visible": true
  },
  "kernelspec": {
   "display_name": "Python 3",
   "language": "python",
   "name": "python3"
  },
  "language_info": {
   "codemirror_mode": {
    "name": "ipython",
    "version": 3
   },
   "file_extension": ".py",
   "mimetype": "text/x-python",
   "name": "python",
   "nbconvert_exporter": "python",
   "pygments_lexer": "ipython3",
   "version": "3.7.6"
  }
 },
 "nbformat": 4,
 "nbformat_minor": 4
}
